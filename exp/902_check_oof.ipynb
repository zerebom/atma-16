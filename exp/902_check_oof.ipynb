{
 "cells": [
  {
   "cell_type": "code",
   "execution_count": 2,
   "metadata": {},
   "outputs": [],
   "source": [
    "import polars as pl\n",
    "import pandas as pd\n",
    "from pathlib import Path\n",
    "\n",
    "import matplotlib.pyplot as plt\n",
    "import numpy as np\n",
    "import seaborn as sns\n",
    "\n",
    "\n",
    "from tqdm import tqdm\n",
    "\n",
    "import polars.selectors as cs\n",
    "import wandb\n",
    "\n",
    "from atma_16.dataset.dataset import AtmaData16Loader"
   ]
  },
  {
   "cell_type": "code",
   "execution_count": 3,
   "metadata": {},
   "outputs": [],
   "source": [
    "exp_name = \"902_check_oof\"\n",
    "input_dir = Path(\"../input\")\n",
    "output_dir = Path(\"../output\") / exp_name\n",
    "output_dir.mkdir(parents=True, exist_ok=True)"
   ]
  },
  {
   "cell_type": "code",
   "execution_count": 4,
   "metadata": {},
   "outputs": [],
   "source": [
    "oof_path = Path(\"../output/013_add_bpr_and_del_many_cand\") / \"oof_0.403530511424644.parquet\"\n",
    "oof_df = pl.read_parquet(oof_path)"
   ]
  },
  {
   "cell_type": "code",
   "execution_count": 5,
   "metadata": {},
   "outputs": [],
   "source": [
    "dl = AtmaData16Loader(input_dir=input_dir)\n",
    "\n",
    "train = dl.load_train_log()\n",
    "label = dl.load_train_label()\n",
    "yado = dl.load_yado()"
   ]
  },
  {
   "cell_type": "code",
   "execution_count": 6,
   "metadata": {},
   "outputs": [
    {
     "data": {
      "text/html": [
       "<div><style>\n",
       ".dataframe > thead > tr,\n",
       ".dataframe > tbody > tr {\n",
       "  text-align: right;\n",
       "  white-space: pre-wrap;\n",
       "}\n",
       "</style>\n",
       "<small>shape: (288_698, 6)</small><table border=\"1\" class=\"dataframe\"><thead><tr><th>session_id</th><th>last_yad_no</th><th>label_yad_no</th><th>last_sml_cd</th><th>label_sml_cd</th><th>max_seq_no</th></tr><tr><td>i64</td><td>i64</td><td>i64</td><td>i64</td><td>i64</td><td>i64</td></tr></thead><tbody><tr><td>196760</td><td>3498</td><td>11366</td><td>104</td><td>104</td><td>1</td></tr><tr><td>240407</td><td>6113</td><td>8150</td><td>125</td><td>125</td><td>2</td></tr><tr><td>204358</td><td>2214</td><td>5179</td><td>88</td><td>88</td><td>1</td></tr><tr><td>141174</td><td>11332</td><td>7833</td><td>288</td><td>288</td><td>1</td></tr><tr><td>21901</td><td>13794</td><td>4579</td><td>88</td><td>88</td><td>1</td></tr><tr><td>83894</td><td>13724</td><td>511</td><td>151</td><td>151</td><td>1</td></tr><tr><td>244212</td><td>11801</td><td>12767</td><td>125</td><td>186</td><td>1</td></tr><tr><td>264389</td><td>7668</td><td>4004</td><td>87</td><td>228</td><td>1</td></tr><tr><td>97920</td><td>4429</td><td>1146</td><td>408</td><td>408</td><td>2</td></tr><tr><td>103818</td><td>5013</td><td>7601</td><td>107</td><td>107</td><td>2</td></tr><tr><td>105920</td><td>9116</td><td>5260</td><td>104</td><td>104</td><td>1</td></tr><tr><td>71702</td><td>12818</td><td>5590</td><td>56</td><td>56</td><td>1</td></tr><tr><td>&hellip;</td><td>&hellip;</td><td>&hellip;</td><td>&hellip;</td><td>&hellip;</td><td>&hellip;</td></tr><tr><td>238031</td><td>9108</td><td>6963</td><td>116</td><td>49</td><td>1</td></tr><tr><td>125171</td><td>11557</td><td>856</td><td>0</td><td>112</td><td>1</td></tr><tr><td>282336</td><td>11537</td><td>13429</td><td>110</td><td>110</td><td>1</td></tr><tr><td>249967</td><td>11389</td><td>5956</td><td>333</td><td>217</td><td>1</td></tr><tr><td>242232</td><td>9401</td><td>10037</td><td>33</td><td>33</td><td>2</td></tr><tr><td>55705</td><td>10016</td><td>6298</td><td>193</td><td>193</td><td>1</td></tr><tr><td>267664</td><td>3899</td><td>5106</td><td>116</td><td>49</td><td>1</td></tr><tr><td>277358</td><td>5170</td><td>8902</td><td>128</td><td>128</td><td>1</td></tr><tr><td>154804</td><td>7204</td><td>2584</td><td>145</td><td>145</td><td>3</td></tr><tr><td>170393</td><td>5708</td><td>1744</td><td>419</td><td>419</td><td>2</td></tr><tr><td>15202</td><td>5999</td><td>672</td><td>157</td><td>157</td><td>1</td></tr><tr><td>100668</td><td>1262</td><td>455</td><td>337</td><td>263</td><td>1</td></tr></tbody></table></div>"
      ],
      "text/plain": [
       "shape: (288_698, 6)\n",
       "┌────────────┬─────────────┬──────────────┬─────────────┬──────────────┬────────────┐\n",
       "│ session_id ┆ last_yad_no ┆ label_yad_no ┆ last_sml_cd ┆ label_sml_cd ┆ max_seq_no │\n",
       "│ ---        ┆ ---         ┆ ---          ┆ ---         ┆ ---          ┆ ---        │\n",
       "│ i64        ┆ i64         ┆ i64          ┆ i64         ┆ i64          ┆ i64        │\n",
       "╞════════════╪═════════════╪══════════════╪═════════════╪══════════════╪════════════╡\n",
       "│ 196760     ┆ 3498        ┆ 11366        ┆ 104         ┆ 104          ┆ 1          │\n",
       "│ 240407     ┆ 6113        ┆ 8150         ┆ 125         ┆ 125          ┆ 2          │\n",
       "│ 204358     ┆ 2214        ┆ 5179         ┆ 88          ┆ 88           ┆ 1          │\n",
       "│ 141174     ┆ 11332       ┆ 7833         ┆ 288         ┆ 288          ┆ 1          │\n",
       "│ …          ┆ …           ┆ …            ┆ …           ┆ …            ┆ …          │\n",
       "│ 154804     ┆ 7204        ┆ 2584         ┆ 145         ┆ 145          ┆ 3          │\n",
       "│ 170393     ┆ 5708        ┆ 1744         ┆ 419         ┆ 419          ┆ 2          │\n",
       "│ 15202      ┆ 5999        ┆ 672          ┆ 157         ┆ 157          ┆ 1          │\n",
       "│ 100668     ┆ 1262        ┆ 455          ┆ 337         ┆ 263          ┆ 1          │\n",
       "└────────────┴─────────────┴──────────────┴─────────────┴──────────────┴────────────┘"
      ]
     },
     "execution_count": 6,
     "metadata": {},
     "output_type": "execute_result"
    }
   ],
   "source": [
    "col = \"sml_cd\"\n",
    "last_log = train.group_by(\"session_id\").tail(1)\n",
    "max_seq_no = train.group_by(\"session_id\").agg((pl.lit(1) + pl.col(\"seq_no\").max()).alias(\"max_seq_no\"))\n",
    "\n",
    "df = (\n",
    "    last_log.join(label, on=\"session_id\")\n",
    "    .join(yado, on=\"yad_no\")\n",
    "    .join(yado, left_on=\"yad_no_right\", right_on=\"yad_no\", how=\"left\")\n",
    "    .join(max_seq_no, on=\"session_id\")\n",
    "    .select([\"session_id\", \"yad_no\", \"yad_no_right\", col, f\"{col}_right\", \"max_seq_no\"])\n",
    "    .rename(\n",
    "        {\n",
    "            \"yad_no\": \"last_yad_no\",\n",
    "            \"yad_no_right\": \"label_yad_no\",\n",
    "            f\"{col}_right\": f\"label_{col}\",\n",
    "            f\"{col}\": f\"last_{col}\",\n",
    "        }\n",
    "    )\n",
    ")\n",
    "df"
   ]
  },
  {
   "cell_type": "code",
   "execution_count": 73,
   "metadata": {},
   "outputs": [
    {
     "data": {
      "text/plain": [
       "0.9982208801320598"
      ]
     },
     "execution_count": 73,
     "metadata": {},
     "output_type": "execute_result"
    }
   ],
   "source": [
    "len(oof_df[[\"session_id\", \"yad_no\"]].unique()) / len(oof_df)"
   ]
  },
  {
   "cell_type": "code",
   "execution_count": 81,
   "metadata": {},
   "outputs": [
    {
     "data": {
      "text/plain": [
       "<Axes: ylabel='Frequency'>"
      ]
     },
     "execution_count": 81,
     "metadata": {},
     "output_type": "execute_result"
    },
    {
     "data": {
      "image/png": "[encoded data removed]",
      "text/plain": [
       "<Figure size 640x480 with 1 Axes>"
      ]
     },
     "metadata": {},
     "output_type": "display_data"
    }
   ],
   "source": [
    "oof_df = oof_df.unique(subset=[\"session_id\", \"yad_no\"])\n",
    "\n",
    "ses_pred_df = (\n",
    "    oof_df[\"session_id\"]\n",
    "    .unique()\n",
    "    .to_frame()\n",
    "    .join(oof_df.filter(pl.col(\"label\") == 1), how=\"left\", on=\"session_id\")\n",
    "    .fill_null(-1)\n",
    "    .join(max_seq_no, on=\"session_id\")\n",
    "    .sort(\"session_id\")\n",
    ")\n",
    "\n",
    "# sns.boxplot(ses_pred_df.to_pandas(), x=\"max_seq_no\", y=\"rank\")\n",
    "ses_pred_df.filter(pl.col(\"max_seq_no\") == 1).to_pandas()[\"rank\"].plot.hist(bins=11, alpha=0.5)\n",
    "\n",
    "ses_pred_df.filter(pl.col(\"max_seq_no\") > 1).to_pandas()[\"rank\"].plot.hist(bins=11, alpha=0.5)"
   ]
  },
  {
   "cell_type": "code",
   "execution_count": null,
   "metadata": {},
   "outputs": [],
   "source": []
  },
  {
   "cell_type": "code",
   "execution_count": 85,
   "metadata": {},
   "outputs": [],
   "source": [
    "pl.Config.set_tbl_rows(100)\n",
    "pl.Config.set_fmt_table_cell_list_len(10)\n",
    "\n",
    "pred_list_df = (\n",
    "    oof_df.join(yado.select([\"yad_no\", col]), on=\"yad_no\", how=\"left\")\n",
    "    .join(df, on=\"session_id\", how=\"left\")\n",
    "    .group_by(\"session_id\", \"max_seq_no\")\n",
    "    .agg([\"label\", col, f\"last_{col}\", f\"label_{col}\"])\n",
    "    .with_columns(pl.col(f\"last_{col}\").list.get(0), pl.col(f\"label_{col}\").list.get(0))\n",
    "    .sort(\"session_id\")\n",
    ")"
   ]
  },
  {
   "cell_type": "code",
   "execution_count": 7,
   "metadata": {},
   "outputs": [
    {
     "data": {
      "text/html": [
       "<div><style>\n",
       ".dataframe > thead > tr,\n",
       ".dataframe > tbody > tr {\n",
       "  text-align: right;\n",
       "  white-space: pre-wrap;\n",
       "}\n",
       "</style>\n",
       "<small>shape: (2_886_980, 11)</small><table border=\"1\" class=\"dataframe\"><thead><tr><th>session_id</th><th>yad_no</th><th>label</th><th>score</th><th>rank</th><th>sml_cd</th><th>last_yad_no</th><th>label_yad_no</th><th>last_sml_cd</th><th>label_sml_cd</th><th>max_seq_no</th></tr><tr><td>i64</td><td>i64</td><td>i32</td><td>f32</td><td>u32</td><td>i64</td><td>i64</td><td>i64</td><td>i64</td><td>i64</td><td>i64</td></tr></thead><tbody><tr><td>0</td><td>11882</td><td>0</td><td>0.167535</td><td>1</td><td>293</td><td>2395</td><td>4101</td><td>293</td><td>293</td><td>1</td></tr><tr><td>0</td><td>2808</td><td>0</td><td>0.128543</td><td>2</td><td>293</td><td>2395</td><td>4101</td><td>293</td><td>293</td><td>1</td></tr><tr><td>0</td><td>5821</td><td>0</td><td>0.07864</td><td>3</td><td>293</td><td>2395</td><td>4101</td><td>293</td><td>293</td><td>1</td></tr><tr><td>0</td><td>5289</td><td>0</td><td>0.076182</td><td>4</td><td>293</td><td>2395</td><td>4101</td><td>293</td><td>293</td><td>1</td></tr><tr><td>0</td><td>4101</td><td>1</td><td>0.06664</td><td>5</td><td>293</td><td>2395</td><td>4101</td><td>293</td><td>293</td><td>1</td></tr><tr><td>0</td><td>12837</td><td>0</td><td>0.05621</td><td>6</td><td>293</td><td>2395</td><td>4101</td><td>293</td><td>293</td><td>1</td></tr><tr><td>0</td><td>7281</td><td>0</td><td>0.03808</td><td>7</td><td>293</td><td>2395</td><td>4101</td><td>293</td><td>293</td><td>1</td></tr><tr><td>0</td><td>3324</td><td>0</td><td>0.02744</td><td>8</td><td>293</td><td>2395</td><td>4101</td><td>293</td><td>293</td><td>1</td></tr><tr><td>0</td><td>1648</td><td>0</td><td>0.022576</td><td>9</td><td>293</td><td>2395</td><td>4101</td><td>293</td><td>293</td><td>1</td></tr><tr><td>0</td><td>7157</td><td>0</td><td>0.022545</td><td>10</td><td>293</td><td>2395</td><td>4101</td><td>293</td><td>293</td><td>1</td></tr><tr><td>1</td><td>8253</td><td>1</td><td>0.038024</td><td>1</td><td>88</td><td>13535</td><td>8253</td><td>88</td><td>88</td><td>1</td></tr><tr><td>1</td><td>2259</td><td>0</td><td>0.030171</td><td>2</td><td>88</td><td>13535</td><td>8253</td><td>88</td><td>88</td><td>1</td></tr><tr><td>&hellip;</td><td>&hellip;</td><td>&hellip;</td><td>&hellip;</td><td>&hellip;</td><td>&hellip;</td><td>&hellip;</td><td>&hellip;</td><td>&hellip;</td><td>&hellip;</td><td>&hellip;</td></tr><tr><td>288696</td><td>11316</td><td>0</td><td>0.000916</td><td>9</td><td>306</td><td>12230</td><td>10619</td><td>306</td><td>306</td><td>3</td></tr><tr><td>288696</td><td>1735</td><td>0</td><td>0.000866</td><td>10</td><td>306</td><td>12230</td><td>10619</td><td>306</td><td>306</td><td>3</td></tr><tr><td>288697</td><td>2439</td><td>1</td><td>0.53407</td><td>1</td><td>2</td><td>11822</td><td>2439</td><td>2</td><td>2</td><td>2</td></tr><tr><td>288697</td><td>2981</td><td>0</td><td>0.037807</td><td>2</td><td>2</td><td>11822</td><td>2439</td><td>2</td><td>2</td><td>2</td></tr><tr><td>288697</td><td>1372</td><td>0</td><td>0.010953</td><td>3</td><td>2</td><td>11822</td><td>2439</td><td>2</td><td>2</td><td>2</td></tr><tr><td>288697</td><td>3</td><td>0</td><td>0.010881</td><td>4</td><td>2</td><td>11822</td><td>2439</td><td>2</td><td>2</td><td>2</td></tr><tr><td>288697</td><td>10095</td><td>0</td><td>0.010694</td><td>5</td><td>424</td><td>11822</td><td>2439</td><td>2</td><td>2</td><td>2</td></tr><tr><td>288697</td><td>12154</td><td>0</td><td>0.006955</td><td>6</td><td>2</td><td>11822</td><td>2439</td><td>2</td><td>2</td><td>2</td></tr><tr><td>288697</td><td>9624</td><td>0</td><td>0.005594</td><td>7</td><td>2</td><td>11822</td><td>2439</td><td>2</td><td>2</td><td>2</td></tr><tr><td>288697</td><td>10439</td><td>0</td><td>0.003941</td><td>8</td><td>2</td><td>11822</td><td>2439</td><td>2</td><td>2</td><td>2</td></tr><tr><td>288697</td><td>10415</td><td>0</td><td>0.001713</td><td>9</td><td>2</td><td>11822</td><td>2439</td><td>2</td><td>2</td><td>2</td></tr><tr><td>288697</td><td>11822</td><td>0</td><td>0.001593</td><td>10</td><td>2</td><td>11822</td><td>2439</td><td>2</td><td>2</td><td>2</td></tr></tbody></table></div>"
      ],
      "text/plain": [
       "shape: (2_886_980, 11)\n",
       "┌────────────┬────────┬───────┬──────────┬───┬─────────────┬─────────────┬────────────┬────────────┐\n",
       "│ session_id ┆ yad_no ┆ label ┆ score    ┆ … ┆ label_yad_n ┆ last_sml_cd ┆ label_sml_ ┆ max_seq_no │\n",
       "│ ---        ┆ ---    ┆ ---   ┆ ---      ┆   ┆ o           ┆ ---         ┆ cd         ┆ ---        │\n",
       "│ i64        ┆ i64    ┆ i32   ┆ f32      ┆   ┆ ---         ┆ i64         ┆ ---        ┆ i64        │\n",
       "│            ┆        ┆       ┆          ┆   ┆ i64         ┆             ┆ i64        ┆            │\n",
       "╞════════════╪════════╪═══════╪══════════╪═══╪═════════════╪═════════════╪════════════╪════════════╡\n",
       "│ 0          ┆ 11882  ┆ 0     ┆ 0.167535 ┆ … ┆ 4101        ┆ 293         ┆ 293        ┆ 1          │\n",
       "│ 0          ┆ 2808   ┆ 0     ┆ 0.128543 ┆ … ┆ 4101        ┆ 293         ┆ 293        ┆ 1          │\n",
       "│ 0          ┆ 5821   ┆ 0     ┆ 0.07864  ┆ … ┆ 4101        ┆ 293         ┆ 293        ┆ 1          │\n",
       "│ 0          ┆ 5289   ┆ 0     ┆ 0.076182 ┆ … ┆ 4101        ┆ 293         ┆ 293        ┆ 1          │\n",
       "│ …          ┆ …      ┆ …     ┆ …        ┆ … ┆ …           ┆ …           ┆ …          ┆ …          │\n",
       "│ 288697     ┆ 9624   ┆ 0     ┆ 0.005594 ┆ … ┆ 2439        ┆ 2           ┆ 2          ┆ 2          │\n",
       "│ 288697     ┆ 10439  ┆ 0     ┆ 0.003941 ┆ … ┆ 2439        ┆ 2           ┆ 2          ┆ 2          │\n",
       "│ 288697     ┆ 10415  ┆ 0     ┆ 0.001713 ┆ … ┆ 2439        ┆ 2           ┆ 2          ┆ 2          │\n",
       "│ 288697     ┆ 11822  ┆ 0     ┆ 0.001593 ┆ … ┆ 2439        ┆ 2           ┆ 2          ┆ 2          │\n",
       "└────────────┴────────┴───────┴──────────┴───┴─────────────┴─────────────┴────────────┴────────────┘"
      ]
     },
     "execution_count": 7,
     "metadata": {},
     "output_type": "execute_result"
    }
   ],
   "source": [
    "oof_df.join(yado.select([\"yad_no\", col]), on=\"yad_no\", how=\"left\").join(df, on=\"session_id\", how=\"left\")"
   ]
  },
  {
   "cell_type": "code",
   "execution_count": 137,
   "metadata": {},
   "outputs": [
    {
     "data": {
      "text/plain": [
       "0"
      ]
     },
     "execution_count": 137,
     "metadata": {},
     "output_type": "execute_result"
    }
   ],
   "source": [
    "yado[\"sml_cd\"].is_null().sum()"
   ]
  },
  {
   "cell_type": "code",
   "execution_count": 140,
   "metadata": {},
   "outputs": [
    {
     "data": {
      "text/plain": [
       "1638"
      ]
     },
     "execution_count": 140,
     "metadata": {},
     "output_type": "execute_result"
    }
   ],
   "source": [
    "oof_df[\"yad_no\"].is_null().sum()"
   ]
  },
  {
   "cell_type": "code",
   "execution_count": 138,
   "metadata": {},
   "outputs": [
    {
     "data": {
      "text/html": [
       "<div><style>\n",
       ".dataframe > thead > tr,\n",
       ".dataframe > tbody > tr {\n",
       "  text-align: right;\n",
       "  white-space: pre-wrap;\n",
       "}\n",
       "</style>\n",
       "<small>shape: (1_527, 11)</small><table border=\"1\" class=\"dataframe\"><thead><tr><th>session_id</th><th>yad_no</th><th>label</th><th>score</th><th>rank</th><th>sml_cd</th><th>last_yad_no</th><th>label_yad_no</th><th>last_sml_cd</th><th>label_sml_cd</th><th>max_seq_no</th></tr><tr><td>i64</td><td>i64</td><td>i32</td><td>f32</td><td>u32</td><td>i64</td><td>i64</td><td>i64</td><td>i64</td><td>i64</td><td>i64</td></tr></thead><tbody><tr><td>109985</td><td>null</td><td>0</td><td>1.1288e-10</td><td>10</td><td>null</td><td>13708</td><td>2383</td><td>24</td><td>24</td><td>1</td></tr><tr><td>222497</td><td>null</td><td>0</td><td>1.0628e-10</td><td>10</td><td>null</td><td>6242</td><td>2816</td><td>210</td><td>210</td><td>1</td></tr><tr><td>173993</td><td>null</td><td>0</td><td>2.8169e-9</td><td>10</td><td>null</td><td>1614</td><td>7517</td><td>19</td><td>19</td><td>1</td></tr><tr><td>281251</td><td>null</td><td>0</td><td>1.5611e-9</td><td>10</td><td>null</td><td>1215</td><td>9678</td><td>419</td><td>419</td><td>1</td></tr><tr><td>263740</td><td>null</td><td>0</td><td>2.5193e-10</td><td>10</td><td>null</td><td>4421</td><td>11099</td><td>485</td><td>485</td><td>1</td></tr><tr><td>282615</td><td>null</td><td>0</td><td>5.5389e-8</td><td>10</td><td>null</td><td>11078</td><td>2653</td><td>143</td><td>143</td><td>1</td></tr><tr><td>206738</td><td>null</td><td>0</td><td>4.4010e-8</td><td>10</td><td>null</td><td>1039</td><td>2588</td><td>88</td><td>88</td><td>1</td></tr><tr><td>238791</td><td>null</td><td>0</td><td>3.7551e-9</td><td>10</td><td>null</td><td>9587</td><td>13027</td><td>263</td><td>263</td><td>1</td></tr><tr><td>112972</td><td>null</td><td>0</td><td>4.1386e-9</td><td>10</td><td>null</td><td>730</td><td>10865</td><td>302</td><td>302</td><td>1</td></tr><tr><td>112312</td><td>null</td><td>0</td><td>4.4292e-9</td><td>10</td><td>null</td><td>5895</td><td>4088</td><td>455</td><td>455</td><td>1</td></tr><tr><td>205861</td><td>null</td><td>0</td><td>2.2703e-9</td><td>10</td><td>null</td><td>10999</td><td>159</td><td>123</td><td>123</td><td>1</td></tr><tr><td>162465</td><td>null</td><td>0</td><td>6.6916e-8</td><td>10</td><td>null</td><td>1029</td><td>1171</td><td>250</td><td>250</td><td>1</td></tr><tr><td>204821</td><td>null</td><td>0</td><td>1.4691e-7</td><td>10</td><td>null</td><td>355</td><td>9842</td><td>134</td><td>326</td><td>1</td></tr><tr><td>108609</td><td>null</td><td>0</td><td>4.5719e-9</td><td>10</td><td>null</td><td>9271</td><td>26</td><td>23</td><td>23</td><td>1</td></tr><tr><td>10131</td><td>null</td><td>0</td><td>1.3846e-8</td><td>10</td><td>null</td><td>10833</td><td>3988</td><td>70</td><td>70</td><td>1</td></tr><tr><td>72614</td><td>null</td><td>0</td><td>3.9318e-9</td><td>10</td><td>null</td><td>5176</td><td>157</td><td>51</td><td>51</td><td>1</td></tr><tr><td>211947</td><td>null</td><td>0</td><td>1.5041e-7</td><td>9</td><td>null</td><td>7720</td><td>6785</td><td>420</td><td>420</td><td>1</td></tr><tr><td>70996</td><td>null</td><td>0</td><td>8.7045e-8</td><td>10</td><td>null</td><td>1793</td><td>6777</td><td>117</td><td>117</td><td>1</td></tr><tr><td>122265</td><td>null</td><td>0</td><td>9.8394e-8</td><td>10</td><td>null</td><td>6811</td><td>7707</td><td>368</td><td>368</td><td>1</td></tr><tr><td>190416</td><td>null</td><td>0</td><td>2.3472e-9</td><td>10</td><td>null</td><td>1118</td><td>10050</td><td>397</td><td>397</td><td>1</td></tr><tr><td>21636</td><td>null</td><td>0</td><td>4.0407e-9</td><td>10</td><td>null</td><td>9499</td><td>10753</td><td>65</td><td>65</td><td>1</td></tr><tr><td>273997</td><td>null</td><td>0</td><td>3.9129e-8</td><td>10</td><td>null</td><td>2123</td><td>1877</td><td>142</td><td>142</td><td>1</td></tr><tr><td>244765</td><td>null</td><td>0</td><td>3.4510e-9</td><td>10</td><td>null</td><td>10666</td><td>7612</td><td>232</td><td>232</td><td>1</td></tr><tr><td>184300</td><td>null</td><td>0</td><td>1.3538e-7</td><td>10</td><td>null</td><td>6508</td><td>642</td><td>104</td><td>142</td><td>1</td></tr><tr><td>82999</td><td>null</td><td>0</td><td>2.9860e-9</td><td>10</td><td>null</td><td>8492</td><td>165</td><td>127</td><td>127</td><td>1</td></tr><tr><td>126158</td><td>null</td><td>0</td><td>5.6553e-9</td><td>7</td><td>null</td><td>4069</td><td>1113</td><td>406</td><td>406</td><td>1</td></tr><tr><td>142413</td><td>null</td><td>0</td><td>4.1204e-9</td><td>10</td><td>null</td><td>476</td><td>11051</td><td>275</td><td>275</td><td>1</td></tr><tr><td>97896</td><td>null</td><td>0</td><td>6.0927e-8</td><td>10</td><td>null</td><td>12101</td><td>7300</td><td>340</td><td>340</td><td>1</td></tr><tr><td>288324</td><td>null</td><td>0</td><td>1.4027e-7</td><td>10</td><td>null</td><td>5190</td><td>132</td><td>210</td><td>22</td><td>1</td></tr><tr><td>62325</td><td>null</td><td>0</td><td>1.5850e-10</td><td>10</td><td>null</td><td>5159</td><td>7783</td><td>85</td><td>85</td><td>1</td></tr><tr><td>104973</td><td>null</td><td>0</td><td>1.1941e-7</td><td>10</td><td>null</td><td>12421</td><td>11771</td><td>142</td><td>142</td><td>1</td></tr><tr><td>12324</td><td>null</td><td>0</td><td>1.3982e-10</td><td>10</td><td>null</td><td>7507</td><td>868</td><td>24</td><td>24</td><td>1</td></tr><tr><td>86534</td><td>null</td><td>0</td><td>1.3674e-7</td><td>10</td><td>null</td><td>3570</td><td>659</td><td>277</td><td>277</td><td>1</td></tr><tr><td>147189</td><td>null</td><td>0</td><td>6.5126e-11</td><td>10</td><td>null</td><td>603</td><td>10724</td><td>313</td><td>313</td><td>1</td></tr><tr><td>230461</td><td>null</td><td>0</td><td>6.9896e-11</td><td>10</td><td>null</td><td>9903</td><td>11009</td><td>124</td><td>124</td><td>1</td></tr><tr><td>165169</td><td>null</td><td>0</td><td>1.3238e-7</td><td>10</td><td>null</td><td>11174</td><td>5562</td><td>198</td><td>208</td><td>1</td></tr><tr><td>197762</td><td>null</td><td>0</td><td>2.6984e-9</td><td>10</td><td>null</td><td>5569</td><td>537</td><td>242</td><td>242</td><td>1</td></tr><tr><td>278651</td><td>null</td><td>0</td><td>8.9483e-8</td><td>10</td><td>null</td><td>4000</td><td>7258</td><td>294</td><td>294</td><td>1</td></tr><tr><td>246832</td><td>null</td><td>0</td><td>1.2157e-10</td><td>10</td><td>null</td><td>12982</td><td>9123</td><td>324</td><td>324</td><td>1</td></tr><tr><td>243527</td><td>null</td><td>0</td><td>4.3349e-8</td><td>10</td><td>null</td><td>9276</td><td>2775</td><td>38</td><td>38</td><td>1</td></tr><tr><td>129146</td><td>null</td><td>0</td><td>6.4920e-8</td><td>10</td><td>null</td><td>11334</td><td>4362</td><td>160</td><td>484</td><td>1</td></tr><tr><td>124328</td><td>null</td><td>0</td><td>6.1464e-8</td><td>10</td><td>null</td><td>8298</td><td>10161</td><td>188</td><td>188</td><td>1</td></tr><tr><td>278855</td><td>null</td><td>0</td><td>1.1040e-10</td><td>10</td><td>null</td><td>13792</td><td>5227</td><td>301</td><td>301</td><td>1</td></tr><tr><td>56986</td><td>null</td><td>0</td><td>2.6596e-9</td><td>10</td><td>null</td><td>6793</td><td>3485</td><td>363</td><td>73</td><td>1</td></tr><tr><td>99230</td><td>null</td><td>0</td><td>1.2702e-7</td><td>10</td><td>null</td><td>250</td><td>9971</td><td>0</td><td>0</td><td>1</td></tr><tr><td>75653</td><td>null</td><td>0</td><td>1.5732e-10</td><td>10</td><td>null</td><td>655</td><td>3596</td><td>82</td><td>82</td><td>1</td></tr><tr><td>15214</td><td>null</td><td>0</td><td>1.2962e-7</td><td>10</td><td>null</td><td>13289</td><td>11356</td><td>9</td><td>9</td><td>1</td></tr><tr><td>73761</td><td>null</td><td>0</td><td>4.7933e-9</td><td>10</td><td>null</td><td>10102</td><td>7165</td><td>352</td><td>352</td><td>1</td></tr><tr><td>97845</td><td>null</td><td>0</td><td>4.9823e-9</td><td>10</td><td>null</td><td>9535</td><td>849</td><td>50</td><td>50</td><td>1</td></tr><tr><td>25968</td><td>null</td><td>0</td><td>1.1019e-10</td><td>10</td><td>null</td><td>12513</td><td>3312</td><td>89</td><td>38</td><td>1</td></tr><tr><td>&hellip;</td><td>&hellip;</td><td>&hellip;</td><td>&hellip;</td><td>&hellip;</td><td>&hellip;</td><td>&hellip;</td><td>&hellip;</td><td>&hellip;</td><td>&hellip;</td><td>&hellip;</td></tr><tr><td>112457</td><td>null</td><td>0</td><td>1.0076e-10</td><td>10</td><td>null</td><td>9610</td><td>1960</td><td>476</td><td>476</td><td>1</td></tr><tr><td>279509</td><td>null</td><td>0</td><td>1.1040e-10</td><td>10</td><td>null</td><td>10405</td><td>8151</td><td>24</td><td>23</td><td>1</td></tr><tr><td>26608</td><td>null</td><td>0</td><td>1.6223e-9</td><td>10</td><td>null</td><td>5140</td><td>1954</td><td>176</td><td>176</td><td>1</td></tr><tr><td>249332</td><td>null</td><td>0</td><td>1.3894e-7</td><td>10</td><td>null</td><td>5146</td><td>8087</td><td>195</td><td>195</td><td>1</td></tr><tr><td>253110</td><td>null</td><td>0</td><td>1.3951e-10</td><td>10</td><td>null</td><td>5351</td><td>12592</td><td>125</td><td>125</td><td>1</td></tr><tr><td>64895</td><td>null</td><td>0</td><td>1.3456e-7</td><td>10</td><td>null</td><td>1722</td><td>4004</td><td>228</td><td>228</td><td>1</td></tr><tr><td>100965</td><td>null</td><td>0</td><td>2.9184e-9</td><td>10</td><td>null</td><td>13255</td><td>12815</td><td>168</td><td>168</td><td>1</td></tr><tr><td>173292</td><td>null</td><td>0</td><td>2.8169e-9</td><td>10</td><td>null</td><td>11530</td><td>3370</td><td>213</td><td>213</td><td>1</td></tr><tr><td>119865</td><td>null</td><td>0</td><td>5.5880e-8</td><td>10</td><td>null</td><td>6901</td><td>12243</td><td>352</td><td>352</td><td>1</td></tr><tr><td>177869</td><td>null</td><td>0</td><td>3.5651e-9</td><td>7</td><td>null</td><td>12883</td><td>2827</td><td>304</td><td>180</td><td>1</td></tr><tr><td>153241</td><td>null</td><td>0</td><td>3.2167e-9</td><td>10</td><td>null</td><td>8676</td><td>4809</td><td>143</td><td>143</td><td>1</td></tr><tr><td>152322</td><td>null</td><td>0</td><td>8.6894e-11</td><td>10</td><td>null</td><td>12959</td><td>5034</td><td>159</td><td>159</td><td>1</td></tr><tr><td>214469</td><td>null</td><td>0</td><td>1.4796e-7</td><td>10</td><td>null</td><td>5375</td><td>8985</td><td>29</td><td>29</td><td>1</td></tr><tr><td>44342</td><td>null</td><td>0</td><td>3.3999e-9</td><td>10</td><td>null</td><td>6740</td><td>11192</td><td>232</td><td>232</td><td>1</td></tr><tr><td>88220</td><td>null</td><td>0</td><td>1.2654e-10</td><td>10</td><td>null</td><td>4213</td><td>12945</td><td>352</td><td>352</td><td>1</td></tr><tr><td>192512</td><td>null</td><td>0</td><td>2.4066e-9</td><td>10</td><td>null</td><td>11955</td><td>1054</td><td>184</td><td>184</td><td>1</td></tr><tr><td>142043</td><td>null</td><td>0</td><td>8.8512e-8</td><td>10</td><td>null</td><td>4570</td><td>7497</td><td>270</td><td>122</td><td>1</td></tr><tr><td>130643</td><td>null</td><td>0</td><td>1.1595e-10</td><td>10</td><td>null</td><td>4694</td><td>2661</td><td>217</td><td>217</td><td>1</td></tr><tr><td>124675</td><td>null</td><td>0</td><td>8.9564e-11</td><td>10</td><td>null</td><td>10745</td><td>12543</td><td>176</td><td>176</td><td>1</td></tr><tr><td>122499</td><td>null</td><td>0</td><td>2.1899e-9</td><td>9</td><td>null</td><td>8939</td><td>7085</td><td>530</td><td>530</td><td>1</td></tr><tr><td>195509</td><td>null</td><td>0</td><td>2.6984e-9</td><td>10</td><td>null</td><td>2238</td><td>223</td><td>110</td><td>110</td><td>1</td></tr><tr><td>94232</td><td>null</td><td>0</td><td>1.1375e-10</td><td>10</td><td>null</td><td>11090</td><td>7462</td><td>389</td><td>389</td><td>1</td></tr><tr><td>205363</td><td>null</td><td>0</td><td>1.4734e-7</td><td>10</td><td>null</td><td>10089</td><td>6751</td><td>75</td><td>75</td><td>1</td></tr><tr><td>23363</td><td>null</td><td>0</td><td>4.2603e-9</td><td>10</td><td>null</td><td>4658</td><td>1223</td><td>422</td><td>422</td><td>1</td></tr><tr><td>237603</td><td>null</td><td>0</td><td>1.0754e-10</td><td>8</td><td>null</td><td>9950</td><td>5403</td><td>312</td><td>312</td><td>1</td></tr><tr><td>198040</td><td>null</td><td>0</td><td>9.9374e-11</td><td>10</td><td>null</td><td>6978</td><td>13688</td><td>388</td><td>388</td><td>1</td></tr><tr><td>118233</td><td>null</td><td>0</td><td>5.0623e-8</td><td>10</td><td>null</td><td>2796</td><td>3298</td><td>483</td><td>87</td><td>1</td></tr><tr><td>226565</td><td>null</td><td>0</td><td>2.5572e-9</td><td>10</td><td>null</td><td>9469</td><td>8399</td><td>401</td><td>401</td><td>1</td></tr><tr><td>60311</td><td>null</td><td>0</td><td>1.5569e-10</td><td>10</td><td>null</td><td>2329</td><td>8315</td><td>205</td><td>205</td><td>1</td></tr><tr><td>198172</td><td>null</td><td>0</td><td>3.6117e-8</td><td>9</td><td>null</td><td>3935</td><td>4346</td><td>521</td><td>521</td><td>1</td></tr><tr><td>168657</td><td>null</td><td>0</td><td>2.8367e-9</td><td>10</td><td>null</td><td>8792</td><td>11192</td><td>232</td><td>232</td><td>1</td></tr><tr><td>161680</td><td>null</td><td>0</td><td>1.0209e-7</td><td>10</td><td>null</td><td>2026</td><td>4597</td><td>103</td><td>241</td><td>1</td></tr><tr><td>6704</td><td>null</td><td>0</td><td>6.8990e-11</td><td>10</td><td>null</td><td>10911</td><td>10827</td><td>29</td><td>29</td><td>1</td></tr><tr><td>114591</td><td>null</td><td>0</td><td>5.0243e-8</td><td>10</td><td>null</td><td>8432</td><td>7433</td><td>463</td><td>463</td><td>1</td></tr><tr><td>126395</td><td>null</td><td>0</td><td>2.6071e-9</td><td>10</td><td>null</td><td>11838</td><td>3773</td><td>197</td><td>197</td><td>1</td></tr><tr><td>158303</td><td>null</td><td>0</td><td>3.1318e-9</td><td>10</td><td>null</td><td>9159</td><td>10827</td><td>30</td><td>29</td><td>1</td></tr><tr><td>168489</td><td>null</td><td>0</td><td>8.0281e-11</td><td>10</td><td>null</td><td>5285</td><td>3227</td><td>95</td><td>95</td><td>1</td></tr><tr><td>272119</td><td>null</td><td>0</td><td>9.4939e-9</td><td>10</td><td>null</td><td>2197</td><td>2161</td><td>415</td><td>415</td><td>1</td></tr><tr><td>243595</td><td>null</td><td>0</td><td>1.1802e-10</td><td>10</td><td>null</td><td>7019</td><td>2220</td><td>419</td><td>419</td><td>1</td></tr><tr><td>272187</td><td>null</td><td>0</td><td>1.6155e-10</td><td>10</td><td>null</td><td>6291</td><td>11813</td><td>51</td><td>51</td><td>1</td></tr><tr><td>133855</td><td>null</td><td>0</td><td>1.1755e-10</td><td>10</td><td>null</td><td>1899</td><td>9131</td><td>53</td><td>53</td><td>1</td></tr><tr><td>233835</td><td>null</td><td>0</td><td>1.4075e-9</td><td>10</td><td>null</td><td>5547</td><td>13413</td><td>437</td><td>437</td><td>1</td></tr><tr><td>277561</td><td>null</td><td>0</td><td>3.9915e-10</td><td>10</td><td>null</td><td>11896</td><td>5104</td><td>52</td><td>52</td><td>1</td></tr><tr><td>113178</td><td>null</td><td>0</td><td>4.1386e-9</td><td>10</td><td>null</td><td>12751</td><td>6083</td><td>352</td><td>352</td><td>1</td></tr><tr><td>143873</td><td>null</td><td>0</td><td>3.2436e-9</td><td>9</td><td>null</td><td>7278</td><td>2045</td><td>462</td><td>462</td><td>1</td></tr><tr><td>89728</td><td>null</td><td>0</td><td>6.1513e-8</td><td>10</td><td>null</td><td>9366</td><td>9325</td><td>172</td><td>172</td><td>1</td></tr><tr><td>71194</td><td>null</td><td>0</td><td>1.3349e-7</td><td>10</td><td>null</td><td>200</td><td>3981</td><td>146</td><td>146</td><td>1</td></tr><tr><td>214123</td><td>null</td><td>0</td><td>4.2685e-8</td><td>10</td><td>null</td><td>8195</td><td>9989</td><td>376</td><td>376</td><td>1</td></tr><tr><td>246499</td><td>null</td><td>0</td><td>1.3402e-7</td><td>10</td><td>null</td><td>12195</td><td>3440</td><td>243</td><td>322</td><td>1</td></tr><tr><td>784</td><td>null</td><td>0</td><td>8.4369e-10</td><td>10</td><td>null</td><td>1963</td><td>7441</td><td>363</td><td>363</td><td>1</td></tr></tbody></table></div>"
      ],
      "text/plain": [
       "shape: (1_527, 11)\n",
       "┌────────────┬────────┬───────┬────────────┬───┬────────────┬────────────┬────────────┬────────────┐\n",
       "│ session_id ┆ yad_no ┆ label ┆ score      ┆ … ┆ label_yad_ ┆ last_sml_c ┆ label_sml_ ┆ max_seq_no │\n",
       "│ ---        ┆ ---    ┆ ---   ┆ ---        ┆   ┆ no         ┆ d          ┆ cd         ┆ ---        │\n",
       "│ i64        ┆ i64    ┆ i32   ┆ f32        ┆   ┆ ---        ┆ ---        ┆ ---        ┆ i64        │\n",
       "│            ┆        ┆       ┆            ┆   ┆ i64        ┆ i64        ┆ i64        ┆            │\n",
       "╞════════════╪════════╪═══════╪════════════╪═══╪════════════╪════════════╪════════════╪════════════╡\n",
       "│ 109985     ┆ null   ┆ 0     ┆ 1.1288e-10 ┆ … ┆ 2383       ┆ 24         ┆ 24         ┆ 1          │\n",
       "│ 222497     ┆ null   ┆ 0     ┆ 1.0628e-10 ┆ … ┆ 2816       ┆ 210        ┆ 210        ┆ 1          │\n",
       "│ 173993     ┆ null   ┆ 0     ┆ 2.8169e-9  ┆ … ┆ 7517       ┆ 19         ┆ 19         ┆ 1          │\n",
       "│ 281251     ┆ null   ┆ 0     ┆ 1.5611e-9  ┆ … ┆ 9678       ┆ 419        ┆ 419        ┆ 1          │\n",
       "│ 263740     ┆ null   ┆ 0     ┆ 2.5193e-10 ┆ … ┆ 11099      ┆ 485        ┆ 485        ┆ 1          │\n",
       "│ 282615     ┆ null   ┆ 0     ┆ 5.5389e-8  ┆ … ┆ 2653       ┆ 143        ┆ 143        ┆ 1          │\n",
       "│ 206738     ┆ null   ┆ 0     ┆ 4.4010e-8  ┆ … ┆ 2588       ┆ 88         ┆ 88         ┆ 1          │\n",
       "│ 238791     ┆ null   ┆ 0     ┆ 3.7551e-9  ┆ … ┆ 13027      ┆ 263        ┆ 263        ┆ 1          │\n",
       "│ 112972     ┆ null   ┆ 0     ┆ 4.1386e-9  ┆ … ┆ 10865      ┆ 302        ┆ 302        ┆ 1          │\n",
       "│ 112312     ┆ null   ┆ 0     ┆ 4.4292e-9  ┆ … ┆ 4088       ┆ 455        ┆ 455        ┆ 1          │\n",
       "│ 205861     ┆ null   ┆ 0     ┆ 2.2703e-9  ┆ … ┆ 159        ┆ 123        ┆ 123        ┆ 1          │\n",
       "│ 162465     ┆ null   ┆ 0     ┆ 6.6916e-8  ┆ … ┆ 1171       ┆ 250        ┆ 250        ┆ 1          │\n",
       "│ 204821     ┆ null   ┆ 0     ┆ 1.4691e-7  ┆ … ┆ 9842       ┆ 134        ┆ 326        ┆ 1          │\n",
       "│ 108609     ┆ null   ┆ 0     ┆ 4.5719e-9  ┆ … ┆ 26         ┆ 23         ┆ 23         ┆ 1          │\n",
       "│ 10131      ┆ null   ┆ 0     ┆ 1.3846e-8  ┆ … ┆ 3988       ┆ 70         ┆ 70         ┆ 1          │\n",
       "│ 72614      ┆ null   ┆ 0     ┆ 3.9318e-9  ┆ … ┆ 157        ┆ 51         ┆ 51         ┆ 1          │\n",
       "│ 211947     ┆ null   ┆ 0     ┆ 1.5041e-7  ┆ … ┆ 6785       ┆ 420        ┆ 420        ┆ 1          │\n",
       "│ 70996      ┆ null   ┆ 0     ┆ 8.7045e-8  ┆ … ┆ 6777       ┆ 117        ┆ 117        ┆ 1          │\n",
       "│ 122265     ┆ null   ┆ 0     ┆ 9.8394e-8  ┆ … ┆ 7707       ┆ 368        ┆ 368        ┆ 1          │\n",
       "│ 190416     ┆ null   ┆ 0     ┆ 2.3472e-9  ┆ … ┆ 10050      ┆ 397        ┆ 397        ┆ 1          │\n",
       "│ 21636      ┆ null   ┆ 0     ┆ 4.0407e-9  ┆ … ┆ 10753      ┆ 65         ┆ 65         ┆ 1          │\n",
       "│ 273997     ┆ null   ┆ 0     ┆ 3.9129e-8  ┆ … ┆ 1877       ┆ 142        ┆ 142        ┆ 1          │\n",
       "│ 244765     ┆ null   ┆ 0     ┆ 3.4510e-9  ┆ … ┆ 7612       ┆ 232        ┆ 232        ┆ 1          │\n",
       "│ 184300     ┆ null   ┆ 0     ┆ 1.3538e-7  ┆ … ┆ 642        ┆ 104        ┆ 142        ┆ 1          │\n",
       "│ 82999      ┆ null   ┆ 0     ┆ 2.9860e-9  ┆ … ┆ 165        ┆ 127        ┆ 127        ┆ 1          │\n",
       "│ 126158     ┆ null   ┆ 0     ┆ 5.6553e-9  ┆ … ┆ 1113       ┆ 406        ┆ 406        ┆ 1          │\n",
       "│ 142413     ┆ null   ┆ 0     ┆ 4.1204e-9  ┆ … ┆ 11051      ┆ 275        ┆ 275        ┆ 1          │\n",
       "│ 97896      ┆ null   ┆ 0     ┆ 6.0927e-8  ┆ … ┆ 7300       ┆ 340        ┆ 340        ┆ 1          │\n",
       "│ 288324     ┆ null   ┆ 0     ┆ 1.4027e-7  ┆ … ┆ 132        ┆ 210        ┆ 22         ┆ 1          │\n",
       "│ 62325      ┆ null   ┆ 0     ┆ 1.5850e-10 ┆ … ┆ 7783       ┆ 85         ┆ 85         ┆ 1          │\n",
       "│ 104973     ┆ null   ┆ 0     ┆ 1.1941e-7  ┆ … ┆ 11771      ┆ 142        ┆ 142        ┆ 1          │\n",
       "│ 12324      ┆ null   ┆ 0     ┆ 1.3982e-10 ┆ … ┆ 868        ┆ 24         ┆ 24         ┆ 1          │\n",
       "│ 86534      ┆ null   ┆ 0     ┆ 1.3674e-7  ┆ … ┆ 659        ┆ 277        ┆ 277        ┆ 1          │\n",
       "│ 147189     ┆ null   ┆ 0     ┆ 6.5126e-11 ┆ … ┆ 10724      ┆ 313        ┆ 313        ┆ 1          │\n",
       "│ 230461     ┆ null   ┆ 0     ┆ 6.9896e-11 ┆ … ┆ 11009      ┆ 124        ┆ 124        ┆ 1          │\n",
       "│ 165169     ┆ null   ┆ 0     ┆ 1.3238e-7  ┆ … ┆ 5562       ┆ 198        ┆ 208        ┆ 1          │\n",
       "│ 197762     ┆ null   ┆ 0     ┆ 2.6984e-9  ┆ … ┆ 537        ┆ 242        ┆ 242        ┆ 1          │\n",
       "│ 278651     ┆ null   ┆ 0     ┆ 8.9483e-8  ┆ … ┆ 7258       ┆ 294        ┆ 294        ┆ 1          │\n",
       "│ 246832     ┆ null   ┆ 0     ┆ 1.2157e-10 ┆ … ┆ 9123       ┆ 324        ┆ 324        ┆ 1          │\n",
       "│ 243527     ┆ null   ┆ 0     ┆ 4.3349e-8  ┆ … ┆ 2775       ┆ 38         ┆ 38         ┆ 1          │\n",
       "│ 129146     ┆ null   ┆ 0     ┆ 6.4920e-8  ┆ … ┆ 4362       ┆ 160        ┆ 484        ┆ 1          │\n",
       "│ 124328     ┆ null   ┆ 0     ┆ 6.1464e-8  ┆ … ┆ 10161      ┆ 188        ┆ 188        ┆ 1          │\n",
       "│ 278855     ┆ null   ┆ 0     ┆ 1.1040e-10 ┆ … ┆ 5227       ┆ 301        ┆ 301        ┆ 1          │\n",
       "│ 56986      ┆ null   ┆ 0     ┆ 2.6596e-9  ┆ … ┆ 3485       ┆ 363        ┆ 73         ┆ 1          │\n",
       "│ 99230      ┆ null   ┆ 0     ┆ 1.2702e-7  ┆ … ┆ 9971       ┆ 0          ┆ 0          ┆ 1          │\n",
       "│ 75653      ┆ null   ┆ 0     ┆ 1.5732e-10 ┆ … ┆ 3596       ┆ 82         ┆ 82         ┆ 1          │\n",
       "│ 15214      ┆ null   ┆ 0     ┆ 1.2962e-7  ┆ … ┆ 11356      ┆ 9          ┆ 9          ┆ 1          │\n",
       "│ 73761      ┆ null   ┆ 0     ┆ 4.7933e-9  ┆ … ┆ 7165       ┆ 352        ┆ 352        ┆ 1          │\n",
       "│ 97845      ┆ null   ┆ 0     ┆ 4.9823e-9  ┆ … ┆ 849        ┆ 50         ┆ 50         ┆ 1          │\n",
       "│ 25968      ┆ null   ┆ 0     ┆ 1.1019e-10 ┆ … ┆ 3312       ┆ 89         ┆ 38         ┆ 1          │\n",
       "│ …          ┆ …      ┆ …     ┆ …          ┆ … ┆ …          ┆ …          ┆ …          ┆ …          │\n",
       "│ 112457     ┆ null   ┆ 0     ┆ 1.0076e-10 ┆ … ┆ 1960       ┆ 476        ┆ 476        ┆ 1          │\n",
       "│ 279509     ┆ null   ┆ 0     ┆ 1.1040e-10 ┆ … ┆ 8151       ┆ 24         ┆ 23         ┆ 1          │\n",
       "│ 26608      ┆ null   ┆ 0     ┆ 1.6223e-9  ┆ … ┆ 1954       ┆ 176        ┆ 176        ┆ 1          │\n",
       "│ 249332     ┆ null   ┆ 0     ┆ 1.3894e-7  ┆ … ┆ 8087       ┆ 195        ┆ 195        ┆ 1          │\n",
       "│ 253110     ┆ null   ┆ 0     ┆ 1.3951e-10 ┆ … ┆ 12592      ┆ 125        ┆ 125        ┆ 1          │\n",
       "│ 64895      ┆ null   ┆ 0     ┆ 1.3456e-7  ┆ … ┆ 4004       ┆ 228        ┆ 228        ┆ 1          │\n",
       "│ 100965     ┆ null   ┆ 0     ┆ 2.9184e-9  ┆ … ┆ 12815      ┆ 168        ┆ 168        ┆ 1          │\n",
       "│ 173292     ┆ null   ┆ 0     ┆ 2.8169e-9  ┆ … ┆ 3370       ┆ 213        ┆ 213        ┆ 1          │\n",
       "│ 119865     ┆ null   ┆ 0     ┆ 5.5880e-8  ┆ … ┆ 12243      ┆ 352        ┆ 352        ┆ 1          │\n",
       "│ 177869     ┆ null   ┆ 0     ┆ 3.5651e-9  ┆ … ┆ 2827       ┆ 304        ┆ 180        ┆ 1          │\n",
       "│ 153241     ┆ null   ┆ 0     ┆ 3.2167e-9  ┆ … ┆ 4809       ┆ 143        ┆ 143        ┆ 1          │\n",
       "│ 152322     ┆ null   ┆ 0     ┆ 8.6894e-11 ┆ … ┆ 5034       ┆ 159        ┆ 159        ┆ 1          │\n",
       "│ 214469     ┆ null   ┆ 0     ┆ 1.4796e-7  ┆ … ┆ 8985       ┆ 29         ┆ 29         ┆ 1          │\n",
       "│ 44342      ┆ null   ┆ 0     ┆ 3.3999e-9  ┆ … ┆ 11192      ┆ 232        ┆ 232        ┆ 1          │\n",
       "│ 88220      ┆ null   ┆ 0     ┆ 1.2654e-10 ┆ … ┆ 12945      ┆ 352        ┆ 352        ┆ 1          │\n",
       "│ 192512     ┆ null   ┆ 0     ┆ 2.4066e-9  ┆ … ┆ 1054       ┆ 184        ┆ 184        ┆ 1          │\n",
       "│ 142043     ┆ null   ┆ 0     ┆ 8.8512e-8  ┆ … ┆ 7497       ┆ 270        ┆ 122        ┆ 1          │\n",
       "│ 130643     ┆ null   ┆ 0     ┆ 1.1595e-10 ┆ … ┆ 2661       ┆ 217        ┆ 217        ┆ 1          │\n",
       "│ 124675     ┆ null   ┆ 0     ┆ 8.9564e-11 ┆ … ┆ 12543      ┆ 176        ┆ 176        ┆ 1          │\n",
       "│ 122499     ┆ null   ┆ 0     ┆ 2.1899e-9  ┆ … ┆ 7085       ┆ 530        ┆ 530        ┆ 1          │\n",
       "│ 195509     ┆ null   ┆ 0     ┆ 2.6984e-9  ┆ … ┆ 223        ┆ 110        ┆ 110        ┆ 1          │\n",
       "│ 94232      ┆ null   ┆ 0     ┆ 1.1375e-10 ┆ … ┆ 7462       ┆ 389        ┆ 389        ┆ 1          │\n",
       "│ 205363     ┆ null   ┆ 0     ┆ 1.4734e-7  ┆ … ┆ 6751       ┆ 75         ┆ 75         ┆ 1          │\n",
       "│ 23363      ┆ null   ┆ 0     ┆ 4.2603e-9  ┆ … ┆ 1223       ┆ 422        ┆ 422        ┆ 1          │\n",
       "│ 237603     ┆ null   ┆ 0     ┆ 1.0754e-10 ┆ … ┆ 5403       ┆ 312        ┆ 312        ┆ 1          │\n",
       "│ 198040     ┆ null   ┆ 0     ┆ 9.9374e-11 ┆ … ┆ 13688      ┆ 388        ┆ 388        ┆ 1          │\n",
       "│ 118233     ┆ null   ┆ 0     ┆ 5.0623e-8  ┆ … ┆ 3298       ┆ 483        ┆ 87         ┆ 1          │\n",
       "│ 226565     ┆ null   ┆ 0     ┆ 2.5572e-9  ┆ … ┆ 8399       ┆ 401        ┆ 401        ┆ 1          │\n",
       "│ 60311      ┆ null   ┆ 0     ┆ 1.5569e-10 ┆ … ┆ 8315       ┆ 205        ┆ 205        ┆ 1          │\n",
       "│ 198172     ┆ null   ┆ 0     ┆ 3.6117e-8  ┆ … ┆ 4346       ┆ 521        ┆ 521        ┆ 1          │\n",
       "│ 168657     ┆ null   ┆ 0     ┆ 2.8367e-9  ┆ … ┆ 11192      ┆ 232        ┆ 232        ┆ 1          │\n",
       "│ 161680     ┆ null   ┆ 0     ┆ 1.0209e-7  ┆ … ┆ 4597       ┆ 103        ┆ 241        ┆ 1          │\n",
       "│ 6704       ┆ null   ┆ 0     ┆ 6.8990e-11 ┆ … ┆ 10827      ┆ 29         ┆ 29         ┆ 1          │\n",
       "│ 114591     ┆ null   ┆ 0     ┆ 5.0243e-8  ┆ … ┆ 7433       ┆ 463        ┆ 463        ┆ 1          │\n",
       "│ 126395     ┆ null   ┆ 0     ┆ 2.6071e-9  ┆ … ┆ 3773       ┆ 197        ┆ 197        ┆ 1          │\n",
       "│ 158303     ┆ null   ┆ 0     ┆ 3.1318e-9  ┆ … ┆ 10827      ┆ 30         ┆ 29         ┆ 1          │\n",
       "│ 168489     ┆ null   ┆ 0     ┆ 8.0281e-11 ┆ … ┆ 3227       ┆ 95         ┆ 95         ┆ 1          │\n",
       "│ 272119     ┆ null   ┆ 0     ┆ 9.4939e-9  ┆ … ┆ 2161       ┆ 415        ┆ 415        ┆ 1          │\n",
       "│ 243595     ┆ null   ┆ 0     ┆ 1.1802e-10 ┆ … ┆ 2220       ┆ 419        ┆ 419        ┆ 1          │\n",
       "│ 272187     ┆ null   ┆ 0     ┆ 1.6155e-10 ┆ … ┆ 11813      ┆ 51         ┆ 51         ┆ 1          │\n",
       "│ 133855     ┆ null   ┆ 0     ┆ 1.1755e-10 ┆ … ┆ 9131       ┆ 53         ┆ 53         ┆ 1          │\n",
       "│ 233835     ┆ null   ┆ 0     ┆ 1.4075e-9  ┆ … ┆ 13413      ┆ 437        ┆ 437        ┆ 1          │\n",
       "│ 277561     ┆ null   ┆ 0     ┆ 3.9915e-10 ┆ … ┆ 5104       ┆ 52         ┆ 52         ┆ 1          │\n",
       "│ 113178     ┆ null   ┆ 0     ┆ 4.1386e-9  ┆ … ┆ 6083       ┆ 352        ┆ 352        ┆ 1          │\n",
       "│ 143873     ┆ null   ┆ 0     ┆ 3.2436e-9  ┆ … ┆ 2045       ┆ 462        ┆ 462        ┆ 1          │\n",
       "│ 89728      ┆ null   ┆ 0     ┆ 6.1513e-8  ┆ … ┆ 9325       ┆ 172        ┆ 172        ┆ 1          │\n",
       "│ 71194      ┆ null   ┆ 0     ┆ 1.3349e-7  ┆ … ┆ 3981       ┆ 146        ┆ 146        ┆ 1          │\n",
       "│ 214123     ┆ null   ┆ 0     ┆ 4.2685e-8  ┆ … ┆ 9989       ┆ 376        ┆ 376        ┆ 1          │\n",
       "│ 246499     ┆ null   ┆ 0     ┆ 1.3402e-7  ┆ … ┆ 3440       ┆ 243        ┆ 322        ┆ 1          │\n",
       "│ 784        ┆ null   ┆ 0     ┆ 8.4369e-10 ┆ … ┆ 7441       ┆ 363        ┆ 363        ┆ 1          │\n",
       "└────────────┴────────┴───────┴────────────┴───┴────────────┴────────────┴────────────┴────────────┘"
      ]
     },
     "execution_count": 138,
     "metadata": {},
     "output_type": "execute_result"
    }
   ],
   "source": [
    "max_len1_df.filter((pl.col(\"sml_cd\") == pl.col(\"label_sml_cd\")).is_null())"
   ]
  },
  {
   "cell_type": "code",
   "execution_count": 8,
   "metadata": {},
   "outputs": [
    {
     "data": {
      "text/html": [
       "<div><style>\n",
       ".dataframe > thead > tr,\n",
       ".dataframe > tbody > tr {\n",
       "  text-align: right;\n",
       "  white-space: pre-wrap;\n",
       "}\n",
       "</style>\n",
       "<small>shape: (5, 5)</small><table border=\"1\" class=\"dataframe\"><thead><tr><th>same_label_last_cd</th><th>same_label_cd</th><th>same_last_cd</th><th>score</th><th>ses_label</th></tr><tr><td>bool</td><td>bool</td><td>bool</td><td>f64</td><td>f64</td></tr></thead><tbody><tr><td>false</td><td>false</td><td>false</td><td>0.025622</td><td>0.136782</td></tr><tr><td>false</td><td>false</td><td>true</td><td>0.183249</td><td>0.123361</td></tr><tr><td>false</td><td>true</td><td>false</td><td>0.033677</td><td>0.332757</td></tr><tr><td>true</td><td>false</td><td>false</td><td>0.058301</td><td>0.477262</td></tr><tr><td>true</td><td>true</td><td>true</td><td>0.699152</td><td>0.470452</td></tr></tbody></table></div>"
      ],
      "text/plain": [
       "shape: (5, 5)\n",
       "┌────────────────────┬───────────────┬──────────────┬──────────┬───────────┐\n",
       "│ same_label_last_cd ┆ same_label_cd ┆ same_last_cd ┆ score    ┆ ses_label │\n",
       "│ ---                ┆ ---           ┆ ---          ┆ ---      ┆ ---       │\n",
       "│ bool               ┆ bool          ┆ bool         ┆ f64      ┆ f64       │\n",
       "╞════════════════════╪═══════════════╪══════════════╪══════════╪═══════════╡\n",
       "│ false              ┆ false         ┆ false        ┆ 0.025622 ┆ 0.136782  │\n",
       "│ false              ┆ false         ┆ true         ┆ 0.183249 ┆ 0.123361  │\n",
       "│ false              ┆ true          ┆ false        ┆ 0.033677 ┆ 0.332757  │\n",
       "│ true               ┆ false         ┆ false        ┆ 0.058301 ┆ 0.477262  │\n",
       "│ true               ┆ true          ┆ true         ┆ 0.699152 ┆ 0.470452  │\n",
       "└────────────────────┴───────────────┴──────────────┴──────────┴───────────┘"
      ]
     },
     "execution_count": 8,
     "metadata": {},
     "output_type": "execute_result"
    }
   ],
   "source": [
    "max_len1_df = (\n",
    "    oof_df.join(yado.select([\"yad_no\", col]), on=\"yad_no\", how=\"left\")\n",
    "    .join(df, on=\"session_id\", how=\"left\")\n",
    "    .filter(pl.col(\"max_seq_no\") == 1)\n",
    ")\n",
    "ratio_df = (\n",
    "    max_len1_df.with_columns(\n",
    "        pl.col(\"label\").max().over(\"session_id\").alias(\"ses_label\"),\n",
    "        (pl.col(\"sml_cd\") == pl.col(\"label_sml_cd\")).alias(\"same_label_cd\"),\n",
    "        (pl.col(\"sml_cd\") == pl.col(\"last_sml_cd\")).alias(\"same_last_cd\"),\n",
    "        (pl.col(\"label_sml_cd\") == pl.col(\"last_sml_cd\")).alias(\"same_label_last_cd\"),\n",
    "    )\n",
    "    .group_by(pl.col(\"same_label_last_cd\"), pl.col(\"same_label_cd\"), pl.col(\"same_last_cd\"))\n",
    "    .agg((pl.count(\"score\") / len(max_len1_df)), pl.col(\"ses_label\").mean())\n",
    "    .sort(pl.col(\"*\"))\n",
    ")\n",
    "ratio_df.filter(pl.col(\"same_label_cd\").is_not_null())"
   ]
  },
  {
   "cell_type": "code",
   "execution_count": 145,
   "metadata": {},
   "outputs": [
    {
     "data": {
      "text/plain": [
       "<Axes: ylabel='Frequency'>"
      ]
     },
     "execution_count": 145,
     "metadata": {},
     "output_type": "execute_result"
    },
    {
     "data": {
      "image/png": "[encoded data removed]",
      "text/plain": [
       "<Figure size 640x480 with 1 Axes>"
      ]
     },
     "metadata": {},
     "output_type": "display_data"
    }
   ],
   "source": [
    "yado.group_by(\"sml_cd\").agg(pl.count(\"yad_no\")).to_pandas()[\"yad_no\"].plot.hist(bins=30)"
   ]
  },
  {
   "cell_type": "code",
   "execution_count": 130,
   "metadata": {},
   "outputs": [
    {
     "data": {
      "text/html": [
       "<div><style>\n",
       ".dataframe > thead > tr,\n",
       ".dataframe > tbody > tr {\n",
       "  text-align: right;\n",
       "  white-space: pre-wrap;\n",
       "}\n",
       "</style>\n",
       "<small>shape: (185_386, 5)</small><table border=\"1\" class=\"dataframe\"><thead><tr><th>session_id</th><th>is_match</th><th>same_pred_last</th><th>same_pred_label</th><th>samle_last_label</th></tr><tr><td>i64</td><td>bool</td><td>u32</td><td>u32</td><td>bool</td></tr></thead><tbody><tr><td>185747</td><td>true</td><td>9</td><td>9</td><td>true</td></tr><tr><td>257967</td><td>false</td><td>10</td><td>10</td><td>true</td></tr><tr><td>93204</td><td>false</td><td>9</td><td>0</td><td>false</td></tr><tr><td>233717</td><td>true</td><td>9</td><td>9</td><td>true</td></tr><tr><td>206195</td><td>false</td><td>10</td><td>10</td><td>true</td></tr><tr><td>149049</td><td>false</td><td>9</td><td>9</td><td>true</td></tr><tr><td>267804</td><td>false</td><td>9</td><td>0</td><td>false</td></tr><tr><td>186795</td><td>true</td><td>8</td><td>8</td><td>true</td></tr><tr><td>34611</td><td>true</td><td>10</td><td>10</td><td>true</td></tr><tr><td>118368</td><td>true</td><td>10</td><td>10</td><td>true</td></tr><tr><td>126764</td><td>false</td><td>10</td><td>10</td><td>true</td></tr><tr><td>57554</td><td>false</td><td>9</td><td>9</td><td>true</td></tr><tr><td>74590</td><td>false</td><td>10</td><td>0</td><td>false</td></tr><tr><td>255484</td><td>false</td><td>10</td><td>10</td><td>true</td></tr><tr><td>231752</td><td>false</td><td>10</td><td>10</td><td>true</td></tr><tr><td>217729</td><td>true</td><td>9</td><td>9</td><td>true</td></tr><tr><td>130039</td><td>true</td><td>8</td><td>1</td><td>false</td></tr><tr><td>248538</td><td>true</td><td>10</td><td>10</td><td>true</td></tr><tr><td>202524</td><td>false</td><td>10</td><td>0</td><td>false</td></tr><tr><td>143931</td><td>false</td><td>10</td><td>10</td><td>true</td></tr><tr><td>199112</td><td>false</td><td>10</td><td>10</td><td>true</td></tr><tr><td>119809</td><td>true</td><td>9</td><td>9</td><td>true</td></tr><tr><td>44445</td><td>true</td><td>10</td><td>10</td><td>true</td></tr><tr><td>64372</td><td>false</td><td>10</td><td>10</td><td>true</td></tr><tr><td>147608</td><td>false</td><td>8</td><td>0</td><td>false</td></tr><tr><td>21630</td><td>false</td><td>10</td><td>10</td><td>true</td></tr><tr><td>97533</td><td>false</td><td>8</td><td>0</td><td>false</td></tr><tr><td>80098</td><td>false</td><td>9</td><td>0</td><td>false</td></tr><tr><td>145247</td><td>false</td><td>10</td><td>10</td><td>true</td></tr><tr><td>261513</td><td>false</td><td>9</td><td>9</td><td>true</td></tr><tr><td>244733</td><td>true</td><td>8</td><td>8</td><td>true</td></tr><tr><td>171721</td><td>true</td><td>10</td><td>10</td><td>true</td></tr><tr><td>4597</td><td>true</td><td>10</td><td>10</td><td>true</td></tr><tr><td>272654</td><td>false</td><td>9</td><td>1</td><td>false</td></tr><tr><td>163727</td><td>false</td><td>10</td><td>10</td><td>true</td></tr><tr><td>263079</td><td>true</td><td>8</td><td>8</td><td>true</td></tr><tr><td>208166</td><td>false</td><td>10</td><td>10</td><td>true</td></tr><tr><td>68561</td><td>false</td><td>9</td><td>9</td><td>true</td></tr><tr><td>162679</td><td>false</td><td>10</td><td>10</td><td>true</td></tr><tr><td>267807</td><td>false</td><td>9</td><td>9</td><td>true</td></tr><tr><td>146941</td><td>true</td><td>10</td><td>10</td><td>true</td></tr><tr><td>43266</td><td>false</td><td>9</td><td>9</td><td>true</td></tr><tr><td>241065</td><td>false</td><td>8</td><td>1</td><td>false</td></tr><tr><td>0</td><td>false</td><td>10</td><td>10</td><td>true</td></tr><tr><td>167401</td><td>true</td><td>10</td><td>10</td><td>true</td></tr><tr><td>80878</td><td>false</td><td>9</td><td>1</td><td>false</td></tr><tr><td>9840</td><td>false</td><td>10</td><td>10</td><td>true</td></tr><tr><td>29112</td><td>false</td><td>9</td><td>9</td><td>true</td></tr><tr><td>119160</td><td>true</td><td>10</td><td>10</td><td>true</td></tr><tr><td>162810</td><td>true</td><td>10</td><td>10</td><td>true</td></tr><tr><td>&hellip;</td><td>&hellip;</td><td>&hellip;</td><td>&hellip;</td><td>&hellip;</td></tr><tr><td>232011</td><td>true</td><td>9</td><td>9</td><td>true</td></tr><tr><td>157555</td><td>false</td><td>10</td><td>10</td><td>true</td></tr><tr><td>38264</td><td>false</td><td>10</td><td>10</td><td>true</td></tr><tr><td>201458</td><td>true</td><td>10</td><td>10</td><td>true</td></tr><tr><td>256118</td><td>true</td><td>10</td><td>10</td><td>true</td></tr><tr><td>88729</td><td>false</td><td>9</td><td>9</td><td>true</td></tr><tr><td>73271</td><td>true</td><td>9</td><td>9</td><td>true</td></tr><tr><td>148248</td><td>false</td><td>10</td><td>10</td><td>true</td></tr><tr><td>123477</td><td>false</td><td>8</td><td>0</td><td>false</td></tr><tr><td>94502</td><td>false</td><td>10</td><td>10</td><td>true</td></tr><tr><td>103684</td><td>true</td><td>10</td><td>10</td><td>true</td></tr><tr><td>210765</td><td>false</td><td>9</td><td>9</td><td>true</td></tr><tr><td>234890</td><td>false</td><td>10</td><td>10</td><td>true</td></tr><tr><td>228462</td><td>false</td><td>10</td><td>10</td><td>true</td></tr><tr><td>2221</td><td>false</td><td>10</td><td>10</td><td>true</td></tr><tr><td>168434</td><td>false</td><td>10</td><td>10</td><td>true</td></tr><tr><td>96467</td><td>false</td><td>10</td><td>10</td><td>true</td></tr><tr><td>127401</td><td>false</td><td>10</td><td>10</td><td>true</td></tr><tr><td>69600</td><td>true</td><td>10</td><td>10</td><td>true</td></tr><tr><td>222311</td><td>false</td><td>10</td><td>0</td><td>false</td></tr><tr><td>83891</td><td>true</td><td>6</td><td>6</td><td>true</td></tr><tr><td>87821</td><td>false</td><td>10</td><td>10</td><td>true</td></tr><tr><td>5109</td><td>false</td><td>9</td><td>1</td><td>false</td></tr><tr><td>170786</td><td>false</td><td>9</td><td>9</td><td>true</td></tr><tr><td>162271</td><td>true</td><td>10</td><td>10</td><td>true</td></tr><tr><td>105116</td><td>false</td><td>8</td><td>0</td><td>false</td></tr><tr><td>130027</td><td>true</td><td>6</td><td>6</td><td>true</td></tr><tr><td>146807</td><td>false</td><td>10</td><td>10</td><td>true</td></tr><tr><td>138414</td><td>false</td><td>10</td><td>0</td><td>false</td></tr><tr><td>247871</td><td>true</td><td>10</td><td>10</td><td>true</td></tr><tr><td>73000</td><td>false</td><td>9</td><td>9</td><td>true</td></tr><tr><td>239350</td><td>true</td><td>7</td><td>7</td><td>true</td></tr><tr><td>251137</td><td>true</td><td>9</td><td>9</td><td>true</td></tr><tr><td>74706</td><td>true</td><td>10</td><td>10</td><td>true</td></tr><tr><td>119669</td><td>false</td><td>6</td><td>0</td><td>false</td></tr><tr><td>203566</td><td>false</td><td>9</td><td>9</td><td>true</td></tr><tr><td>187444</td><td>false</td><td>10</td><td>0</td><td>false</td></tr><tr><td>284438</td><td>true</td><td>9</td><td>9</td><td>true</td></tr><tr><td>26206</td><td>true</td><td>9</td><td>9</td><td>true</td></tr><tr><td>221129</td><td>false</td><td>7</td><td>0</td><td>false</td></tr><tr><td>257964</td><td>true</td><td>10</td><td>10</td><td>true</td></tr><tr><td>192809</td><td>false</td><td>8</td><td>8</td><td>true</td></tr><tr><td>103017</td><td>false</td><td>10</td><td>10</td><td>true</td></tr><tr><td>204873</td><td>true</td><td>10</td><td>10</td><td>true</td></tr><tr><td>35644</td><td>false</td><td>10</td><td>10</td><td>true</td></tr><tr><td>135395</td><td>false</td><td>9</td><td>0</td><td>false</td></tr><tr><td>186646</td><td>true</td><td>10</td><td>10</td><td>true</td></tr><tr><td>58712</td><td>false</td><td>10</td><td>10</td><td>true</td></tr><tr><td>2873</td><td>false</td><td>10</td><td>10</td><td>true</td></tr><tr><td>271064</td><td>false</td><td>10</td><td>10</td><td>true</td></tr></tbody></table></div>"
      ],
      "text/plain": [
       "shape: (185_386, 5)\n",
       "┌────────────┬──────────┬────────────────┬─────────────────┬──────────────────┐\n",
       "│ session_id ┆ is_match ┆ same_pred_last ┆ same_pred_label ┆ samle_last_label │\n",
       "│ ---        ┆ ---      ┆ ---            ┆ ---             ┆ ---              │\n",
       "│ i64        ┆ bool     ┆ u32            ┆ u32             ┆ bool             │\n",
       "╞════════════╪══════════╪════════════════╪═════════════════╪══════════════════╡\n",
       "│ 185747     ┆ true     ┆ 9              ┆ 9               ┆ true             │\n",
       "│ 257967     ┆ false    ┆ 10             ┆ 10              ┆ true             │\n",
       "│ 93204      ┆ false    ┆ 9              ┆ 0               ┆ false            │\n",
       "│ 233717     ┆ true     ┆ 9              ┆ 9               ┆ true             │\n",
       "│ 206195     ┆ false    ┆ 10             ┆ 10              ┆ true             │\n",
       "│ 149049     ┆ false    ┆ 9              ┆ 9               ┆ true             │\n",
       "│ 267804     ┆ false    ┆ 9              ┆ 0               ┆ false            │\n",
       "│ 186795     ┆ true     ┆ 8              ┆ 8               ┆ true             │\n",
       "│ 34611      ┆ true     ┆ 10             ┆ 10              ┆ true             │\n",
       "│ 118368     ┆ true     ┆ 10             ┆ 10              ┆ true             │\n",
       "│ 126764     ┆ false    ┆ 10             ┆ 10              ┆ true             │\n",
       "│ 57554      ┆ false    ┆ 9              ┆ 9               ┆ true             │\n",
       "│ 74590      ┆ false    ┆ 10             ┆ 0               ┆ false            │\n",
       "│ 255484     ┆ false    ┆ 10             ┆ 10              ┆ true             │\n",
       "│ 231752     ┆ false    ┆ 10             ┆ 10              ┆ true             │\n",
       "│ 217729     ┆ true     ┆ 9              ┆ 9               ┆ true             │\n",
       "│ 130039     ┆ true     ┆ 8              ┆ 1               ┆ false            │\n",
       "│ 248538     ┆ true     ┆ 10             ┆ 10              ┆ true             │\n",
       "│ 202524     ┆ false    ┆ 10             ┆ 0               ┆ false            │\n",
       "│ 143931     ┆ false    ┆ 10             ┆ 10              ┆ true             │\n",
       "│ 199112     ┆ false    ┆ 10             ┆ 10              ┆ true             │\n",
       "│ 119809     ┆ true     ┆ 9              ┆ 9               ┆ true             │\n",
       "│ 44445      ┆ true     ┆ 10             ┆ 10              ┆ true             │\n",
       "│ 64372      ┆ false    ┆ 10             ┆ 10              ┆ true             │\n",
       "│ 147608     ┆ false    ┆ 8              ┆ 0               ┆ false            │\n",
       "│ 21630      ┆ false    ┆ 10             ┆ 10              ┆ true             │\n",
       "│ 97533      ┆ false    ┆ 8              ┆ 0               ┆ false            │\n",
       "│ 80098      ┆ false    ┆ 9              ┆ 0               ┆ false            │\n",
       "│ 145247     ┆ false    ┆ 10             ┆ 10              ┆ true             │\n",
       "│ 261513     ┆ false    ┆ 9              ┆ 9               ┆ true             │\n",
       "│ 244733     ┆ true     ┆ 8              ┆ 8               ┆ true             │\n",
       "│ 171721     ┆ true     ┆ 10             ┆ 10              ┆ true             │\n",
       "│ 4597       ┆ true     ┆ 10             ┆ 10              ┆ true             │\n",
       "│ 272654     ┆ false    ┆ 9              ┆ 1               ┆ false            │\n",
       "│ 163727     ┆ false    ┆ 10             ┆ 10              ┆ true             │\n",
       "│ 263079     ┆ true     ┆ 8              ┆ 8               ┆ true             │\n",
       "│ 208166     ┆ false    ┆ 10             ┆ 10              ┆ true             │\n",
       "│ 68561      ┆ false    ┆ 9              ┆ 9               ┆ true             │\n",
       "│ 162679     ┆ false    ┆ 10             ┆ 10              ┆ true             │\n",
       "│ 267807     ┆ false    ┆ 9              ┆ 9               ┆ true             │\n",
       "│ 146941     ┆ true     ┆ 10             ┆ 10              ┆ true             │\n",
       "│ 43266      ┆ false    ┆ 9              ┆ 9               ┆ true             │\n",
       "│ 241065     ┆ false    ┆ 8              ┆ 1               ┆ false            │\n",
       "│ 0          ┆ false    ┆ 10             ┆ 10              ┆ true             │\n",
       "│ 167401     ┆ true     ┆ 10             ┆ 10              ┆ true             │\n",
       "│ 80878      ┆ false    ┆ 9              ┆ 1               ┆ false            │\n",
       "│ 9840       ┆ false    ┆ 10             ┆ 10              ┆ true             │\n",
       "│ 29112      ┆ false    ┆ 9              ┆ 9               ┆ true             │\n",
       "│ 119160     ┆ true     ┆ 10             ┆ 10              ┆ true             │\n",
       "│ 162810     ┆ true     ┆ 10             ┆ 10              ┆ true             │\n",
       "│ …          ┆ …        ┆ …              ┆ …               ┆ …                │\n",
       "│ 232011     ┆ true     ┆ 9              ┆ 9               ┆ true             │\n",
       "│ 157555     ┆ false    ┆ 10             ┆ 10              ┆ true             │\n",
       "│ 38264      ┆ false    ┆ 10             ┆ 10              ┆ true             │\n",
       "│ 201458     ┆ true     ┆ 10             ┆ 10              ┆ true             │\n",
       "│ 256118     ┆ true     ┆ 10             ┆ 10              ┆ true             │\n",
       "│ 88729      ┆ false    ┆ 9              ┆ 9               ┆ true             │\n",
       "│ 73271      ┆ true     ┆ 9              ┆ 9               ┆ true             │\n",
       "│ 148248     ┆ false    ┆ 10             ┆ 10              ┆ true             │\n",
       "│ 123477     ┆ false    ┆ 8              ┆ 0               ┆ false            │\n",
       "│ 94502      ┆ false    ┆ 10             ┆ 10              ┆ true             │\n",
       "│ 103684     ┆ true     ┆ 10             ┆ 10              ┆ true             │\n",
       "│ 210765     ┆ false    ┆ 9              ┆ 9               ┆ true             │\n",
       "│ 234890     ┆ false    ┆ 10             ┆ 10              ┆ true             │\n",
       "│ 228462     ┆ false    ┆ 10             ┆ 10              ┆ true             │\n",
       "│ 2221       ┆ false    ┆ 10             ┆ 10              ┆ true             │\n",
       "│ 168434     ┆ false    ┆ 10             ┆ 10              ┆ true             │\n",
       "│ 96467      ┆ false    ┆ 10             ┆ 10              ┆ true             │\n",
       "│ 127401     ┆ false    ┆ 10             ┆ 10              ┆ true             │\n",
       "│ 69600      ┆ true     ┆ 10             ┆ 10              ┆ true             │\n",
       "│ 222311     ┆ false    ┆ 10             ┆ 0               ┆ false            │\n",
       "│ 83891      ┆ true     ┆ 6              ┆ 6               ┆ true             │\n",
       "│ 87821      ┆ false    ┆ 10             ┆ 10              ┆ true             │\n",
       "│ 5109       ┆ false    ┆ 9              ┆ 1               ┆ false            │\n",
       "│ 170786     ┆ false    ┆ 9              ┆ 9               ┆ true             │\n",
       "│ 162271     ┆ true     ┆ 10             ┆ 10              ┆ true             │\n",
       "│ 105116     ┆ false    ┆ 8              ┆ 0               ┆ false            │\n",
       "│ 130027     ┆ true     ┆ 6              ┆ 6               ┆ true             │\n",
       "│ 146807     ┆ false    ┆ 10             ┆ 10              ┆ true             │\n",
       "│ 138414     ┆ false    ┆ 10             ┆ 0               ┆ false            │\n",
       "│ 247871     ┆ true     ┆ 10             ┆ 10              ┆ true             │\n",
       "│ 73000      ┆ false    ┆ 9              ┆ 9               ┆ true             │\n",
       "│ 239350     ┆ true     ┆ 7              ┆ 7               ┆ true             │\n",
       "│ 251137     ┆ true     ┆ 9              ┆ 9               ┆ true             │\n",
       "│ 74706      ┆ true     ┆ 10             ┆ 10              ┆ true             │\n",
       "│ 119669     ┆ false    ┆ 6              ┆ 0               ┆ false            │\n",
       "│ 203566     ┆ false    ┆ 9              ┆ 9               ┆ true             │\n",
       "│ 187444     ┆ false    ┆ 10             ┆ 0               ┆ false            │\n",
       "│ 284438     ┆ true     ┆ 9              ┆ 9               ┆ true             │\n",
       "│ 26206      ┆ true     ┆ 9              ┆ 9               ┆ true             │\n",
       "│ 221129     ┆ false    ┆ 7              ┆ 0               ┆ false            │\n",
       "│ 257964     ┆ true     ┆ 10             ┆ 10              ┆ true             │\n",
       "│ 192809     ┆ false    ┆ 8              ┆ 8               ┆ true             │\n",
       "│ 103017     ┆ false    ┆ 10             ┆ 10              ┆ true             │\n",
       "│ 204873     ┆ true     ┆ 10             ┆ 10              ┆ true             │\n",
       "│ 35644      ┆ false    ┆ 10             ┆ 10              ┆ true             │\n",
       "│ 135395     ┆ false    ┆ 9              ┆ 0               ┆ false            │\n",
       "│ 186646     ┆ true     ┆ 10             ┆ 10              ┆ true             │\n",
       "│ 58712      ┆ false    ┆ 10             ┆ 10              ┆ true             │\n",
       "│ 2873       ┆ false    ┆ 10             ┆ 10              ┆ true             │\n",
       "│ 271064     ┆ false    ┆ 10             ┆ 10              ┆ true             │\n",
       "└────────────┴──────────┴────────────────┴─────────────────┴──────────────────┘"
      ]
     },
     "execution_count": 130,
     "metadata": {},
     "output_type": "execute_result"
    }
   ],
   "source": [
    "session_label_df = (\n",
    "    oof_df.join(yado.select([\"yad_no\", col]), on=\"yad_no\", how=\"left\")\n",
    "    .join(df, on=\"session_id\", how=\"left\")\n",
    "    .group_by(\"session_id\")\n",
    "    .agg(\n",
    "        [\n",
    "            (pl.col(\"label\") == 1).max().alias(\"is_match\"),\n",
    "            (pl.col(\"last_sml_cd\") == pl.col(\"sml_cd\")).sum().alias(\"same_pred_last\"),\n",
    "            (pl.col(\"label_sml_cd\") == pl.col(\"sml_cd\")).sum().alias(\"same_pred_label\"),\n",
    "            (pl.col(\"last_sml_cd\") == pl.col(\"label_sml_cd\")).max().alias(\"samle_last_label\"),\n",
    "        ]\n",
    "    )\n",
    ")\n",
    "session_label_df"
   ]
  },
  {
   "cell_type": "code",
   "execution_count": 4,
   "metadata": {},
   "outputs": [
    {
     "data": {
      "text/plain": [
       "<Axes: xlabel='rank', ylabel='Count'>"
      ]
     },
     "execution_count": 4,
     "metadata": {},
     "output_type": "execute_result"
    },
    {
     "data": {
      "image/png": "[encoded data removed]",
      "text/plain": [
       "<Figure size 640x480 with 1 Axes>"
      ]
     },
     "metadata": {},
     "output_type": "display_data"
    }
   ],
   "source": [
    "sns.histplot(data=oof_df.to_pandas(), hue=\"label\", x=\"rank\", bins=10)"
   ]
  },
  {
   "cell_type": "code",
   "execution_count": 5,
   "metadata": {},
   "outputs": [
    {
     "data": {
      "text/plain": [
       "<Axes: xlabel='score', ylabel='Count'>"
      ]
     },
     "execution_count": 5,
     "metadata": {},
     "output_type": "execute_result"
    },
    {
     "data": {
      "image/png": "[encoded data removed]",
      "text/plain": [
       "<Figure size 640x480 with 1 Axes>"
      ]
     },
     "metadata": {},
     "output_type": "display_data"
    }
   ],
   "source": [
    "sns.histplot(data=oof_df.to_pandas(), hue=\"label\", x=\"score\", cumulative=True)"
   ]
  },
  {
   "cell_type": "code",
   "execution_count": 6,
   "metadata": {},
   "outputs": [
    {
     "data": {
      "text/html": [
       "<div><style>\n",
       ".dataframe > thead > tr,\n",
       ".dataframe > tbody > tr {\n",
       "  text-align: right;\n",
       "  white-space: pre-wrap;\n",
       "}\n",
       "</style>\n",
       "<small>shape: (2_874_455, 5)</small><table border=\"1\" class=\"dataframe\"><thead><tr><th>session_id</th><th>yad_no</th><th>label</th><th>score</th><th>rank</th></tr><tr><td>i64</td><td>i64</td><td>i32</td><td>f32</td><td>u32</td></tr></thead><tbody><tr><td>0</td><td>997</td><td>0</td><td>0.07266</td><td>1</td></tr><tr><td>0</td><td>5821</td><td>0</td><td>0.068153</td><td>2</td></tr><tr><td>0</td><td>7157</td><td>0</td><td>0.06211</td><td>3</td></tr><tr><td>0</td><td>12837</td><td>0</td><td>0.043272</td><td>4</td></tr><tr><td>0</td><td>1648</td><td>0</td><td>0.042363</td><td>5</td></tr><tr><td>0</td><td>12846</td><td>0</td><td>0.0397</td><td>6</td></tr><tr><td>0</td><td>11101</td><td>0</td><td>0.036732</td><td>7</td></tr><tr><td>0</td><td>11134</td><td>0</td><td>0.032552</td><td>8</td></tr><tr><td>0</td><td>4391</td><td>0</td><td>0.026875</td><td>9</td></tr><tr><td>0</td><td>5289</td><td>0</td><td>0.015984</td><td>10</td></tr><tr><td>1</td><td>8992</td><td>0</td><td>0.020487</td><td>1</td></tr><tr><td>1</td><td>13717</td><td>0</td><td>0.018969</td><td>2</td></tr><tr><td>&hellip;</td><td>&hellip;</td><td>&hellip;</td><td>&hellip;</td><td>&hellip;</td></tr><tr><td>288696</td><td>9671</td><td>0</td><td>0.007707</td><td>9</td></tr><tr><td>288696</td><td>9861</td><td>0</td><td>0.005956</td><td>10</td></tr><tr><td>288697</td><td>2439</td><td>1</td><td>0.948254</td><td>1</td></tr><tr><td>288697</td><td>10415</td><td>0</td><td>0.03159</td><td>2</td></tr><tr><td>288697</td><td>10211</td><td>0</td><td>0.020746</td><td>3</td></tr><tr><td>288697</td><td>7093</td><td>0</td><td>0.019079</td><td>4</td></tr><tr><td>288697</td><td>9624</td><td>0</td><td>0.018423</td><td>5</td></tr><tr><td>288697</td><td>11822</td><td>0</td><td>0.014006</td><td>6</td></tr><tr><td>288697</td><td>5800</td><td>0</td><td>0.01224</td><td>7</td></tr><tr><td>288697</td><td>10439</td><td>0</td><td>0.011118</td><td>8</td></tr><tr><td>288697</td><td>1372</td><td>0</td><td>0.009403</td><td>9</td></tr><tr><td>288697</td><td>3</td><td>0</td><td>0.007244</td><td>10</td></tr></tbody></table></div>"
      ],
      "text/plain": [
       "shape: (2_874_455, 5)\n",
       "┌────────────┬────────┬───────┬──────────┬──────┐\n",
       "│ session_id ┆ yad_no ┆ label ┆ score    ┆ rank │\n",
       "│ ---        ┆ ---    ┆ ---   ┆ ---      ┆ ---  │\n",
       "│ i64        ┆ i64    ┆ i32   ┆ f32      ┆ u32  │\n",
       "╞════════════╪════════╪═══════╪══════════╪══════╡\n",
       "│ 0          ┆ 997    ┆ 0     ┆ 0.07266  ┆ 1    │\n",
       "│ 0          ┆ 5821   ┆ 0     ┆ 0.068153 ┆ 2    │\n",
       "│ 0          ┆ 7157   ┆ 0     ┆ 0.06211  ┆ 3    │\n",
       "│ 0          ┆ 12837  ┆ 0     ┆ 0.043272 ┆ 4    │\n",
       "│ …          ┆ …      ┆ …     ┆ …        ┆ …    │\n",
       "│ 288697     ┆ 5800   ┆ 0     ┆ 0.01224  ┆ 7    │\n",
       "│ 288697     ┆ 10439  ┆ 0     ┆ 0.011118 ┆ 8    │\n",
       "│ 288697     ┆ 1372   ┆ 0     ┆ 0.009403 ┆ 9    │\n",
       "│ 288697     ┆ 3      ┆ 0     ┆ 0.007244 ┆ 10   │\n",
       "└────────────┴────────┴───────┴──────────┴──────┘"
      ]
     },
     "execution_count": 6,
     "metadata": {},
     "output_type": "execute_result"
    }
   ],
   "source": [
    "oof_df"
   ]
  }
 ],
 "metadata": {
  "kernelspec": {
   "display_name": "atma-16-GUsyrwfA-py3.11",
   "language": "python",
   "name": "python3"
  },
  "language_info": {
   "codemirror_mode": {
    "name": "ipython",
    "version": 3
   },
   "file_extension": ".py",
   "mimetype": "text/x-python",
   "name": "python",
   "nbconvert_exporter": "python",
   "pygments_lexer": "ipython3",
   "version": "3.11.7"
  }
 },
 "nbformat": 4,
 "nbformat_minor": 2
}
