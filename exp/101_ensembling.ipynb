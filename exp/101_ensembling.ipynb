{
 "cells": [
  {
   "cell_type": "code",
   "execution_count": 1,
   "metadata": {},
   "outputs": [],
   "source": [
    "import numpy as np\n",
    "import wandb\n",
    "\n",
    "from scorta.recsys.candidate_generate import CandidateMerger\n",
    "from atma_16.dataset.dataset import AtmaData16Loader\n",
    "from pathlib import Path\n",
    "import polars as pl\n",
    "\n",
    "from hydra import initialize, compose\n",
    "from scorta.utils.utils import seed_everything\n",
    "\n",
    "from scorta.feature.feature import FeatureMerger\n",
    "import pandas as pd\n",
    "import seaborn as sns"
   ]
  },
  {
   "cell_type": "markdown",
   "metadata": {},
   "source": []
  },
  {
   "cell_type": "code",
   "execution_count": 2,
   "metadata": {},
   "outputs": [
    {
     "name": "stderr",
     "output_type": "stream",
     "text": [
      "Failed to detect the name of this notebook, you can set it manually with the WANDB_NOTEBOOK_NAME environment variable to enable code saving.\n"
     ]
    },
    {
     "name": "stdout",
     "output_type": "stream",
     "text": [
      "{'SessionYadoRaw': {'feature_cols': ['seq_no'], 'key_cols': ['yad_no', 'session_id']}, 'YadoRaw': {'feature_cols': ['yad_type', 'total_room_cnt', 'wireless_lan_flg', 'onsen_flg', 'kd_stn_5min', 'kd_bch_5min', 'kd_slp_5min', 'kd_conv_walk_5min', 'wid_cd', 'ken_cd', 'lrg_cd', 'sml_cd'], 'key_cols': ['yad_no']}, 'Session': {'feature_cols': ['user_mode_wid_cd', 'user_mode_ken_cd', 'user_mode_lrg_cd', 'user_mode_sml_cd', 'user_seq_cnt', 'user_mean_total_room_cnt', 'user_mean_wireless_lan_flg', 'user_mean_onsen_flg', 'user_mean_kd_stn_5min', 'user_mean_kd_bch_5min', 'user_mean_kd_slp_5min', 'user_mean_kd_conv_walk_5min', 'user_std_total_room_cnt', 'user_std_wireless_lan_flg', 'user_std_onsen_flg', 'user_std_kd_stn_5min', 'user_std_kd_bch_5min', 'user_std_kd_slp_5min', 'user_std_kd_conv_walk_5min'], 'key_cols': ['session_id']}, 'YadoRank': {'feature_cols': ['yad_cnt', 'yad_cnt_rank', 'yad_cnt_rank_wid_cd', 'yad_cnt_rank_ken_cd', 'yad_cnt_rank_lrg_cd', 'yad_cnt_rank_sml_cd'], 'key_cols': ['yad_no']}, 'MatchModeCD': {'feature_cols': ['is_match_mode_wid_cd', 'is_match_mode_ken_cd', 'is_match_mode_lrg_cd', 'is_match_mode_sml_cd'], 'key_cols': ['session_id', 'yad_no']}, 'YadoSesMean': {'feature_cols': ['this_session_seq_len_yad_mean', 'another_session_seq_len_yad_mean', 'this_count_yad_mean', 'another_count_yad_mean', 'this_ratio_yad_mean', 'another_ratio_yad_mean'], 'key_cols': ['yad_no']}, 'DiffUserLastAndPred': {'feature_cols': ['diff_this_session_seq_len_yad_mean', 'diff_another_session_seq_len_yad_mean', 'diff_this_count_yad_mean', 'diff_another_count_yad_mean'], 'key_cols': ['session_id', 'yad_no']}, 'SeenedYado': {'feature_cols': ['seened_yad_no_0', 'seened_yad_no_1', 'seened_yad_no_2', 'seened_yad_no_3', 'seened_yad_no_4', 'seened_yad_no_5', 'seened_yad_no_6', 'seened_yad_no_7', 'seened_yad_no_8', 'seened_yad_no_9'], 'key_cols': ['session_id']}, 'SmlCDStats': {'feature_cols': ['sml_cd_yad_nunique', 'sml_cd_yad_cnt', 'sml_cd_mean_total_room_cnt', 'sml_cd_mean_wireless_lan_flg', 'sml_cd_mean_onsen_flg', 'sml_cd_mean_kd_stn_5min', 'sml_cd_mean_kd_bch_5min', 'sml_cd_mean_kd_slp_5min', 'sml_cd_mean_kd_conv_walk_5min', 'sml_cd_std_total_room_cnt', 'sml_cd_std_wireless_lan_flg', 'sml_cd_std_onsen_flg', 'sml_cd_std_kd_stn_5min', 'sml_cd_std_kd_bch_5min', 'sml_cd_std_kd_slp_5min', 'sml_cd_std_kd_conv_walk_5min'], 'key_cols': ['sml_cd']}}\n"
     ]
    },
    {
     "name": "stderr",
     "output_type": "stream",
     "text": [
      "\u001b[34m\u001b[1mwandb\u001b[0m: Currently logged in as: \u001b[33mzerebom\u001b[0m. Use \u001b[1m`wandb login --relogin`\u001b[0m to force relogin\n"
     ]
    },
    {
     "data": {
      "text/html": [
       "Tracking run with wandb version 0.16.1"
      ],
      "text/plain": [
       "<IPython.core.display.HTML object>"
      ]
     },
     "metadata": {},
     "output_type": "display_data"
    },
    {
     "data": {
      "text/html": [
       "Run data is saved locally in <code>/home/zerebom/atma-16/exp/wandb/run-20231217_070016-bez0bdqs</code>"
      ],
      "text/plain": [
       "<IPython.core.display.HTML object>"
      ]
     },
     "metadata": {},
     "output_type": "display_data"
    },
    {
     "data": {
      "text/html": [
       "Syncing run <strong><a href='https://wandb.ai/zerebom/atma16/runs/bez0bdqs' target=\"_blank\">curious-gorge-32</a></strong> to <a href='https://wandb.ai/zerebom/atma16' target=\"_blank\">Weights & Biases</a> (<a href='https://wandb.me/run' target=\"_blank\">docs</a>)<br/>"
      ],
      "text/plain": [
       "<IPython.core.display.HTML object>"
      ]
     },
     "metadata": {},
     "output_type": "display_data"
    },
    {
     "data": {
      "text/html": [
       " View project at <a href='https://wandb.ai/zerebom/atma16' target=\"_blank\">https://wandb.ai/zerebom/atma16</a>"
      ],
      "text/plain": [
       "<IPython.core.display.HTML object>"
      ]
     },
     "metadata": {},
     "output_type": "display_data"
    },
    {
     "data": {
      "text/html": [
       " View run at <a href='https://wandb.ai/zerebom/atma16/runs/bez0bdqs' target=\"_blank\">https://wandb.ai/zerebom/atma16/runs/bez0bdqs</a>"
      ],
      "text/plain": [
       "<IPython.core.display.HTML object>"
      ]
     },
     "metadata": {},
     "output_type": "display_data"
    }
   ],
   "source": [
    "seed_everything()\n",
    "\n",
    "exp_name = \"101_ensembling\"\n",
    "input_dir = Path(\"../input\")\n",
    "candidate_dir = input_dir / \"candidate\"\n",
    "candidate_dir.mkdir(exist_ok=True)\n",
    "\n",
    "feature_dir = input_dir / \"feature\"\n",
    "feature_dir.mkdir(exist_ok=True)\n",
    "\n",
    "output_dir = Path(\"../output\") / exp_name\n",
    "output_dir.mkdir(parents=True, exist_ok=True)\n",
    "\n",
    "\n",
    "with initialize(version_base=\"1.3\", config_path=\"../config\"):\n",
    "    cfg = compose(config_name=f\"{exp_name}.yaml\")\n",
    "    print(cfg.feature)\n",
    "\n",
    "wandb.init(project=\"atma16\", config=dict(cfg))\n",
    "\n",
    "dl = AtmaData16Loader(input_dir)\n",
    "train_log = dl.load_train_log()\n",
    "\n",
    "yado = dl.load_yado()\n",
    "target_df = dl.load_train_label().with_columns(pl.lit(1).alias(\"target\"))"
   ]
  },
  {
   "cell_type": "code",
   "execution_count": 3,
   "metadata": {},
   "outputs": [],
   "source": [
    "train_log = dl.load_train_log()\n",
    "label = dl.load_train_label()\n",
    "test_log = dl.load_train_log()"
   ]
  },
  {
   "cell_type": "code",
   "execution_count": 37,
   "metadata": {},
   "outputs": [],
   "source": [
    "from atma_16.candidate.candidate import (\n",
    "    LastSeenedCandidate,\n",
    "    PopularAtCDCandidate,\n",
    "    PopBiasAwareCoVisitCandidate,\n",
    "    ImplicitCandidate,\n",
    "    # TopBookedFromLastViewCandidate,\n",
    "    CoVisitCandidate,\n",
    "    BPRCandidate,\n",
    "    LMFCandidate,\n",
    ")\n",
    "\n",
    "\n",
    "import scipy.sparse as sp\n",
    "from implicit.als import AlternatingLeastSquares\n",
    "from implicit.bpr import BayesianPersonalizedRanking\n",
    "from implicit.cpu.lmf import LogisticMatrixFactorization\n",
    "import os\n",
    "from implicit.nearest_neighbours import bm25_weight\n",
    "\n",
    "os.environ[\"OPENBLAS_NUM_THREADS\"] = \"32\"\n",
    "IS_GENERATE = True\n",
    "\n",
    "with initialize(version_base=\"1.3\", config_path=\"../config\"):\n",
    "    cfg = compose(config_name=f\"{exp_name}.yaml\")\n",
    "\n",
    "\n",
    "def make_csr_matrix(log: pl.DataFrame) -> sp.csr_matrix:\n",
    "    target = np.ones(len(log)).astype(int)\n",
    "    ses_ids = log[\"session_id\"].to_numpy().astype(int)\n",
    "    yad_ids = log[\"yad_no\"].to_numpy().astype(int)\n",
    "    mat = sp.csr_matrix((target, (ses_ids, yad_ids)))\n",
    "    mat = sp.csr_matrix(bm25_weight(mat, K1=100, B=0.8))\n",
    "    return mat\n",
    "\n",
    "\n",
    "all_log = dl.load_all_log()\n",
    "mat = make_csr_matrix(all_log)\n",
    "all_ses_ids = all_log[\"session_id\"].unique().to_numpy()\n",
    "\n",
    "train_candidates = [\n",
    "    LMFCandidate(\n",
    "        dl, LogisticMatrixFactorization(**cfg.lmf), mat, candidate_dir, mode=\"train\", target_df=target_df, top_k=20\n",
    "    ),\n",
    "    PopBiasAwareCoVisitCandidate(dl, candidate_dir, target_df=target_df, mode=\"train\"),\n",
    "    BPRCandidate(\n",
    "        dl, BayesianPersonalizedRanking(**cfg.bpr), mat, candidate_dir, mode=\"train\", target_df=target_df, top_k=20\n",
    "    ),\n",
    "    ImplicitCandidate(dl, AlternatingLeastSquares(**cfg.als), mat, candidate_dir, mode=\"train\", target_df=target_df),\n",
    "    CoVisitCandidate(dl, candidate_dir, target_df=target_df),\n",
    "    # TopBookedFromLastViewCandidate(dl, candidate_dir, target_df=target_df),\n",
    "    LastSeenedCandidate(dl, candidate_dir, target_df=target_df),\n",
    "    PopularAtCDCandidate(dl, candidate_dir, target_df=target_df),\n",
    "]\n",
    "test_candidates = [\n",
    "    LMFCandidate(\n",
    "        dl, LogisticMatrixFactorization(**cfg.lmf), mat, candidate_dir, mode=\"test\", target_df=target_df, top_k=20\n",
    "    ),\n",
    "    PopBiasAwareCoVisitCandidate(dl, candidate_dir, mode=\"test\"),\n",
    "    BPRCandidate(\n",
    "        dl, BayesianPersonalizedRanking(**cfg.bpr), mat, candidate_dir, mode=\"test\", target_df=target_df, top_k=20\n",
    "    ),\n",
    "    ImplicitCandidate(dl, AlternatingLeastSquares(**cfg.als), mat, candidate_dir, mode=\"test\"),\n",
    "    CoVisitCandidate(dl, candidate_dir, mode=\"test\"),\n",
    "    # TopBookedFromLastViewCandidate(dl, candidate_dir, mode=\"test\"),\n",
    "    LastSeenedCandidate(dl, candidate_dir, mode=\"test\"),\n",
    "    PopularAtCDCandidate(dl, candidate_dir, mode=\"test\"),\n",
    "]\n",
    "\n",
    "cands_dic = {\"train\": train_candidates, \"test\": test_candidates}"
   ]
  },
  {
   "cell_type": "code",
   "execution_count": 40,
   "metadata": {},
   "outputs": [
    {
     "name": "stdout",
     "output_type": "stream",
     "text": [
      "train\n"
     ]
    },
    {
     "name": "stderr",
     "output_type": "stream",
     "text": [
      "100%|██████████| 100/100 [00:40<00:00,  2.46it/s]\n",
      "7it [00:39,  5.69s/it]\n"
     ]
    },
    {
     "name": "stdout",
     "output_type": "stream",
     "text": [
      "test\n"
     ]
    },
    {
     "name": "stderr",
     "output_type": "stream",
     "text": [
      "100%|██████████| 100/100 [00:40<00:00,  2.45it/s]\n",
      "100%|██████████| 1000/1000 [00:27<00:00, 36.40it/s, train_auc=99.99%, skipped=0.04%]\n"
     ]
    },
    {
     "ename": "KeyboardInterrupt",
     "evalue": "",
     "output_type": "error",
     "traceback": [
      "\u001b[0;31m---------------------------------------------------------------------------\u001b[0m",
      "\u001b[0;31mKeyboardInterrupt\u001b[0m                         Traceback (most recent call last)",
      "Cell \u001b[0;32mIn[40], line 8\u001b[0m\n\u001b[1;32m      6\u001b[0m \u001b[38;5;28;01mif\u001b[39;00m cand\u001b[38;5;241m.\u001b[39mclass_name \u001b[38;5;241m!=\u001b[39m \u001b[38;5;124m\"\u001b[39m\u001b[38;5;124mLMFCandidate\u001b[39m\u001b[38;5;124m\"\u001b[39m \u001b[38;5;129;01mand\u001b[39;00m mode \u001b[38;5;241m!=\u001b[39m \u001b[38;5;124m\"\u001b[39m\u001b[38;5;124mtest\u001b[39m\u001b[38;5;124m\"\u001b[39m:\n\u001b[1;32m      7\u001b[0m     \u001b[38;5;28;01mcontinue\u001b[39;00m\n\u001b[0;32m----> 8\u001b[0m df \u001b[38;5;241m=\u001b[39m \u001b[43mcand\u001b[49m\u001b[38;5;241;43m.\u001b[39;49m\u001b[43mgenerate\u001b[49m\u001b[43m(\u001b[49m\u001b[43m)\u001b[49m\n\u001b[1;32m      9\u001b[0m cand\u001b[38;5;241m.\u001b[39msave(df)\n\u001b[1;32m     10\u001b[0m \u001b[38;5;28;01mif\u001b[39;00m mode \u001b[38;5;241m==\u001b[39m \u001b[38;5;124m\"\u001b[39m\u001b[38;5;124mtrain\u001b[39m\u001b[38;5;124m\"\u001b[39m:\n",
      "File \u001b[0;32m~/atma-16/atma_16/candidate/candidate.py:246\u001b[0m, in \u001b[0;36mImplicitCandidate.generate\u001b[0;34m(self)\u001b[0m\n\u001b[1;32m    242\u001b[0m user_ids \u001b[38;5;241m=\u001b[39m log[\u001b[38;5;28mself\u001b[39m\u001b[38;5;241m.\u001b[39muser_col]\u001b[38;5;241m.\u001b[39munique()\u001b[38;5;241m.\u001b[39mto_numpy()\n\u001b[1;32m    244\u001b[0m \u001b[38;5;28mself\u001b[39m\u001b[38;5;241m.\u001b[39mmodel\u001b[38;5;241m.\u001b[39mfit(\u001b[38;5;28mself\u001b[39m\u001b[38;5;241m.\u001b[39mmatrix)\n\u001b[0;32m--> 246\u001b[0m ids, scores \u001b[38;5;241m=\u001b[39m \u001b[38;5;28;43mself\u001b[39;49m\u001b[38;5;241;43m.\u001b[39;49m\u001b[43mmodel\u001b[49m\u001b[38;5;241;43m.\u001b[39;49m\u001b[43mrecommend\u001b[49m\u001b[43m(\u001b[49m\n\u001b[1;32m    247\u001b[0m \u001b[43m    \u001b[49m\u001b[43muser_ids\u001b[49m\u001b[43m,\u001b[49m\u001b[43m \u001b[49m\u001b[38;5;28;43mself\u001b[39;49m\u001b[38;5;241;43m.\u001b[39;49m\u001b[43mmatrix\u001b[49m\u001b[43m[\u001b[49m\u001b[43muser_ids\u001b[49m\u001b[43m]\u001b[49m\u001b[43m,\u001b[49m\u001b[43m \u001b[49m\u001b[43mN\u001b[49m\u001b[38;5;241;43m=\u001b[39;49m\u001b[38;5;28;43mself\u001b[39;49m\u001b[38;5;241;43m.\u001b[39;49m\u001b[43mtop_k\u001b[49m\u001b[43m,\u001b[49m\u001b[43m \u001b[49m\u001b[43mfilter_already_liked_items\u001b[49m\u001b[38;5;241;43m=\u001b[39;49m\u001b[38;5;28;43;01mFalse\u001b[39;49;00m\n\u001b[1;32m    248\u001b[0m \u001b[43m\u001b[49m\u001b[43m)\u001b[49m\n\u001b[1;32m    250\u001b[0m df \u001b[38;5;241m=\u001b[39m pl\u001b[38;5;241m.\u001b[39mDataFrame(\n\u001b[1;32m    251\u001b[0m     {\n\u001b[1;32m    252\u001b[0m         \u001b[38;5;28mself\u001b[39m\u001b[38;5;241m.\u001b[39muser_col: np\u001b[38;5;241m.\u001b[39mrepeat(user_ids, \u001b[38;5;28mself\u001b[39m\u001b[38;5;241m.\u001b[39mtop_k),\n\u001b[0;32m   (...)\u001b[0m\n\u001b[1;32m    255\u001b[0m     }\n\u001b[1;32m    256\u001b[0m )\n\u001b[1;32m    257\u001b[0m df \u001b[38;5;241m=\u001b[39m df\u001b[38;5;241m.\u001b[39mwith_columns(over_rank(\u001b[38;5;124m\"\u001b[39m\u001b[38;5;124mscore\u001b[39m\u001b[38;5;124m\"\u001b[39m, \u001b[38;5;28mself\u001b[39m\u001b[38;5;241m.\u001b[39muser_col)\u001b[38;5;241m.\u001b[39malias(\u001b[38;5;124m\"\u001b[39m\u001b[38;5;124mrank\u001b[39m\u001b[38;5;124m\"\u001b[39m), pl\u001b[38;5;241m.\u001b[39mcol(\u001b[38;5;28mself\u001b[39m\u001b[38;5;241m.\u001b[39mitem_col))\u001b[38;5;241m.\u001b[39mcast(pl\u001b[38;5;241m.\u001b[39mInt64)\n",
      "File \u001b[0;32m~/.cache/pypoetry/virtualenvs/atma-16-JhU7aZ4q-py3.11/lib/python3.11/site-packages/implicit/cpu/matrix_factorization_base.py:79\u001b[0m, in \u001b[0;36mMatrixFactorizationBase.recommend\u001b[0;34m(self, userid, user_items, N, filter_already_liked_items, filter_items, recalculate_user, items)\u001b[0m\n\u001b[1;32m     76\u001b[0m     \u001b[38;5;28;01mif\u001b[39;00m items \u001b[38;5;129;01mis\u001b[39;00m \u001b[38;5;129;01mnot\u001b[39;00m \u001b[38;5;28;01mNone\u001b[39;00m:\n\u001b[1;32m     77\u001b[0m         filter_query_items \u001b[38;5;241m=\u001b[39m _filter_items_from_sparse_matrix(items, filter_query_items)\n\u001b[0;32m---> 79\u001b[0m ids, scores \u001b[38;5;241m=\u001b[39m \u001b[43mtopk\u001b[49m\u001b[43m(\u001b[49m\n\u001b[1;32m     80\u001b[0m \u001b[43m    \u001b[49m\u001b[43mitem_factors\u001b[49m\u001b[43m,\u001b[49m\n\u001b[1;32m     81\u001b[0m \u001b[43m    \u001b[49m\u001b[43muser\u001b[49m\u001b[43m,\u001b[49m\n\u001b[1;32m     82\u001b[0m \u001b[43m    \u001b[49m\u001b[43mN\u001b[49m\u001b[43m,\u001b[49m\n\u001b[1;32m     83\u001b[0m \u001b[43m    \u001b[49m\u001b[43mfilter_query_items\u001b[49m\u001b[38;5;241;43m=\u001b[39;49m\u001b[43mfilter_query_items\u001b[49m\u001b[43m,\u001b[49m\n\u001b[1;32m     84\u001b[0m \u001b[43m    \u001b[49m\u001b[43mfilter_items\u001b[49m\u001b[38;5;241;43m=\u001b[39;49m\u001b[43mfilter_items\u001b[49m\u001b[43m,\u001b[49m\n\u001b[1;32m     85\u001b[0m \u001b[43m    \u001b[49m\u001b[43mnum_threads\u001b[49m\u001b[38;5;241;43m=\u001b[39;49m\u001b[38;5;28;43mself\u001b[39;49m\u001b[38;5;241;43m.\u001b[39;49m\u001b[43mnum_threads\u001b[49m\u001b[43m,\u001b[49m\n\u001b[1;32m     86\u001b[0m \u001b[43m\u001b[49m\u001b[43m)\u001b[49m\n\u001b[1;32m     88\u001b[0m \u001b[38;5;28;01mif\u001b[39;00m np\u001b[38;5;241m.\u001b[39misscalar(userid):\n\u001b[1;32m     89\u001b[0m     ids, scores \u001b[38;5;241m=\u001b[39m ids[\u001b[38;5;241m0\u001b[39m], scores[\u001b[38;5;241m0\u001b[39m]\n",
      "File \u001b[0;32mtopk.pyx:41\u001b[0m, in \u001b[0;36mimplicit.cpu.topk.topk\u001b[0;34m()\u001b[0m\n",
      "File \u001b[0;32mtopk.pyx:51\u001b[0m, in \u001b[0;36mimplicit.cpu.topk._topk_batch\u001b[0;34m()\u001b[0m\n",
      "File \u001b[0;32m~/.cache/pypoetry/virtualenvs/atma-16-JhU7aZ4q-py3.11/lib/python3.11/site-packages/numpy/core/getlimits.py:484\u001b[0m, in \u001b[0;36mfinfo.__new__\u001b[0;34m(cls, dtype)\u001b[0m\n\u001b[1;32m    380\u001b[0m \u001b[38;5;250m\u001b[39m\u001b[38;5;124;03m\"\"\"\u001b[39;00m\n\u001b[1;32m    381\u001b[0m \u001b[38;5;124;03mfinfo(dtype)\u001b[39;00m\n\u001b[1;32m    382\u001b[0m \n\u001b[0;32m   (...)\u001b[0m\n\u001b[1;32m    479\u001b[0m \n\u001b[1;32m    480\u001b[0m \u001b[38;5;124;03m\"\"\"\u001b[39;00m\n\u001b[1;32m    482\u001b[0m _finfo_cache \u001b[38;5;241m=\u001b[39m {}\n\u001b[0;32m--> 484\u001b[0m \u001b[38;5;28;01mdef\u001b[39;00m \u001b[38;5;21m__new__\u001b[39m(\u001b[38;5;28mcls\u001b[39m, dtype):\n\u001b[1;32m    485\u001b[0m     \u001b[38;5;28;01mtry\u001b[39;00m:\n\u001b[1;32m    486\u001b[0m         obj \u001b[38;5;241m=\u001b[39m \u001b[38;5;28mcls\u001b[39m\u001b[38;5;241m.\u001b[39m_finfo_cache\u001b[38;5;241m.\u001b[39mget(dtype)  \u001b[38;5;66;03m# most common path\u001b[39;00m\n",
      "\u001b[0;31mKeyboardInterrupt\u001b[0m: "
     ]
    }
   ],
   "source": [
    "all_eval_df = pd.DataFrame()\n",
    "for mode, candidates in cands_dic.items():\n",
    "    print(mode)\n",
    "    if IS_GENERATE:\n",
    "        for cand in candidates:\n",
    "            if cand.class_name != \"LMFCandidate\" and mode != \"test\":\n",
    "                continue\n",
    "            df = cand.generate()\n",
    "            cand.save(df)\n",
    "            if mode == \"train\":\n",
    "                eval_df = cand.evaluator.evaluate(df, cand.class_name)\n",
    "                all_eval_df = pd.concat([all_eval_df, eval_df])\n",
    "\n",
    "    cm = CandidateMerger(\n",
    "        dl, candidates, output_dir=candidate_dir, mode=mode, target_df=target_df if mode == \"train\" else None\n",
    "    )\n",
    "    merged_df = cm.merge()\n",
    "    cm.save(merged_df)\n",
    "    if mode == \"train\":\n",
    "        eval_df = cm.evaluator.evaluate(merged_df, cm.class_name)\n",
    "        all_eval_df = pd.concat([all_eval_df, eval_df])\n",
    "\n",
    "\n",
    "wandb.log({\"candidate_table\": wandb.Table(dataframe=all_eval_df)})\n",
    "all_eval_df"
   ]
  },
  {
   "cell_type": "code",
   "execution_count": 36,
   "metadata": {},
   "outputs": [
    {
     "data": {
      "text/plain": [
       "7"
      ]
     },
     "execution_count": 36,
     "metadata": {},
     "output_type": "execute_result"
    }
   ],
   "source": [
    "len(train_candidates)"
   ]
  },
  {
   "cell_type": "code",
   "execution_count": 42,
   "metadata": {},
   "outputs": [],
   "source": [
    "# train_df = CandidateMerger(dl, train_candidates, output_dir=candidate_dir, mode=\"train\").load()\n",
    "test_df = CandidateMerger(dl, test_candidates, output_dir=candidate_dir, mode=\"test\").load()\n",
    "train_label = dl.load_train_label().with_columns(pl.lit(1).alias(\"label\"))\n",
    "\n",
    "# train_df = train_df.join(train_label, on=[\"session_id\", \"yad_no\"], how=\"left\").with_columns(\n",
    "#     pl.col(\"label\").fill_null(0)\n",
    "# )\n",
    "\n",
    "# ideal_makp = len(train_df.join(label, on=[\"session_id\", \"yad_no\"], how=\"inner\")) / train_df[\"session_id\"].n_unique()\n",
    "# wandb.log({\"idal_makp\": ideal_makp})\n",
    "# print(ideal_makp)\n",
    "\n",
    "# wandb.log({\"candidate no hist\": plt.hist(train_df.group_by(\"session_id\").count().to_pandas()[\"count\"])})"
   ]
  },
  {
   "cell_type": "code",
   "execution_count": 43,
   "metadata": {},
   "outputs": [],
   "source": [
    "from atma_16.feature.feature import (\n",
    "    SeenedYadoFeature,\n",
    "    YadoRawFeature,\n",
    "    YadoRankFeature,\n",
    "    SessionFeature,\n",
    "    MatchModeCDFeature,\n",
    "    Feature,\n",
    "    SessionYadoRawFeature,\n",
    "    YadoSesMeanFeature,\n",
    "    SmlCDStatsFeatre,\n",
    "    DiffUserLastAndPredFeature,\n",
    ")"
   ]
  },
  {
   "cell_type": "code",
   "execution_count": 44,
   "metadata": {},
   "outputs": [
    {
     "name": "stdout",
     "output_type": "stream",
     "text": [
      "{'debug': False, 'seed': 113, 'fold_num': 5, 'lmf': {'factors': 150, 'learning_rate': 1.0, 'regularization': 0.6, 'iterations': 100, 'neg_prop': 30, 'num_threads': 0, 'random_state': 113}, 'bpr': {'factors': 100, 'learning_rate': 0.01, 'regularization': 0.01, 'iterations': 1000, 'num_threads': 0, 'verify_negative_samples': True, 'random_state': 113}, 'als': {'factors': 100, 'regularization': 0.05, 'alpha': 2.0, 'calculate_training_loss': True, 'iterations': 15}, 'gbdt': {'lgb': {'model_params': {'bin': {'learning_rate': 0.07, 'num_boost_round': 10000, 'objective': 'binary', 'metric': 'binary_logloss', 'random_state': 42, 'boosting_type': 'gbdt', 'verbose': -1, 'seed': 42, 'feature_fraction': 0.8, 'bagging_fraction': 0.8, 'bagging_freq': 1, 'num_leaves': 32, 'min_data_in_leaf': 20, 'max_depth': -1, 'max_bin': 255, 'n_jobs': -1, 'importance_type': 'gain'}, 'reg': {'learning_rate': 0.03, 'num_boost_round': 10000, 'objective': 'regression', 'metric': 'rmse', 'random_state': 42, 'boosting_type': 'gbdt', 'verbose': -1, 'seed': 42, 'feature_fraction': 0.8, 'bagging_fraction': 0.8, 'bagging_freq': 1, 'num_leaves': 32, 'min_data_in_leaf': 20, 'max_depth': -1, 'max_bin': 255, 'n_jobs': -1, 'importance_type': 'gain'}, 'rank': {'learning_rate': 0.03, 'num_boost_round': 10000, 'objective': 'lambdarank', 'metric': 'ndcg', 'is_unbalance': True, 'random_state': 42, 'boosting_type': 'gbdt', 'verbose': -1, 'seed': 42, 'feature_fraction': 0.8, 'bagging_fraction': 0.8, 'bagging_freq': 1, 'num_leaves': 32, 'min_data_in_leaf': 20, 'max_depth': -1, 'max_bin': 255, 'n_jobs': -1, 'importance_type': 'gain'}}, 'train_params': {'early_stopping_rounds': 50}}, 'cat': {'model_params': {'iterations': 10000, 'loss_function': 'Logloss', 'random_seed': 42, 'early_stopping_rounds': 50, 'task_type': 'GPU'}, 'train_params': {'verbose_eval': 250, 'early_stopping_round': 50}}}, 'feature': {'SessionYadoRaw': {'feature_cols': ['seq_no'], 'key_cols': ['yad_no', 'session_id']}, 'YadoRaw': {'feature_cols': ['yad_type', 'total_room_cnt', 'wireless_lan_flg', 'onsen_flg', 'kd_stn_5min', 'kd_bch_5min', 'kd_slp_5min', 'kd_conv_walk_5min', 'wid_cd', 'ken_cd', 'lrg_cd', 'sml_cd'], 'key_cols': ['yad_no']}, 'Session': {'feature_cols': ['user_mode_wid_cd', 'user_mode_ken_cd', 'user_mode_lrg_cd', 'user_mode_sml_cd', 'user_seq_cnt', 'user_mean_total_room_cnt', 'user_mean_wireless_lan_flg', 'user_mean_onsen_flg', 'user_mean_kd_stn_5min', 'user_mean_kd_bch_5min', 'user_mean_kd_slp_5min', 'user_mean_kd_conv_walk_5min', 'user_std_total_room_cnt', 'user_std_wireless_lan_flg', 'user_std_onsen_flg', 'user_std_kd_stn_5min', 'user_std_kd_bch_5min', 'user_std_kd_slp_5min', 'user_std_kd_conv_walk_5min'], 'key_cols': ['session_id']}, 'YadoRank': {'feature_cols': ['yad_cnt', 'yad_cnt_rank', 'yad_cnt_rank_wid_cd', 'yad_cnt_rank_ken_cd', 'yad_cnt_rank_lrg_cd', 'yad_cnt_rank_sml_cd'], 'key_cols': ['yad_no']}, 'MatchModeCD': {'feature_cols': ['is_match_mode_wid_cd', 'is_match_mode_ken_cd', 'is_match_mode_lrg_cd', 'is_match_mode_sml_cd'], 'key_cols': ['session_id', 'yad_no']}, 'YadoSesMean': {'feature_cols': ['this_session_seq_len_yad_mean', 'another_session_seq_len_yad_mean', 'this_count_yad_mean', 'another_count_yad_mean', 'this_ratio_yad_mean', 'another_ratio_yad_mean'], 'key_cols': ['yad_no']}, 'DiffUserLastAndPred': {'feature_cols': ['diff_this_session_seq_len_yad_mean', 'diff_another_session_seq_len_yad_mean', 'diff_this_count_yad_mean', 'diff_another_count_yad_mean'], 'key_cols': ['session_id', 'yad_no']}, 'SeenedYado': {'feature_cols': ['seened_yad_no_0', 'seened_yad_no_1', 'seened_yad_no_2', 'seened_yad_no_3', 'seened_yad_no_4', 'seened_yad_no_5', 'seened_yad_no_6', 'seened_yad_no_7', 'seened_yad_no_8', 'seened_yad_no_9'], 'key_cols': ['session_id']}, 'SmlCDStats': {'feature_cols': ['sml_cd_yad_nunique', 'sml_cd_yad_cnt', 'sml_cd_mean_total_room_cnt', 'sml_cd_mean_wireless_lan_flg', 'sml_cd_mean_onsen_flg', 'sml_cd_mean_kd_stn_5min', 'sml_cd_mean_kd_bch_5min', 'sml_cd_mean_kd_slp_5min', 'sml_cd_mean_kd_conv_walk_5min', 'sml_cd_std_total_room_cnt', 'sml_cd_std_wireless_lan_flg', 'sml_cd_std_onsen_flg', 'sml_cd_std_kd_stn_5min', 'sml_cd_std_kd_bch_5min', 'sml_cd_std_kd_slp_5min', 'sml_cd_std_kd_conv_walk_5min'], 'key_cols': ['sml_cd']}}}\n"
     ]
    }
   ],
   "source": [
    "with initialize(version_base=\"1.3\", config_path=\"../config\"):\n",
    "    cfg = compose(config_name=f\"{exp_name}.yaml\")\n",
    "    print(cfg)\n",
    "\n",
    "train_feats = [\n",
    "    YadoRawFeature(output_dir=feature_dir, data_loader=dl, **cfg.feature.YadoRaw),\n",
    "    SmlCDStatsFeatre(output_dir=feature_dir, data_loader=dl, mode=\"train\", **cfg.feature.SmlCDStats),\n",
    "    SeenedYadoFeature(output_dir=feature_dir, data_loader=dl, mode=\"train\", **cfg.feature.SeenedYado),\n",
    "    YadoRankFeature(output_dir=feature_dir, data_loader=dl, mode=\"train\", **cfg.feature.YadoRank),\n",
    "    SessionFeature(output_dir=feature_dir, data_loader=dl, mode=\"train\", **cfg.feature.Session),\n",
    "    SessionYadoRawFeature(output_dir=feature_dir, data_loader=dl, mode=\"train\", **cfg.feature.SessionYadoRaw),\n",
    "    YadoSesMeanFeature(output_dir=feature_dir, data_loader=dl, mode=\"train\", **cfg.feature.YadoSesMean),\n",
    "]\n",
    "\n",
    "test_feats = [\n",
    "    YadoRawFeature(output_dir=feature_dir, data_loader=dl, **cfg.feature.YadoRaw),\n",
    "    SmlCDStatsFeatre(output_dir=feature_dir, data_loader=dl, mode=\"test\", **cfg.feature.SmlCDStats),\n",
    "    SeenedYadoFeature(output_dir=feature_dir, data_loader=dl, mode=\"test\", **cfg.feature.SeenedYado),\n",
    "    YadoRankFeature(output_dir=feature_dir, data_loader=dl, mode=\"test\", **cfg.feature.YadoRank),\n",
    "    SessionFeature(output_dir=feature_dir, data_loader=dl, mode=\"test\", **cfg.feature.Session),\n",
    "    SessionYadoRawFeature(output_dir=feature_dir, data_loader=dl, mode=\"test\", **cfg.feature.SessionYadoRaw),\n",
    "    YadoSesMeanFeature(output_dir=feature_dir, data_loader=dl, mode=\"test\", **cfg.feature.YadoSesMean),\n",
    "]\n",
    "\n",
    "train_feat_depend_feats = [\n",
    "    MatchModeCDFeature(output_dir=feature_dir, data_loader=dl, mode=\"train\", **cfg.feature.MatchModeCD),\n",
    "    # DiffUserLastAndPredFeature(\n",
    "    #     output_dir=feature_dir,\n",
    "    #     data_loader=dl,\n",
    "    #     mode=\"train\",\n",
    "    #     yad_ses_feat=YadoSesMeanFeature(\n",
    "    #         output_dir=feature_dir, data_loader=dl, mode=\"train\", **cfg.feature.YadoSesMean\n",
    "    #     ),\n",
    "    #     **cfg.feature.DiffUserLastAndPred,\n",
    "    # ),\n",
    "]\n",
    "test_feat_depend_feats = [\n",
    "    # DiffUserLastAndPredFeature(\n",
    "    #     output_dir=feature_dir,\n",
    "    #     data_loader=dl,\n",
    "    #     yad_ses_feat=YadoSesMeanFeature(output_dir=feature_dir, data_loader=dl, mode=\"test\", **cfg.feature.YadoSesMean),\n",
    "    #     **cfg.feature.DiffUserLastAndPred,\n",
    "    # ),\n",
    "    MatchModeCDFeature(output_dir=feature_dir, data_loader=dl, mode=\"test\", **cfg.feature.MatchModeCD),\n",
    "]\n",
    "\n",
    "\n",
    "def create_feats(df: pl.DataFrame, feats: list[Feature]):\n",
    "    for feat in feats:\n",
    "        feat_df = feat.fit(df)\n",
    "        feat.save(feat_df)\n",
    "\n",
    "\n",
    "def create_merged_df(df: pl.DataFrame, feats: list[Feature], mode: str):\n",
    "    fm = FeatureMerger(output_dir=feature_dir, features=feats, mode=mode)\n",
    "    merged_df = fm.merge(df)\n",
    "    fm.save(merged_df)\n",
    "    return merged_df\n",
    "\n",
    "\n",
    "# train_df = create_merged_df(train_df, train_feats + train_feat_depend_feats)\n",
    "# test_df = create_merged_df(test_df, test_feats + test_feat_depend_feats)"
   ]
  },
  {
   "cell_type": "code",
   "execution_count": 45,
   "metadata": {},
   "outputs": [
    {
     "name": "stdout",
     "output_type": "stream",
     "text": [
      "(11223, 11)\n"
     ]
    },
    {
     "name": "stderr",
     "output_type": "stream",
     "text": [
      " 29%|██▊       | 2/7 [00:00<00:00,  9.23it/s]"
     ]
    },
    {
     "name": "stdout",
     "output_type": "stream",
     "text": [
      "YadoRawFeature (6178571, 29)\n",
      "SmlCDStatsFeatre_test (6178571, 45)\n"
     ]
    },
    {
     "name": "stderr",
     "output_type": "stream",
     "text": [
      " 43%|████▎     | 3/7 [00:00<00:00,  8.19it/s]"
     ]
    },
    {
     "name": "stdout",
     "output_type": "stream",
     "text": [
      "SeenedYadoFeature_test (6178571, 55)\n",
      "YadoRankFeature_test (6178571, 61)\n"
     ]
    },
    {
     "name": "stderr",
     "output_type": "stream",
     "text": [
      " 71%|███████▏  | 5/7 [00:00<00:00,  8.26it/s]"
     ]
    },
    {
     "name": "stdout",
     "output_type": "stream",
     "text": [
      "SessionFeature_test (6178571, 80)\n"
     ]
    },
    {
     "name": "stderr",
     "output_type": "stream",
     "text": [
      "100%|██████████| 7/7 [00:01<00:00,  6.84it/s]"
     ]
    },
    {
     "name": "stdout",
     "output_type": "stream",
     "text": [
      "SessionYadoRawFeature_test (6195163, 81)\n",
      "YadoSesMeanFeature_test (6195163, 87)\n"
     ]
    },
    {
     "name": "stderr",
     "output_type": "stream",
     "text": [
      "\n"
     ]
    }
   ],
   "source": [
    "# create_feats(train_df, train_feats)\n",
    "# train_merged_df = create_merged_df(train_df, train_feats, \"train\")\n",
    "# create_feats(train_merged_df, train_feat_depend_feats)\n",
    "# train_df = create_merged_df(train_df, train_feats + train_feat_depend_feats)\n",
    "\n",
    "test_df = CandidateMerger(dl, test_candidates, output_dir=candidate_dir, mode=\"test\").load()\n",
    "\n",
    "create_feats(test_df, test_feats)\n",
    "test_merged_df = create_merged_df(test_df, test_feats, \"test\")\n",
    "create_feats(test_merged_df, test_feat_depend_feats)"
   ]
  },
  {
   "cell_type": "code",
   "execution_count": 46,
   "metadata": {},
   "outputs": [
    {
     "name": "stderr",
     "output_type": "stream",
     "text": [
      "  0%|          | 0/8 [00:00<?, ?it/s]"
     ]
    },
    {
     "name": "stderr",
     "output_type": "stream",
     "text": [
      " 25%|██▌       | 2/8 [00:00<00:00,  8.69it/s]"
     ]
    },
    {
     "name": "stdout",
     "output_type": "stream",
     "text": [
      "YadoRawFeature (6178571, 29)\n",
      "SmlCDStatsFeatre_test (6178571, 45)\n"
     ]
    },
    {
     "name": "stderr",
     "output_type": "stream",
     "text": [
      " 38%|███▊      | 3/8 [00:00<00:00,  8.09it/s]"
     ]
    },
    {
     "name": "stdout",
     "output_type": "stream",
     "text": [
      "SeenedYadoFeature_test (6178571, 55)\n",
      "YadoRankFeature_test (6178571, 61)\n"
     ]
    },
    {
     "name": "stderr",
     "output_type": "stream",
     "text": [
      " 62%|██████▎   | 5/8 [00:00<00:00,  7.99it/s]"
     ]
    },
    {
     "name": "stdout",
     "output_type": "stream",
     "text": [
      "SessionFeature_test (6178571, 80)\n"
     ]
    },
    {
     "name": "stderr",
     "output_type": "stream",
     "text": [
      " 75%|███████▌  | 6/8 [00:00<00:00,  5.23it/s]"
     ]
    },
    {
     "name": "stdout",
     "output_type": "stream",
     "text": [
      "SessionYadoRawFeature_test (6195163, 81)\n",
      "YadoSesMeanFeature_test (6195163, 87)\n"
     ]
    },
    {
     "name": "stderr",
     "output_type": "stream",
     "text": [
      "100%|██████████| 8/8 [00:01<00:00,  4.37it/s]"
     ]
    },
    {
     "name": "stdout",
     "output_type": "stream",
     "text": [
      "MatchModeCDFeature_test (6273643, 91)\n"
     ]
    },
    {
     "name": "stderr",
     "output_type": "stream",
     "text": [
      "\n"
     ]
    }
   ],
   "source": [
    "# train_df = create_merged_df(train_df, train_feats + train_feat_depend_feats, \"train\")\n",
    "test_df = create_merged_df(test_df, test_feats + test_feat_depend_feats, \"test\")"
   ]
  },
  {
   "cell_type": "code",
   "execution_count": 13,
   "metadata": {},
   "outputs": [],
   "source": [
    "train_df = train_df.filter(pl.col(\"rank\") <= 50)\n",
    "test_df = test_df.filter(pl.col(\"rank\") <= 50)"
   ]
  },
  {
   "cell_type": "code",
   "execution_count": 14,
   "metadata": {},
   "outputs": [],
   "source": [
    "train_df = train_df.drop_nulls(subset=\"yad_no\").unique(subset=[\"session_id\", \"yad_no\"])\n",
    "test_df = test_df.drop_nulls(subset=\"yad_no\").unique(subset=[\"session_id\", \"yad_no\"])"
   ]
  },
  {
   "cell_type": "code",
   "execution_count": 15,
   "metadata": {},
   "outputs": [],
   "source": [
    "train_df = train_df.sort(by=[\"session_id\", \"sml_cd\"])\n",
    "test_df = test_df.sort(by=[\"session_id\", \"sml_cd\"])\n",
    "group = train_df[\"session_id\"].to_numpy()"
   ]
  },
  {
   "cell_type": "code",
   "execution_count": 47,
   "metadata": {},
   "outputs": [
    {
     "name": "stdout",
     "output_type": "stream",
     "text": [
      "(14809130, 93) (14809130,) (6273643, 89)\n"
     ]
    }
   ],
   "source": [
    "test_pdf = test_df.drop([\"session_id\", \"yad_no\"]).to_pandas()\n",
    "\n",
    "X_train = train_df.drop([\"fold\", \"label\", \"session_id\", \"yad_no\"]).to_numpy()\n",
    "y_train = train_df[\"label\"].to_numpy().flatten()\n",
    "print(X_train.shape, y_train.shape, test_pdf.shape)"
   ]
  },
  {
   "cell_type": "code",
   "execution_count": 34,
   "metadata": {},
   "outputs": [
    {
     "data": {
      "text/plain": [
       "{'LMFCandidate_rank', 'LMFCandidate_score', 'fold', 'label'}"
      ]
     },
     "execution_count": 34,
     "metadata": {},
     "output_type": "execute_result"
    }
   ],
   "source": [
    "set(train_df.drop([\"session_id\", \"yad_no\"]).columns) - set(test_df.drop([\"session_id\", \"yad_no\"]).columns)"
   ]
  },
  {
   "cell_type": "code",
   "execution_count": 17,
   "metadata": {},
   "outputs": [],
   "source": [
    "from sklearn.model_selection import KFold\n",
    "\n",
    "\n",
    "class GroupKFoldCV:\n",
    "    def __init__(self, n_splits=5):\n",
    "        self.n_splits = n_splits\n",
    "\n",
    "    def split(self, X, groups):\n",
    "        kf = KFold(n_splits=self.n_splits, shuffle=True, random_state=42)\n",
    "        unique_groups = np.unique(groups)\n",
    "\n",
    "        for train_group_idx, val_group_idx in kf.split(unique_groups):\n",
    "            train_groups = unique_groups[train_group_idx]\n",
    "            val_groups = unique_groups[val_group_idx]\n",
    "\n",
    "            train_idx = np.where(np.isin(groups, train_groups))[0]\n",
    "            val_idx = np.where(np.isin(groups, val_groups))[0]\n",
    "\n",
    "            # 訓練と検証セットのグループカウントを計算\n",
    "            train_group_counts = np.bincount(groups[train_idx])\n",
    "            val_group_counts = np.bincount(groups[val_idx])\n",
    "\n",
    "            yield train_idx, val_idx, train_group_counts, val_group_counts\n",
    "\n",
    "\n",
    "X = np.random.rand(8, 2)\n",
    "group_ids = np.array([0, 0, 1, 1, 2, 2, 3, 3])  # 例として数値の group_id を使用\n",
    "\n",
    "\n",
    "gkf = GroupKFoldCV(n_splits=5)\n",
    "\n",
    "\n",
    "# def tmp(X, group_ids):\n",
    "#     for train_idx, val_idx, train_group_counts, val_group_counts in gkf.split(X, group_ids):\n",
    "#         X_train, X_val = X[train_idx], X[val_idx]\n",
    "#         print(\"Train indices:\", train_idx[:5], \"Val indices:\", val_idx[:5])\n",
    "#         print(\"Train group counts:\", train_group_counts[:5], \"Val group counts:\", val_group_counts[:5])\n",
    "\n",
    "\n",
    "# group"
   ]
  },
  {
   "cell_type": "code",
   "execution_count": 18,
   "metadata": {},
   "outputs": [],
   "source": [
    "# GBDT class\n",
    "from typing import Any, Callable, Literal, TypeAlias\n",
    "from catboost import CatBoost, Pool\n",
    "from lightgbm import LGBMClassifier, LGBMRegressor, LGBMRanker\n",
    "import lightgbm as lgb\n",
    "\n",
    "GBDType: TypeAlias = Literal[\"cat\", \"xgb\", \"lgb\"]\n",
    "TaskType: TypeAlias = Literal[\"bin\", \"reg\", \"multi\", \"rank\"]\n",
    "\n",
    "\n",
    "class GBDT:\n",
    "    def __init__(\n",
    "        self,\n",
    "        gbdt_type: GBDType = \"cat\",\n",
    "        task_type: TaskType = \"bin\",\n",
    "        model_params: dict[str, Any] | None = None,\n",
    "        train_params: dict[str, Any] | None = None,\n",
    "        cv: Callable | None = None,\n",
    "        callbacks: list[Callable] | None = None,\n",
    "        **kwargs: Any,\n",
    "    ):\n",
    "        self.gbt_type = gbdt_type\n",
    "        self.task_type = task_type\n",
    "        self.cv = cv\n",
    "\n",
    "        if self.cv is None:\n",
    "            self.cv = KFold(n_splits=5, shuffle=True, random_state=42)\n",
    "\n",
    "        self.model_params = model_params\n",
    "        self.train_params = train_params\n",
    "        self.callbacks = callbacks\n",
    "        self.kwargs = kwargs\n",
    "\n",
    "\n",
    "class RANKLGB(GBDT):\n",
    "    def fit(self, X: np.ndarray, y: np.ndarray, group: np.ndarray | None = None):\n",
    "        self.models = []\n",
    "        oof = np.zeros(shape=(len(y)), dtype=np.float32)\n",
    "        for idx_tr, idx_val, train_groups, eval_groups in self.cv.split(X, group):  # type: ignore\n",
    "            self.model = LGBMRanker(**self.model_params)\n",
    "            X_tr, y_tr = X[idx_tr], y[idx_tr]\n",
    "            X_val, y_val = X[idx_val], y[idx_val]\n",
    "\n",
    "            self.model.fit(\n",
    "                X_tr,\n",
    "                y_tr,\n",
    "                group=train_groups,\n",
    "                eval_set=[(X_val, y_val)],\n",
    "                eval_group=[eval_groups],\n",
    "                callbacks=self.callbacks,  # type: ignore\n",
    "            )\n",
    "\n",
    "            oof[idx_val] = self.model.predict(X_val)\n",
    "            self.models.append(self.model)\n",
    "        return self.models, oof\n",
    "\n",
    "    def predict(self, X: np.ndarray, model_idx: int):\n",
    "        return self.models[model_idx].predict(X)\n",
    "\n",
    "    def feature_importance(self):\n",
    "        return [model.feature_importances_ for model in self.models]\n",
    "\n",
    "\n",
    "class LGB(GBDT):\n",
    "    \"\"\"\n",
    "    ex. callbacks:\n",
    "        callbacks=[\n",
    "            lgb.early_stopping(stopping_rounds=10, verbose=True),\n",
    "            lgb.log_evaluation(10),\n",
    "        ],\n",
    "    ex. train_params: {\"num_boost_round\": 10000}\n",
    "    \"\"\"\n",
    "\n",
    "    def fit(self, X: np.ndarray, y: np.ndarray, group: np.ndarray | None = None):\n",
    "        n_classes = len(np.unique(y))\n",
    "        self.models = []\n",
    "        match self.task_type:\n",
    "            case \"bin\" | \"multi\":\n",
    "                oof = np.zeros(shape=(len(y), n_classes), dtype=np.float32)\n",
    "            case \"reg\" | \"rank\":\n",
    "                oof = np.zeros(shape=(len(y)), dtype=np.float32)\n",
    "\n",
    "        for idx_tr, idx_val in cv.split(X, y):  # type: ignore\n",
    "            match self.task_type:\n",
    "                case \"bin\" | \"multi\":\n",
    "                    self.model = LGBMClassifier(**self.model_params)\n",
    "                case \"reg\":\n",
    "                    self.model = LGBMRegressor(**self.model_params)\n",
    "                case \"rank\":\n",
    "                    self.model = LGBMRanker(**self.model_params)\n",
    "\n",
    "            X_tr, y_tr = X[idx_tr], y[idx_tr]\n",
    "            X_val, y_val = X[idx_val], y[idx_val]\n",
    "\n",
    "            if self.task_type == \"rank\" and group is not None:\n",
    "                train_groups = group[idx_tr]\n",
    "                eval_groups = group[idx_val]\n",
    "                self.model.fit(\n",
    "                    X_tr,\n",
    "                    y_tr,\n",
    "                    group=train_groups,\n",
    "                    eval_set=[(X_val, y_val)],\n",
    "                    eval_group=[eval_groups],\n",
    "                    callbacks=self.callbacks,  # type: ignore\n",
    "                )\n",
    "            else:\n",
    "                self.model.fit(\n",
    "                    X_tr,\n",
    "                    y_tr,\n",
    "                    eval_set=[(X_val, y_val)],\n",
    "                    callbacks=self.callbacks,  # type: ignore\n",
    "                )\n",
    "\n",
    "            oof[idx_val] = (\n",
    "                self.model.predict_proba(X_val) if self.task_type in (\"bin\", \"multi\") else self.model.predict(X_val)\n",
    "            )\n",
    "            self.models.append(self.model)\n",
    "        return self.models, oof\n",
    "\n",
    "    def predict(self, X: np.ndarray, model_idx: int):\n",
    "        return self.models[model_idx].predict_proba(X)\n",
    "\n",
    "    def feature_importance(self):\n",
    "        return [model.feature_importances_ for model in self.models]\n",
    "\n",
    "\n",
    "class CAT(GBDT):\n",
    "    def fit(self, X: np.ndarray, y: np.ndarray):\n",
    "        n_classes = len(np.unique(y))\n",
    "        self.models = []\n",
    "\n",
    "        match self.task_type:\n",
    "            case \"bin\" | \"multi\":\n",
    "                self.model = CatBoost(params=self.model_params)\n",
    "                oof = np.zeros(shape=(len(y), n_classes), dtype=np.float32)\n",
    "\n",
    "        for idx_tr, idx_val in cv.split(X, y):  # type: ignore\n",
    "            X_tr, y_tr = X[idx_tr], y[idx_tr]\n",
    "            X_val, y_val = X[idx_val], y[idx_val]\n",
    "\n",
    "            clf_train = Pool(X_tr, y_tr)\n",
    "            clf_val = Pool(X_val, y_val)\n",
    "            self.model.fit(clf_train, eval_set=[clf_val])\n",
    "\n",
    "            oof[idx_val] = (\n",
    "                self.model.predict(X_val, prediction_type=\"Probability\")\n",
    "                if self.task_type in (\"bin\", \"multi\")\n",
    "                else self.model.predict(X_val)\n",
    "            )\n",
    "            self.models.append(self.model)\n",
    "        return self.models, oof"
   ]
  },
  {
   "cell_type": "code",
   "execution_count": 21,
   "metadata": {},
   "outputs": [],
   "source": [
    "with initialize(version_base=\"1.3\", config_path=\"../config\"):\n",
    "    cfg = compose(config_name=f\"{exp_name}.yaml\")"
   ]
  },
  {
   "cell_type": "code",
   "execution_count": 22,
   "metadata": {},
   "outputs": [
    {
     "name": "stderr",
     "output_type": "stream",
     "text": [
      "/home/zerebom/.cache/pypoetry/virtualenvs/atma-16-JhU7aZ4q-py3.11/lib/python3.11/site-packages/lightgbm/engine.py:172: UserWarning: Found `num_boost_round` in params. Will use it instead of argument\n",
      "  _log_warning(f\"Found `{alias}` in params. Will use it instead of argument\")\n"
     ]
    },
    {
     "name": "stdout",
     "output_type": "stream",
     "text": [
      "Training until validation scores don't improve for 50 rounds\n",
      "Early stopping, best iteration is:\n",
      "[124]\tvalid_0's binary_logloss: 0.0426553\n"
     ]
    },
    {
     "name": "stderr",
     "output_type": "stream",
     "text": [
      "/home/zerebom/.cache/pypoetry/virtualenvs/atma-16-JhU7aZ4q-py3.11/lib/python3.11/site-packages/lightgbm/engine.py:172: UserWarning: Found `num_boost_round` in params. Will use it instead of argument\n",
      "  _log_warning(f\"Found `{alias}` in params. Will use it instead of argument\")\n"
     ]
    },
    {
     "name": "stdout",
     "output_type": "stream",
     "text": [
      "Training until validation scores don't improve for 50 rounds\n",
      "Early stopping, best iteration is:\n",
      "[122]\tvalid_0's binary_logloss: 0.0420897\n"
     ]
    },
    {
     "name": "stderr",
     "output_type": "stream",
     "text": [
      "/home/zerebom/.cache/pypoetry/virtualenvs/atma-16-JhU7aZ4q-py3.11/lib/python3.11/site-packages/lightgbm/engine.py:172: UserWarning: Found `num_boost_round` in params. Will use it instead of argument\n",
      "  _log_warning(f\"Found `{alias}` in params. Will use it instead of argument\")\n"
     ]
    },
    {
     "name": "stdout",
     "output_type": "stream",
     "text": [
      "Training until validation scores don't improve for 50 rounds\n",
      "Early stopping, best iteration is:\n",
      "[102]\tvalid_0's binary_logloss: 0.0420998\n"
     ]
    },
    {
     "name": "stderr",
     "output_type": "stream",
     "text": [
      "/home/zerebom/.cache/pypoetry/virtualenvs/atma-16-JhU7aZ4q-py3.11/lib/python3.11/site-packages/lightgbm/engine.py:172: UserWarning: Found `num_boost_round` in params. Will use it instead of argument\n",
      "  _log_warning(f\"Found `{alias}` in params. Will use it instead of argument\")\n"
     ]
    },
    {
     "name": "stdout",
     "output_type": "stream",
     "text": [
      "Training until validation scores don't improve for 50 rounds\n",
      "Early stopping, best iteration is:\n",
      "[89]\tvalid_0's binary_logloss: 0.0426863\n"
     ]
    },
    {
     "name": "stderr",
     "output_type": "stream",
     "text": [
      "/home/zerebom/.cache/pypoetry/virtualenvs/atma-16-JhU7aZ4q-py3.11/lib/python3.11/site-packages/lightgbm/engine.py:172: UserWarning: Found `num_boost_round` in params. Will use it instead of argument\n",
      "  _log_warning(f\"Found `{alias}` in params. Will use it instead of argument\")\n"
     ]
    },
    {
     "name": "stdout",
     "output_type": "stream",
     "text": [
      "Training until validation scores don't improve for 50 rounds\n",
      "Early stopping, best iteration is:\n",
      "[96]\tvalid_0's binary_logloss: 0.0422933\n"
     ]
    }
   ],
   "source": [
    "from sklearn.model_selection import KFold\n",
    "\n",
    "cv = KFold(n_splits=5, shuffle=True, random_state=42)\n",
    "gkf = GroupKFoldCV(n_splits=5)\n",
    "\n",
    "task_type = \"bin\"\n",
    "\n",
    "if task_type == \"bin\":\n",
    "    model_params = cfg.gbdt.lgb.model_params.bin\n",
    "elif task_type == \"reg\":\n",
    "    model_params = cfg.gbdt.lgb.model_params.reg\n",
    "else:\n",
    "    model_params = cfg.gbdt.lgb.model_params.rank\n",
    "\n",
    "rank_wrapper = RANKLGB(\n",
    "    gbdt_type=\"lgb\",\n",
    "    task_type=task_type,\n",
    "    model_params=model_params,\n",
    "    train_params=cfg.gbdt.lgb.train_params,\n",
    "    cv=gkf,\n",
    "    callbacks=[\n",
    "        lgb.early_stopping(stopping_rounds=50, verbose=True),\n",
    "        lgb.log_evaluation(250),\n",
    "    ],\n",
    ")\n",
    "\n",
    "lgb_wrapper = LGB(\n",
    "    gbdt_type=\"lgb\",\n",
    "    task_type=task_type,\n",
    "    model_params=model_params,\n",
    "    train_params=cfg.gbdt.lgb.train_params,\n",
    "    cv=cv,\n",
    "    callbacks=[\n",
    "        lgb.early_stopping(stopping_rounds=50, verbose=True),\n",
    "        lgb.log_evaluation(250),\n",
    "    ],\n",
    ")\n",
    "\n",
    "cat_wrapper = CAT(\n",
    "    gbdt_type=\"cat\",\n",
    "    task_type=\"bin\",\n",
    "    model_params=dict(cfg.gbdt.cat.model_params),\n",
    "    train_params=dict(cfg.gbdt.cat.train_params),\n",
    "    cv=cv,\n",
    ")\n",
    "# models, oof = rank_wrapper.fit(X_train, y_train, group=group)\n",
    "models, oof = lgb_wrapper.fit(X_train, y_train, group=group)\n",
    "# models, oof = lgb_wrapper.fit(X_train, y_train, group=group)\n",
    "# models, oof = cat_wrapper.fit(X_train, y_train)"
   ]
  },
  {
   "cell_type": "code",
   "execution_count": 23,
   "metadata": {},
   "outputs": [
    {
     "name": "stdout",
     "output_type": "stream",
     "text": [
      "0.40353124680066593\n"
     ]
    }
   ],
   "source": [
    "from atma_16.utils.metrics import mapk\n",
    "\n",
    "if task_type == \"bin\":\n",
    "    score_s = pl.Series(oof[:, 1]).alias(\"score\")\n",
    "else:\n",
    "    score_s = pl.Series(oof).alias(\"score\")\n",
    "\n",
    "\n",
    "oof_df = (\n",
    "    train_df[[\"session_id\", \"yad_no\", \"label\"]]\n",
    "    .with_columns(score_s)\n",
    "    .sort([\"session_id\", \"score\"], descending=(False, True))\n",
    "    .filter(pl.col(\"session_id\").is_in(dl.load_train_log()[\"session_id\"].unique().to_numpy()))\n",
    "    .with_columns(pl.col(\"score\").rank(method=\"ordinal\", descending=True).over(\"session_id\").alias(\"rank\"))\n",
    "    .filter(pl.col(\"rank\") <= 10)\n",
    ")\n",
    "\n",
    "oof_lists = oof_df.group_by(\"session_id\", maintain_order=True).agg(pl.col(\"yad_no\"))[\"yad_no\"].to_list()\n",
    "y_true = train_label[\"yad_no\"].to_list()\n",
    "assert len(oof_lists) == len(y_true)\n",
    "oof_score = mapk(y_true, oof_lists, 10)\n",
    "print(oof_score)\n",
    "\n",
    "oof_df.write_parquet(output_dir / f\"oof_{oof_score}_{task_type}.parquet\")\n",
    "wandb.log({\"oof_score\": oof_score})"
   ]
  },
  {
   "cell_type": "code",
   "execution_count": 25,
   "metadata": {},
   "outputs": [
    {
     "data": {
      "text/plain": [
       "{'is_match_mode_ken_cd',\n",
       " 'is_match_mode_lrg_cd',\n",
       " 'is_match_mode_sml_cd',\n",
       " 'is_match_mode_wid_cd'}"
      ]
     },
     "execution_count": 25,
     "metadata": {},
     "output_type": "execute_result"
    }
   ],
   "source": [
    "set(test_pdf.columns) - set(train_merged_df.columns)"
   ]
  },
  {
   "cell_type": "code",
   "execution_count": 27,
   "metadata": {},
   "outputs": [
    {
     "data": {
      "text/plain": [
       "91"
      ]
     },
     "execution_count": 27,
     "metadata": {},
     "output_type": "execute_result"
    }
   ],
   "source": [
    "len(set(train_merged_df.columns))"
   ]
  },
  {
   "cell_type": "code",
   "execution_count": 48,
   "metadata": {},
   "outputs": [
    {
     "ename": "ValueError",
     "evalue": "Number of features of the model must match the input. Model n_features_ is 91 and input n_features is 89",
     "output_type": "error",
     "traceback": [
      "\u001b[0;31m---------------------------------------------------------------------------\u001b[0m",
      "\u001b[0;31mValueError\u001b[0m                                Traceback (most recent call last)",
      "Cell \u001b[0;32mIn[48], line 5\u001b[0m\n\u001b[1;32m      1\u001b[0m \u001b[38;5;28;01mimport\u001b[39;00m \u001b[38;5;21;01mnumpy\u001b[39;00m \u001b[38;5;28;01mas\u001b[39;00m \u001b[38;5;21;01mnp\u001b[39;00m\n\u001b[1;32m      4\u001b[0m \u001b[38;5;28;01mif\u001b[39;00m task_type \u001b[38;5;241m==\u001b[39m \u001b[38;5;124m\"\u001b[39m\u001b[38;5;124mbin\u001b[39m\u001b[38;5;124m\"\u001b[39m:\n\u001b[0;32m----> 5\u001b[0m     preds \u001b[38;5;241m=\u001b[39m np\u001b[38;5;241m.\u001b[39marray(\u001b[43m[\u001b[49m\u001b[43mlgb_wrapper\u001b[49m\u001b[38;5;241;43m.\u001b[39;49m\u001b[43mmodels\u001b[49m\u001b[43m[\u001b[49m\u001b[43mi\u001b[49m\u001b[43m]\u001b[49m\u001b[38;5;241;43m.\u001b[39;49m\u001b[43mpredict_proba\u001b[49m\u001b[43m(\u001b[49m\u001b[43mtest_pdf\u001b[49m\u001b[43m)\u001b[49m\u001b[43m[\u001b[49m\u001b[43m:\u001b[49m\u001b[43m,\u001b[49m\u001b[43m \u001b[49m\u001b[38;5;241;43m1\u001b[39;49m\u001b[43m]\u001b[49m\u001b[43m \u001b[49m\u001b[38;5;28;43;01mfor\u001b[39;49;00m\u001b[43m \u001b[49m\u001b[43mi\u001b[49m\u001b[43m \u001b[49m\u001b[38;5;129;43;01min\u001b[39;49;00m\u001b[43m \u001b[49m\u001b[38;5;28;43mrange\u001b[39;49m\u001b[43m(\u001b[49m\u001b[38;5;241;43m5\u001b[39;49m\u001b[43m)\u001b[49m\u001b[43m]\u001b[49m)\u001b[38;5;241m.\u001b[39mmean(axis\u001b[38;5;241m=\u001b[39m\u001b[38;5;241m0\u001b[39m)\n\u001b[1;32m      6\u001b[0m \u001b[38;5;28;01mif\u001b[39;00m task_type \u001b[38;5;241m==\u001b[39m \u001b[38;5;124m\"\u001b[39m\u001b[38;5;124mrank\u001b[39m\u001b[38;5;124m\"\u001b[39m:\n\u001b[1;32m      7\u001b[0m     preds \u001b[38;5;241m=\u001b[39m np\u001b[38;5;241m.\u001b[39marray([rank_wrapper\u001b[38;5;241m.\u001b[39mmodels[i]\u001b[38;5;241m.\u001b[39mpredict(test_pdf) \u001b[38;5;28;01mfor\u001b[39;00m i \u001b[38;5;129;01min\u001b[39;00m \u001b[38;5;28mrange\u001b[39m(\u001b[38;5;241m5\u001b[39m)])\u001b[38;5;241m.\u001b[39mmean(axis\u001b[38;5;241m=\u001b[39m\u001b[38;5;241m0\u001b[39m)\n",
      "Cell \u001b[0;32mIn[48], line 5\u001b[0m, in \u001b[0;36m<listcomp>\u001b[0;34m(.0)\u001b[0m\n\u001b[1;32m      1\u001b[0m \u001b[38;5;28;01mimport\u001b[39;00m \u001b[38;5;21;01mnumpy\u001b[39;00m \u001b[38;5;28;01mas\u001b[39;00m \u001b[38;5;21;01mnp\u001b[39;00m\n\u001b[1;32m      4\u001b[0m \u001b[38;5;28;01mif\u001b[39;00m task_type \u001b[38;5;241m==\u001b[39m \u001b[38;5;124m\"\u001b[39m\u001b[38;5;124mbin\u001b[39m\u001b[38;5;124m\"\u001b[39m:\n\u001b[0;32m----> 5\u001b[0m     preds \u001b[38;5;241m=\u001b[39m np\u001b[38;5;241m.\u001b[39marray([\u001b[43mlgb_wrapper\u001b[49m\u001b[38;5;241;43m.\u001b[39;49m\u001b[43mmodels\u001b[49m\u001b[43m[\u001b[49m\u001b[43mi\u001b[49m\u001b[43m]\u001b[49m\u001b[38;5;241;43m.\u001b[39;49m\u001b[43mpredict_proba\u001b[49m\u001b[43m(\u001b[49m\u001b[43mtest_pdf\u001b[49m\u001b[43m)\u001b[49m[:, \u001b[38;5;241m1\u001b[39m] \u001b[38;5;28;01mfor\u001b[39;00m i \u001b[38;5;129;01min\u001b[39;00m \u001b[38;5;28mrange\u001b[39m(\u001b[38;5;241m5\u001b[39m)])\u001b[38;5;241m.\u001b[39mmean(axis\u001b[38;5;241m=\u001b[39m\u001b[38;5;241m0\u001b[39m)\n\u001b[1;32m      6\u001b[0m \u001b[38;5;28;01mif\u001b[39;00m task_type \u001b[38;5;241m==\u001b[39m \u001b[38;5;124m\"\u001b[39m\u001b[38;5;124mrank\u001b[39m\u001b[38;5;124m\"\u001b[39m:\n\u001b[1;32m      7\u001b[0m     preds \u001b[38;5;241m=\u001b[39m np\u001b[38;5;241m.\u001b[39marray([rank_wrapper\u001b[38;5;241m.\u001b[39mmodels[i]\u001b[38;5;241m.\u001b[39mpredict(test_pdf) \u001b[38;5;28;01mfor\u001b[39;00m i \u001b[38;5;129;01min\u001b[39;00m \u001b[38;5;28mrange\u001b[39m(\u001b[38;5;241m5\u001b[39m)])\u001b[38;5;241m.\u001b[39mmean(axis\u001b[38;5;241m=\u001b[39m\u001b[38;5;241m0\u001b[39m)\n",
      "File \u001b[0;32m~/.cache/pypoetry/virtualenvs/atma-16-JhU7aZ4q-py3.11/lib/python3.11/site-packages/lightgbm/sklearn.py:1208\u001b[0m, in \u001b[0;36mLGBMClassifier.predict_proba\u001b[0;34m(self, X, raw_score, start_iteration, num_iteration, pred_leaf, pred_contrib, validate_features, **kwargs)\u001b[0m\n\u001b[1;32m   1196\u001b[0m \u001b[38;5;28;01mdef\u001b[39;00m \u001b[38;5;21mpredict_proba\u001b[39m(\n\u001b[1;32m   1197\u001b[0m     \u001b[38;5;28mself\u001b[39m,\n\u001b[1;32m   1198\u001b[0m     X: _LGBM_ScikitMatrixLike,\n\u001b[0;32m   (...)\u001b[0m\n\u001b[1;32m   1205\u001b[0m     \u001b[38;5;241m*\u001b[39m\u001b[38;5;241m*\u001b[39mkwargs: Any\n\u001b[1;32m   1206\u001b[0m ):\n\u001b[1;32m   1207\u001b[0m \u001b[38;5;250m    \u001b[39m\u001b[38;5;124;03m\"\"\"Docstring is set after definition, using a template.\"\"\"\u001b[39;00m\n\u001b[0;32m-> 1208\u001b[0m     result \u001b[38;5;241m=\u001b[39m \u001b[38;5;28;43msuper\u001b[39;49m\u001b[43m(\u001b[49m\u001b[43m)\u001b[49m\u001b[38;5;241;43m.\u001b[39;49m\u001b[43mpredict\u001b[49m\u001b[43m(\u001b[49m\n\u001b[1;32m   1209\u001b[0m \u001b[43m        \u001b[49m\u001b[43mX\u001b[49m\u001b[38;5;241;43m=\u001b[39;49m\u001b[43mX\u001b[49m\u001b[43m,\u001b[49m\n\u001b[1;32m   1210\u001b[0m \u001b[43m        \u001b[49m\u001b[43mraw_score\u001b[49m\u001b[38;5;241;43m=\u001b[39;49m\u001b[43mraw_score\u001b[49m\u001b[43m,\u001b[49m\n\u001b[1;32m   1211\u001b[0m \u001b[43m        \u001b[49m\u001b[43mstart_iteration\u001b[49m\u001b[38;5;241;43m=\u001b[39;49m\u001b[43mstart_iteration\u001b[49m\u001b[43m,\u001b[49m\n\u001b[1;32m   1212\u001b[0m \u001b[43m        \u001b[49m\u001b[43mnum_iteration\u001b[49m\u001b[38;5;241;43m=\u001b[39;49m\u001b[43mnum_iteration\u001b[49m\u001b[43m,\u001b[49m\n\u001b[1;32m   1213\u001b[0m \u001b[43m        \u001b[49m\u001b[43mpred_leaf\u001b[49m\u001b[38;5;241;43m=\u001b[39;49m\u001b[43mpred_leaf\u001b[49m\u001b[43m,\u001b[49m\n\u001b[1;32m   1214\u001b[0m \u001b[43m        \u001b[49m\u001b[43mpred_contrib\u001b[49m\u001b[38;5;241;43m=\u001b[39;49m\u001b[43mpred_contrib\u001b[49m\u001b[43m,\u001b[49m\n\u001b[1;32m   1215\u001b[0m \u001b[43m        \u001b[49m\u001b[43mvalidate_features\u001b[49m\u001b[38;5;241;43m=\u001b[39;49m\u001b[43mvalidate_features\u001b[49m\u001b[43m,\u001b[49m\n\u001b[1;32m   1216\u001b[0m \u001b[43m        \u001b[49m\u001b[38;5;241;43m*\u001b[39;49m\u001b[38;5;241;43m*\u001b[39;49m\u001b[43mkwargs\u001b[49m\n\u001b[1;32m   1217\u001b[0m \u001b[43m    \u001b[49m\u001b[43m)\u001b[49m\n\u001b[1;32m   1218\u001b[0m     \u001b[38;5;28;01mif\u001b[39;00m \u001b[38;5;28mcallable\u001b[39m(\u001b[38;5;28mself\u001b[39m\u001b[38;5;241m.\u001b[39m_objective) \u001b[38;5;129;01mand\u001b[39;00m \u001b[38;5;129;01mnot\u001b[39;00m (raw_score \u001b[38;5;129;01mor\u001b[39;00m pred_leaf \u001b[38;5;129;01mor\u001b[39;00m pred_contrib):\n\u001b[1;32m   1219\u001b[0m         _log_warning(\u001b[38;5;124m\"\u001b[39m\u001b[38;5;124mCannot compute class probabilities or labels \u001b[39m\u001b[38;5;124m\"\u001b[39m\n\u001b[1;32m   1220\u001b[0m                      \u001b[38;5;124m\"\u001b[39m\u001b[38;5;124mdue to the usage of customized objective function.\u001b[39m\u001b[38;5;130;01m\\n\u001b[39;00m\u001b[38;5;124m\"\u001b[39m\n\u001b[1;32m   1221\u001b[0m                      \u001b[38;5;124m\"\u001b[39m\u001b[38;5;124mReturning raw scores instead.\u001b[39m\u001b[38;5;124m\"\u001b[39m)\n",
      "File \u001b[0;32m~/.cache/pypoetry/virtualenvs/atma-16-JhU7aZ4q-py3.11/lib/python3.11/site-packages/lightgbm/sklearn.py:894\u001b[0m, in \u001b[0;36mLGBMModel.predict\u001b[0;34m(self, X, raw_score, start_iteration, num_iteration, pred_leaf, pred_contrib, validate_features, **kwargs)\u001b[0m\n\u001b[1;32m    892\u001b[0m n_features \u001b[38;5;241m=\u001b[39m X\u001b[38;5;241m.\u001b[39mshape[\u001b[38;5;241m1\u001b[39m]\n\u001b[1;32m    893\u001b[0m \u001b[38;5;28;01mif\u001b[39;00m \u001b[38;5;28mself\u001b[39m\u001b[38;5;241m.\u001b[39m_n_features \u001b[38;5;241m!=\u001b[39m n_features:\n\u001b[0;32m--> 894\u001b[0m     \u001b[38;5;28;01mraise\u001b[39;00m \u001b[38;5;167;01mValueError\u001b[39;00m(\u001b[38;5;124m\"\u001b[39m\u001b[38;5;124mNumber of features of the model must \u001b[39m\u001b[38;5;124m\"\u001b[39m\n\u001b[1;32m    895\u001b[0m                      \u001b[38;5;124mf\u001b[39m\u001b[38;5;124m\"\u001b[39m\u001b[38;5;124mmatch the input. Model n_features_ is \u001b[39m\u001b[38;5;132;01m{\u001b[39;00m\u001b[38;5;28mself\u001b[39m\u001b[38;5;241m.\u001b[39m_n_features\u001b[38;5;132;01m}\u001b[39;00m\u001b[38;5;124m and \u001b[39m\u001b[38;5;124m\"\u001b[39m\n\u001b[1;32m    896\u001b[0m                      \u001b[38;5;124mf\u001b[39m\u001b[38;5;124m\"\u001b[39m\u001b[38;5;124minput n_features is \u001b[39m\u001b[38;5;132;01m{\u001b[39;00mn_features\u001b[38;5;132;01m}\u001b[39;00m\u001b[38;5;124m\"\u001b[39m)\n\u001b[1;32m    897\u001b[0m \u001b[38;5;66;03m# retrive original params that possibly can be used in both training and prediction\u001b[39;00m\n\u001b[1;32m    898\u001b[0m \u001b[38;5;66;03m# and then overwrite them (considering aliases) with params that were passed directly in prediction\u001b[39;00m\n\u001b[1;32m    899\u001b[0m predict_params \u001b[38;5;241m=\u001b[39m \u001b[38;5;28mself\u001b[39m\u001b[38;5;241m.\u001b[39m_process_params(stage\u001b[38;5;241m=\u001b[39m\u001b[38;5;124m\"\u001b[39m\u001b[38;5;124mpredict\u001b[39m\u001b[38;5;124m\"\u001b[39m)\n",
      "\u001b[0;31mValueError\u001b[0m: Number of features of the model must match the input. Model n_features_ is 91 and input n_features is 89"
     ]
    }
   ],
   "source": [
    "import numpy as np\n",
    "\n",
    "\n",
    "if task_type == \"bin\":\n",
    "    preds = np.array([lgb_wrapper.models[i].predict_proba(test_pdf)[:, 1] for i in range(5)]).mean(axis=0)\n",
    "if task_type == \"rank\":\n",
    "    preds = np.array([rank_wrapper.models[i].predict(test_pdf) for i in range(5)]).mean(axis=0)\n",
    "else:\n",
    "    preds = np.array([lgb_wrapper.models[i].predict(test_pdf) for i in range(5)]).mean(axis=0)\n",
    "# preds = np.array([lgb_wrapper.predict(test_pdf, i) for i in range(5)]).mean(axis=0)\n",
    "\n",
    "\n",
    "sub = test_df.with_columns(pl.Series(preds).alias(\"score\"))[[\"session_id\", \"yad_no\", \"score\"]]"
   ]
  },
  {
   "cell_type": "code",
   "execution_count": null,
   "metadata": {},
   "outputs": [],
   "source": [
    "sub.write_parquet(f\"../output/{exp_name}/sub_df_{oof_score}_{task_type}.parquet\")"
   ]
  },
  {
   "cell_type": "code",
   "execution_count": null,
   "metadata": {},
   "outputs": [
    {
     "data": {
      "text/html": [
       "<div><style>\n",
       ".dataframe > thead > tr,\n",
       ".dataframe > tbody > tr {\n",
       "  text-align: right;\n",
       "  white-space: pre-wrap;\n",
       "}\n",
       "</style>\n",
       "<small>shape: (5_867_194, 3)</small><table border=\"1\" class=\"dataframe\"><thead><tr><th>session_id</th><th>yad_no</th><th>score</th></tr><tr><td>i64</td><td>i64</td><td>f64</td></tr></thead><tbody><tr><td>288698</td><td>11496</td><td>-1.42699</td></tr><tr><td>288698</td><td>2305</td><td>-1.42699</td></tr><tr><td>288698</td><td>9535</td><td>-1.42699</td></tr><tr><td>288698</td><td>6488</td><td>-1.058224</td></tr><tr><td>288698</td><td>6711</td><td>-1.42699</td></tr><tr><td>288698</td><td>4420</td><td>-0.541873</td></tr><tr><td>288698</td><td>9534</td><td>-0.444307</td></tr><tr><td>288698</td><td>10965</td><td>-1.42699</td></tr><tr><td>288698</td><td>10233</td><td>-1.250647</td></tr><tr><td>288698</td><td>3203</td><td>-1.42699</td></tr><tr><td>288698</td><td>2680</td><td>-0.790633</td></tr><tr><td>288698</td><td>6058</td><td>-1.42699</td></tr><tr><td>&hellip;</td><td>&hellip;</td><td>&hellip;</td></tr><tr><td>463397</td><td>867</td><td>0.135431</td></tr><tr><td>463397</td><td>13593</td><td>0.133578</td></tr><tr><td>463397</td><td>10446</td><td>0.075127</td></tr><tr><td>463397</td><td>12117</td><td>0.048823</td></tr><tr><td>463397</td><td>634</td><td>0.116792</td></tr><tr><td>463397</td><td>12620</td><td>0.083672</td></tr><tr><td>463397</td><td>273</td><td>-0.438151</td></tr><tr><td>463397</td><td>6178</td><td>0.060323</td></tr><tr><td>463397</td><td>13147</td><td>-1.555024</td></tr><tr><td>463397</td><td>11317</td><td>-1.555024</td></tr><tr><td>463397</td><td>2367</td><td>-1.555024</td></tr><tr><td>463397</td><td>10608</td><td>-1.555024</td></tr></tbody></table></div>"
      ],
      "text/plain": [
       "shape: (5_867_194, 3)\n",
       "┌────────────┬────────┬───────────┐\n",
       "│ session_id ┆ yad_no ┆ score     │\n",
       "│ ---        ┆ ---    ┆ ---       │\n",
       "│ i64        ┆ i64    ┆ f64       │\n",
       "╞════════════╪════════╪═══════════╡\n",
       "│ 288698     ┆ 11496  ┆ -1.42699  │\n",
       "│ 288698     ┆ 2305   ┆ -1.42699  │\n",
       "│ 288698     ┆ 9535   ┆ -1.42699  │\n",
       "│ 288698     ┆ 6488   ┆ -1.058224 │\n",
       "│ …          ┆ …      ┆ …         │\n",
       "│ 463397     ┆ 13147  ┆ -1.555024 │\n",
       "│ 463397     ┆ 11317  ┆ -1.555024 │\n",
       "│ 463397     ┆ 2367   ┆ -1.555024 │\n",
       "│ 463397     ┆ 10608  ┆ -1.555024 │\n",
       "└────────────┴────────┴───────────┘"
      ]
     },
     "execution_count": 52,
     "metadata": {},
     "output_type": "execute_result"
    }
   ],
   "source": [
    "test_df.with_columns(pl.Series(preds).alias(\"score\"))[[\"session_id\", \"yad_no\", \"score\"]]"
   ]
  },
  {
   "cell_type": "code",
   "execution_count": 49,
   "metadata": {},
   "outputs": [],
   "source": [
    "from atma_16.utils.polars_utils import min_max_scaler\n",
    "\n",
    "subs = [\n",
    "    # \"sub_df_0.4018809764077125_reg.parquet\",\n",
    "    \"sub_df_0.4036476905013221_bin.parquet\",\n",
    "    \"sub_df_0.40218789212026196_rank.parquet\",\n",
    "    \"sub_df_0.4032940199935448_bin.parquet\",\n",
    "]\n",
    "all_sub_df = pd.DataFrame()\n",
    "for idx, sub in enumerate(subs):\n",
    "    tmp_df = (\n",
    "        pl.read_parquet(f\"../output/{exp_name}/{sub}\")\n",
    "        .select([pl.col([\"session_id\", \"yad_no\"])] + [pl.col(\"score\").alias(f\"score_{idx}\")])\n",
    "        .with_columns(min_max_scaler(f\"score_{idx}\"))\n",
    "    )\n",
    "\n",
    "    if idx == 0:\n",
    "        all_sub_df = tmp_df\n",
    "    else:\n",
    "        all_sub_df = all_sub_df.join(tmp_df, how=\"left\", on=[\"session_id\", \"yad_no\"])"
   ]
  },
  {
   "cell_type": "code",
   "execution_count": 50,
   "metadata": {},
   "outputs": [],
   "source": [
    "mean_sub_df = all_sub_df.select(\n",
    "    [pl.col([\"session_id\", \"yad_no\"])] + [all_sub_df.select(pl.col(\"^score_[0-9]$\")).mean_horizontal().alias(\"score\")]\n",
    ")"
   ]
  },
  {
   "cell_type": "code",
   "execution_count": 51,
   "metadata": {},
   "outputs": [
    {
     "ename": "AttributeError",
     "evalue": "'RANKLGB' object has no attribute 'models'",
     "output_type": "error",
     "traceback": [
      "\u001b[0;31m---------------------------------------------------------------------------\u001b[0m",
      "\u001b[0;31mAttributeError\u001b[0m                            Traceback (most recent call last)",
      "Cell \u001b[0;32mIn[51], line 4\u001b[0m\n\u001b[1;32m      1\u001b[0m \u001b[38;5;28;01mfrom\u001b[39;00m \u001b[38;5;21;01mscorta\u001b[39;00m\u001b[38;5;21;01m.\u001b[39;00m\u001b[38;5;21;01meda\u001b[39;00m \u001b[38;5;28;01mimport\u001b[39;00m df \u001b[38;5;28;01mas\u001b[39;00m eda_df\n\u001b[0;32m----> 4\u001b[0m eda_df\u001b[38;5;241m.\u001b[39mvisualize_importance(\u001b[43mrank_wrapper\u001b[49m\u001b[38;5;241;43m.\u001b[39;49m\u001b[43mfeature_importance\u001b[49m\u001b[43m(\u001b[49m\u001b[43m)\u001b[49m, train_df\u001b[38;5;241m.\u001b[39mdrop([\u001b[38;5;124m\"\u001b[39m\u001b[38;5;124mfold\u001b[39m\u001b[38;5;124m\"\u001b[39m, \u001b[38;5;124m\"\u001b[39m\u001b[38;5;124mlabel\u001b[39m\u001b[38;5;124m\"\u001b[39m, \u001b[38;5;124m\"\u001b[39m\u001b[38;5;124msession_id\u001b[39m\u001b[38;5;124m\"\u001b[39m, \u001b[38;5;124m\"\u001b[39m\u001b[38;5;124myad_no\u001b[39m\u001b[38;5;124m\"\u001b[39m]))\n",
      "Cell \u001b[0;32mIn[18], line 61\u001b[0m, in \u001b[0;36mRANKLGB.feature_importance\u001b[0;34m(self)\u001b[0m\n\u001b[1;32m     60\u001b[0m \u001b[38;5;28;01mdef\u001b[39;00m \u001b[38;5;21mfeature_importance\u001b[39m(\u001b[38;5;28mself\u001b[39m):\n\u001b[0;32m---> 61\u001b[0m     \u001b[38;5;28;01mreturn\u001b[39;00m [model\u001b[38;5;241m.\u001b[39mfeature_importances_ \u001b[38;5;28;01mfor\u001b[39;00m model \u001b[38;5;129;01min\u001b[39;00m \u001b[38;5;28;43mself\u001b[39;49m\u001b[38;5;241;43m.\u001b[39;49m\u001b[43mmodels\u001b[49m]\n",
      "\u001b[0;31mAttributeError\u001b[0m: 'RANKLGB' object has no attribute 'models'"
     ]
    }
   ],
   "source": [
    "from scorta.eda import df as eda_df\n",
    "\n",
    "\n",
    "eda_df.visualize_importance(rank_wrapper.feature_importance(), train_df.drop([\"fold\", \"label\", \"session_id\", \"yad_no\"]))"
   ]
  },
  {
   "cell_type": "code",
   "execution_count": null,
   "metadata": {},
   "outputs": [
    {
     "data": {
      "text/plain": [
       "<Axes: ylabel='Count'>"
      ]
     },
     "execution_count": 19,
     "metadata": {},
     "output_type": "execute_result"
    },
    {
     "data": {
      "image/png": "[encoded data removed]",
      "text/plain": [
       "<Figure size 640x480 with 1 Axes>"
      ]
     },
     "metadata": {},
     "output_type": "display_data"
    }
   ],
   "source": [
    "import seaborn as sns\n",
    "\n",
    "sns.histplot(preds)\n",
    "sns.histplot(oof[:, 1])"
   ]
  },
  {
   "cell_type": "code",
   "execution_count": 52,
   "metadata": {},
   "outputs": [],
   "source": [
    "def create_sub_list(sub):\n",
    "    sub_lists = (\n",
    "        sub.with_columns(\n",
    "            pl.col(\"score\").rank(method=\"ordinal\", descending=True).over(\"session_id\").alias(\"rank\") - pl.lit(1)\n",
    "        )\n",
    "        .sort([\"session_id\", \"rank\"])\n",
    "        .filter(pl.col(\"rank\") <= 9)\n",
    "        .filter(pl.col(\"session_id\").is_in(dl.load_test_log()[\"session_id\"].unique().to_numpy()))\n",
    "        .group_by(\"session_id\", maintain_order=True)\n",
    "        .agg(\"yad_no\")[\"yad_no\"]\n",
    "        .to_list()\n",
    "    )\n",
    "\n",
    "    return sub_lists"
   ]
  },
  {
   "cell_type": "code",
   "execution_count": 53,
   "metadata": {},
   "outputs": [],
   "source": [
    "test_top30_yads = (\n",
    "    dl.load_test_log().group_by(\"yad_no\").count().sort(\"count\", descending=True).head(30)[\"yad_no\"].to_list()\n",
    ")\n",
    "\n",
    "seened_dict: dict[int, np.ndarray] = (\n",
    "    dl.load_test_log()\n",
    "    .with_columns([(pl.col(\"seq_no\").max().over(\"session_id\") == pl.col(\"seq_no\")).alias(\"is_last\")])\n",
    "    .filter(~pl.col(\"is_last\"))\n",
    "    .group_by(\"session_id\")\n",
    "    .agg(\"yad_no\")\n",
    "    .sort(\"session_id\")\n",
    "    .to_pandas()\n",
    "    .set_index(\"session_id\")\n",
    "    .to_dict()[\"yad_no\"]\n",
    ")\n",
    "\n",
    "\n",
    "fill_sub_lists = []\n",
    "for idx, sub_list in enumerate(create_sub_list(mean_sub_df)):\n",
    "    new_sub_list = []\n",
    "    if sub_list != [None]:\n",
    "        new_sub_list.extend(sub_list)\n",
    "\n",
    "    if len(sub_list) < 10:\n",
    "        if idx in seened_dict:\n",
    "            new_sub_list.extend(list(seened_dict[idx]))\n",
    "        new_sub_list.extend(test_top30_yads[:10])\n",
    "\n",
    "    fill_sub_lists.append(new_sub_list[:10])"
   ]
  },
  {
   "cell_type": "code",
   "execution_count": 54,
   "metadata": {},
   "outputs": [
    {
     "data": {
      "text/plain": [
       "(174700, 10)"
      ]
     },
     "execution_count": 54,
     "metadata": {},
     "output_type": "execute_result"
    }
   ],
   "source": [
    "np.array(fill_sub_lists).shape"
   ]
  },
  {
   "cell_type": "code",
   "execution_count": 55,
   "metadata": {},
   "outputs": [],
   "source": [
    "sample_sub_df = dl.load_sample_submission(\"pd\")\n",
    "sample_sub_df.loc[:, :] = np.array(fill_sub_lists)\n",
    "# sample_sub_df.to_csv(f\"../output/{exp_name}/sub_df_{oof_score}_{task_type}_add_feat.csv\", index=False)\n",
    "sample_sub_df.to_csv(f\"../output/{exp_name}/sub_df_{oof_score}_{task_type}_add_feat_mean.csv\", index=False)"
   ]
  },
  {
   "cell_type": "code",
   "execution_count": 56,
   "metadata": {},
   "outputs": [
    {
     "data": {
      "text/plain": [
       "'../output/101_ensembling/sub_df_0.40353124680066593_bin_add_feat_mean.csv'"
      ]
     },
     "execution_count": 56,
     "metadata": {},
     "output_type": "execute_result"
    }
   ],
   "source": [
    "f\"../output/{exp_name}/sub_df_{oof_score}_{task_type}_add_feat_mean.csv\""
   ]
  }
 ],
 "metadata": {
  "kernelspec": {
   "display_name": "atma-16-GUsyrwfA-py3.11",
   "language": "python",
   "name": "python3"
  },
  "language_info": {
   "codemirror_mode": {
    "name": "ipython",
    "version": 3
   },
   "file_extension": ".py",
   "mimetype": "text/x-python",
   "name": "python",
   "nbconvert_exporter": "python",
   "pygments_lexer": "ipython3",
   "version": "3.11.7"
  }
 },
 "nbformat": 4,
 "nbformat_minor": 2
}
