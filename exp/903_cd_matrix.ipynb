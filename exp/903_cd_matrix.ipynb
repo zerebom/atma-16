{
 "cells": [
  {
   "cell_type": "code",
   "execution_count": 2,
   "metadata": {},
   "outputs": [],
   "source": [
    "import polars as pl\n",
    "import pandas as pd\n",
    "from pathlib import Path\n",
    "\n",
    "import matplotlib.pyplot as plt\n",
    "import numpy as np\n",
    "import seaborn as sns\n",
    "\n",
    "\n",
    "from tqdm import tqdm\n",
    "\n",
    "import polars.selectors as cs\n",
    "import wandb\n",
    "\n",
    "from atma_16.dataset.dataset import AtmaData16Loader\n",
    "\n",
    "exp_name = \"903_cd_matrix\"\n",
    "input_dir = Path(\"../input\")\n",
    "output_dir = Path(\"../output\") / exp_name\n",
    "output_dir.mkdir(parents=True, exist_ok=True)\n",
    "\n",
    "dl = AtmaData16Loader(input_dir=input_dir)\n",
    "label = dl.load_train_label()"
   ]
  },
  {
   "cell_type": "code",
   "execution_count": 3,
   "metadata": {},
   "outputs": [],
   "source": []
  },
  {
   "cell_type": "code",
   "execution_count": 5,
   "metadata": {},
   "outputs": [],
   "source": []
  },
  {
   "cell_type": "code",
   "execution_count": null,
   "metadata": {},
   "outputs": [],
   "source": []
  },
  {
   "cell_type": "code",
   "execution_count": 8,
   "metadata": {},
   "outputs": [
    {
     "data": {
      "text/html": [
       "<div><style>\n",
       ".dataframe > thead > tr,\n",
       ".dataframe > tbody > tr {\n",
       "  text-align: right;\n",
       "  white-space: pre-wrap;\n",
       "}\n",
       "</style>\n",
       "<small>shape: (288_698, 3)</small><table border=\"1\" class=\"dataframe\"><thead><tr><th>session_id</th><th>seq_no</th><th>yad_no</th></tr><tr><td>i64</td><td>i64</td><td>i64</td></tr></thead><tbody><tr><td>107227</td><td>1</td><td>3414</td></tr><tr><td>264136</td><td>0</td><td>7691</td></tr><tr><td>61609</td><td>2</td><td>532</td></tr><tr><td>85734</td><td>0</td><td>6555</td></tr><tr><td>267280</td><td>2</td><td>2053</td></tr><tr><td>89146</td><td>3</td><td>7551</td></tr><tr><td>56631</td><td>0</td><td>11321</td></tr><tr><td>90709</td><td>0</td><td>4647</td></tr><tr><td>75644</td><td>0</td><td>583</td></tr><tr><td>54803</td><td>2</td><td>9191</td></tr><tr><td>64366</td><td>0</td><td>4810</td></tr><tr><td>187977</td><td>3</td><td>6692</td></tr><tr><td>&hellip;</td><td>&hellip;</td><td>&hellip;</td></tr><tr><td>269623</td><td>0</td><td>3016</td></tr><tr><td>162670</td><td>1</td><td>9802</td></tr><tr><td>106295</td><td>0</td><td>1365</td></tr><tr><td>193080</td><td>0</td><td>4543</td></tr><tr><td>87556</td><td>0</td><td>10755</td></tr><tr><td>51114</td><td>1</td><td>1384</td></tr><tr><td>284959</td><td>0</td><td>7625</td></tr><tr><td>111282</td><td>1</td><td>7144</td></tr><tr><td>162792</td><td>0</td><td>9546</td></tr><tr><td>272767</td><td>0</td><td>12219</td></tr><tr><td>85195</td><td>0</td><td>543</td></tr><tr><td>269099</td><td>1</td><td>6172</td></tr></tbody></table></div>"
      ],
      "text/plain": [
       "shape: (288_698, 3)\n",
       "┌────────────┬────────┬────────┐\n",
       "│ session_id ┆ seq_no ┆ yad_no │\n",
       "│ ---        ┆ ---    ┆ ---    │\n",
       "│ i64        ┆ i64    ┆ i64    │\n",
       "╞════════════╪════════╪════════╡\n",
       "│ 107227     ┆ 1      ┆ 3414   │\n",
       "│ 264136     ┆ 0      ┆ 7691   │\n",
       "│ 61609      ┆ 2      ┆ 532    │\n",
       "│ 85734      ┆ 0      ┆ 6555   │\n",
       "│ …          ┆ …      ┆ …      │\n",
       "│ 162792     ┆ 0      ┆ 9546   │\n",
       "│ 272767     ┆ 0      ┆ 12219  │\n",
       "│ 85195      ┆ 0      ┆ 543    │\n",
       "│ 269099     ┆ 1      ┆ 6172   │\n",
       "└────────────┴────────┴────────┘"
      ]
     },
     "execution_count": 8,
     "metadata": {},
     "output_type": "execute_result"
    }
   ],
   "source": [
    "from atma_16.utils.polars_utils import over_rank\n",
    "\n",
    "cols = [\"yad_no\", \"wid_cd\", \"ken_cd\", \"lrg_cd\", \"sml_cd\"]\n",
    "yado_df = dl.load_yado()[cols]\n",
    "cd_col = \"lrg_cd\"\n",
    "\n",
    "dl = AtmaData16Loader(input_dir=input_dir)\n",
    "\n",
    "def attach_double_cd()\n",
    "\n",
    "def create_log_w_cd(log, cd_col):\n",
    "    last_log = dl.load_train_log().group_by(\"session_id\").tail(1)\n",
    "    log_w_cd = (\n",
    "        last_log.join(label, on=\"session_id\", how=\"inner\")\n",
    "        .drop(\"fold\")\n",
    "        .join(yado_df, on=\"yad_no\", how=\"left\")\n",
    "        .join(yado_df, left_on=\"yad_no_right\", right_on=\"yad_no\", how=\"left\")\n",
    "    ).select(pl.col([\"session_id\", \"yad_id\", cd_col, f\"{cd_col}_right\"]))\n",
    "    return log_w_cd\n",
    "\n",
    "\n",
    "co_cd_df = (\n",
    "    log_w_cd.group_by([cd_col, f\"{cd_col}_right\"])\n",
    "    .agg(pl.count())\n",
    "    .with_columns((pl.col(\"count\") / pl.col(\"count\").sum().over(cd_col)).alias(\"ratio\"))\n",
    "    .with_columns(over_rank(\"ratio\", cd_col).alias(\"rank\"))\n",
    "    .sort([cd_col, \"rank\"])\n",
    ")\n",
    "# sns.heatmap(\n",
    "#     co_cd_df.pivot(columns=cd_col, index=f\"{cd_col}_right\", values=\"ratio\")\n",
    "#     .fill_null(0)\n",
    "#     .sort(f\"{cd_col}_right\")\n",
    "#     .drop(f\"{cd_col}_right\"),\n",
    "#     robust=True,\n",
    "#     vmax=0.1,\n",
    "# )\n",
    "out_last_log = (\n",
    "    dl.load_train_log()\n",
    "    .group_by(\"session_id\")\n",
    "    .tail(1)\n",
    "    .seq(\"seq_no\")\n",
    "    .join(yado_df, on=\"yad_no\", how=\"left\")\n",
    "    .join(yado_df, on=\"yad_no\", how=\"left\")\n",
    "    .select(pl.col([\"session_id\", \"yad_id\", cd_col]))\n",
    ")\n",
    "out_last_log\n",
    "\n",
    "\n",
    "# log_w_cd = .join(dl.load_yado()[cols], on=\"yad_no\", how=\"left\")\n",
    "# log_w_cd.group_by([])\n",
    "\n",
    "\n",
    "# df"
   ]
  },
  {
   "cell_type": "code",
   "execution_count": 10,
   "metadata": {},
   "outputs": [
    {
     "data": {
      "text/html": [
       "<div><style>\n",
       ".dataframe > thead > tr,\n",
       ".dataframe > tbody > tr {\n",
       "  text-align: right;\n",
       "  white-space: pre-wrap;\n",
       "}\n",
       "</style>\n",
       "<small>shape: (288_698, 12)</small><table border=\"1\" class=\"dataframe\"><thead><tr><th>session_id</th><th>seq_no</th><th>yad_no</th><th>yad_no_right</th><th>wid_cd</th><th>ken_cd</th><th>lrg_cd</th><th>sml_cd</th><th>wid_cd_right</th><th>ken_cd_right</th><th>lrg_cd_right</th><th>sml_cd_right</th></tr><tr><td>i64</td><td>i64</td><td>i64</td><td>i64</td><td>i64</td><td>i64</td><td>i64</td><td>i64</td><td>i64</td><td>i64</td><td>i64</td><td>i64</td></tr></thead><tbody><tr><td>0</td><td>0</td><td>2395</td><td>4101</td><td>8</td><td>31</td><td>164</td><td>293</td><td>8</td><td>31</td><td>164</td><td>293</td></tr><tr><td>1</td><td>0</td><td>13535</td><td>8253</td><td>6</td><td>10</td><td>73</td><td>88</td><td>6</td><td>10</td><td>73</td><td>88</td></tr><tr><td>2</td><td>0</td><td>123</td><td>4863</td><td>2</td><td>2</td><td>89</td><td>99</td><td>2</td><td>2</td><td>89</td><td>99</td></tr><tr><td>3</td><td>0</td><td>8475</td><td>1652</td><td>2</td><td>3</td><td>21</td><td>349</td><td>2</td><td>3</td><td>21</td><td>21</td></tr><tr><td>4</td><td>1</td><td>898</td><td>96</td><td>10</td><td>19</td><td>76</td><td>82</td><td>10</td><td>19</td><td>76</td><td>82</td></tr><tr><td>5</td><td>0</td><td>6868</td><td>4823</td><td>3</td><td>45</td><td>153</td><td>185</td><td>3</td><td>45</td><td>153</td><td>313</td></tr><tr><td>6</td><td>0</td><td>8602</td><td>10378</td><td>3</td><td>13</td><td>95</td><td>109</td><td>3</td><td>13</td><td>95</td><td>109</td></tr><tr><td>7</td><td>0</td><td>13106</td><td>10362</td><td>8</td><td>31</td><td>56</td><td>58</td><td>8</td><td>31</td><td>56</td><td>58</td></tr><tr><td>8</td><td>0</td><td>12062</td><td>1227</td><td>9</td><td>16</td><td>198</td><td>259</td><td>9</td><td>16</td><td>198</td><td>259</td></tr><tr><td>9</td><td>0</td><td>4866</td><td>175</td><td>2</td><td>3</td><td>112</td><td>132</td><td>2</td><td>3</td><td>112</td><td>132</td></tr><tr><td>10</td><td>0</td><td>2043</td><td>1209</td><td>8</td><td>37</td><td>252</td><td>384</td><td>8</td><td>37</td><td>252</td><td>384</td></tr><tr><td>11</td><td>1</td><td>8822</td><td>756</td><td>11</td><td>25</td><td>215</td><td>350</td><td>11</td><td>25</td><td>215</td><td>350</td></tr><tr><td>&hellip;</td><td>&hellip;</td><td>&hellip;</td><td>&hellip;</td><td>&hellip;</td><td>&hellip;</td><td>&hellip;</td><td>&hellip;</td><td>&hellip;</td><td>&hellip;</td><td>&hellip;</td><td>&hellip;</td></tr><tr><td>288686</td><td>0</td><td>11806</td><td>5209</td><td>1</td><td>40</td><td>147</td><td>178</td><td>1</td><td>40</td><td>147</td><td>178</td></tr><tr><td>288687</td><td>0</td><td>1268</td><td>4885</td><td>10</td><td>28</td><td>48</td><td>116</td><td>10</td><td>28</td><td>48</td><td>116</td></tr><tr><td>288688</td><td>1</td><td>3310</td><td>11714</td><td>3</td><td>13</td><td>18</td><td>519</td><td>3</td><td>13</td><td>18</td><td>519</td></tr><tr><td>288689</td><td>1</td><td>10818</td><td>1882</td><td>6</td><td>10</td><td>73</td><td>88</td><td>6</td><td>10</td><td>73</td><td>78</td></tr><tr><td>288690</td><td>0</td><td>12001</td><td>4906</td><td>10</td><td>24</td><td>173</td><td>218</td><td>10</td><td>24</td><td>173</td><td>218</td></tr><tr><td>288691</td><td>2</td><td>6810</td><td>4353</td><td>10</td><td>26</td><td>179</td><td>453</td><td>10</td><td>26</td><td>179</td><td>453</td></tr><tr><td>288692</td><td>1</td><td>12598</td><td>6170</td><td>3</td><td>45</td><td>153</td><td>185</td><td>3</td><td>45</td><td>153</td><td>185</td></tr><tr><td>288693</td><td>0</td><td>8140</td><td>2259</td><td>6</td><td>10</td><td>73</td><td>88</td><td>6</td><td>10</td><td>73</td><td>88</td></tr><tr><td>288694</td><td>0</td><td>2121</td><td>963</td><td>7</td><td>33</td><td>158</td><td>195</td><td>7</td><td>33</td><td>158</td><td>195</td></tr><tr><td>288695</td><td>0</td><td>7183</td><td>13719</td><td>2</td><td>7</td><td>214</td><td>283</td><td>2</td><td>7</td><td>214</td><td>288</td></tr><tr><td>288696</td><td>2</td><td>12230</td><td>10619</td><td>11</td><td>35</td><td>223</td><td>306</td><td>11</td><td>35</td><td>223</td><td>306</td></tr><tr><td>288697</td><td>1</td><td>11822</td><td>2439</td><td>2</td><td>2</td><td>2</td><td>2</td><td>2</td><td>2</td><td>2</td><td>2</td></tr></tbody></table></div>"
      ],
      "text/plain": [
       "shape: (288_698, 12)\n",
       "┌────────────┬────────┬────────┬────────────┬───┬────────────┬────────────┬────────────┬───────────┐\n",
       "│ session_id ┆ seq_no ┆ yad_no ┆ yad_no_rig ┆ … ┆ wid_cd_rig ┆ ken_cd_rig ┆ lrg_cd_rig ┆ sml_cd_ri │\n",
       "│ ---        ┆ ---    ┆ ---    ┆ ht         ┆   ┆ ht         ┆ ht         ┆ ht         ┆ ght       │\n",
       "│ i64        ┆ i64    ┆ i64    ┆ ---        ┆   ┆ ---        ┆ ---        ┆ ---        ┆ ---       │\n",
       "│            ┆        ┆        ┆ i64        ┆   ┆ i64        ┆ i64        ┆ i64        ┆ i64       │\n",
       "╞════════════╪════════╪════════╪════════════╪═══╪════════════╪════════════╪════════════╪═══════════╡\n",
       "│ 0          ┆ 0      ┆ 2395   ┆ 4101       ┆ … ┆ 8          ┆ 31         ┆ 164        ┆ 293       │\n",
       "│ 1          ┆ 0      ┆ 13535  ┆ 8253       ┆ … ┆ 6          ┆ 10         ┆ 73         ┆ 88        │\n",
       "│ 2          ┆ 0      ┆ 123    ┆ 4863       ┆ … ┆ 2          ┆ 2          ┆ 89         ┆ 99        │\n",
       "│ 3          ┆ 0      ┆ 8475   ┆ 1652       ┆ … ┆ 2          ┆ 3          ┆ 21         ┆ 21        │\n",
       "│ …          ┆ …      ┆ …      ┆ …          ┆ … ┆ …          ┆ …          ┆ …          ┆ …         │\n",
       "│ 288694     ┆ 0      ┆ 2121   ┆ 963        ┆ … ┆ 7          ┆ 33         ┆ 158        ┆ 195       │\n",
       "│ 288695     ┆ 0      ┆ 7183   ┆ 13719      ┆ … ┆ 2          ┆ 7          ┆ 214        ┆ 288       │\n",
       "│ 288696     ┆ 2      ┆ 12230  ┆ 10619      ┆ … ┆ 11         ┆ 35         ┆ 223        ┆ 306       │\n",
       "│ 288697     ┆ 1      ┆ 11822  ┆ 2439       ┆ … ┆ 2          ┆ 2          ┆ 2          ┆ 2         │\n",
       "└────────────┴────────┴────────┴────────────┴───┴────────────┴────────────┴────────────┴───────────┘"
      ]
     },
     "execution_count": 10,
     "metadata": {},
     "output_type": "execute_result"
    }
   ],
   "source": [
    "log_w_cd"
   ]
  },
  {
   "cell_type": "code",
   "execution_count": 10,
   "metadata": {},
   "outputs": [
    {
     "data": {
      "text/plain": [
       "<Axes: xlabel='rank', ylabel='Count'>"
      ]
     },
     "execution_count": 10,
     "metadata": {},
     "output_type": "execute_result"
    },
    {
     "data": {
      "image/png": "[encoded data removed]",
      "text/plain": [
       "<Figure size 640x480 with 1 Axes>"
      ]
     },
     "metadata": {},
     "output_type": "display_data"
    }
   ],
   "source": [
    "sns.histplot(data=oof_df.to_pandas(), hue=\"label\", x=\"rank\", bins=10)"
   ]
  },
  {
   "cell_type": "code",
   "execution_count": 13,
   "metadata": {},
   "outputs": [
    {
     "data": {
      "text/plain": [
       "<Axes: xlabel='score', ylabel='Count'>"
      ]
     },
     "execution_count": 13,
     "metadata": {},
     "output_type": "execute_result"
    },
    {
     "data": {
      "image/png": "[encoded data removed]",
      "text/plain": [
       "<Figure size 640x480 with 1 Axes>"
      ]
     },
     "metadata": {},
     "output_type": "display_data"
    }
   ],
   "source": [
    "sns.histplot(data=oof_df.to_pandas(), hue=\"label\", x=\"score\", cumulative=True)"
   ]
  }
 ],
 "metadata": {
  "kernelspec": {
   "display_name": "atma-16-GUsyrwfA-py3.11",
   "language": "python",
   "name": "python3"
  },
  "language_info": {
   "codemirror_mode": {
    "name": "ipython",
    "version": 3
   },
   "file_extension": ".py",
   "mimetype": "text/x-python",
   "name": "python",
   "nbconvert_exporter": "python",
   "pygments_lexer": "ipython3",
   "version": "3.11.7"
  }
 },
 "nbformat": 4,
 "nbformat_minor": 2
}
