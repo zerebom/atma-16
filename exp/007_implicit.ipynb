{
 "cells": [
  {
   "cell_type": "code",
   "execution_count": 1,
   "metadata": {},
   "outputs": [],
   "source": [
    "import numpy as np\n",
    "import wandb\n",
    "\n",
    "from scorta.recsys.candidate_generate import CandidateMerger\n",
    "from atma_16.dataset.dataset import AtmaData16Loader\n",
    "from pathlib import Path\n",
    "import polars as pl\n",
    "\n",
    "from hydra import initialize, compose\n",
    "from scorta.utils.utils import seed_everything\n",
    "\n",
    "from scorta.feature.feature import FeatureMerger\n",
    "import pandas as pd\n",
    "import seaborn as sns"
   ]
  },
  {
   "cell_type": "markdown",
   "metadata": {},
   "source": []
  },
  {
   "cell_type": "code",
   "execution_count": 2,
   "metadata": {},
   "outputs": [
    {
     "name": "stderr",
     "output_type": "stream",
     "text": [
      "Failed to detect the name of this notebook, you can set it manually with the WANDB_NOTEBOOK_NAME environment variable to enable code saving.\n"
     ]
    },
    {
     "name": "stdout",
     "output_type": "stream",
     "text": [
      "{'SessionYadoRaw': {'feature_cols': ['seq_no'], 'key_cols': ['yad_no', 'session_id']}, 'YadoRaw': {'feature_cols': ['yad_type', 'total_room_cnt', 'wireless_lan_flg', 'onsen_flg', 'kd_stn_5min', 'kd_bch_5min', 'kd_slp_5min', 'kd_conv_walk_5min', 'wid_cd', 'ken_cd', 'lrg_cd', 'sml_cd'], 'key_cols': ['yad_no']}, 'Session': {'feature_cols': ['user_mode_wid_cd', 'user_mode_ken_cd', 'user_mode_lrg_cd', 'user_mode_sml_cd', 'user_seq_cnt', 'user_mean_total_room_cnt', 'user_mean_wireless_lan_flg', 'user_mean_onsen_flg', 'user_mean_kd_stn_5min', 'user_mean_kd_bch_5min', 'user_mean_kd_slp_5min', 'user_mean_kd_conv_walk_5min'], 'key_cols': ['session_id']}, 'YadoRank': {'feature_cols': ['yad_cnt', 'yad_cnt_rank', 'yad_cnt_rank_wid_cd', 'yad_cnt_rank_ken_cd', 'yad_cnt_rank_lrg_cd', 'yad_cnt_rank_sml_cd'], 'key_cols': ['yad_no']}, 'MatchModeCD': {'feature_cols': ['is_match_mode_wid_cd', 'is_match_mode_ken_cd', 'is_match_mode_lrg_cd', 'is_match_mode_sml_cd'], 'key_cols': ['session_id', 'yad_no']}}\n"
     ]
    },
    {
     "name": "stderr",
     "output_type": "stream",
     "text": [
      "\u001b[34m\u001b[1mwandb\u001b[0m: Currently logged in as: \u001b[33mzerebom\u001b[0m. Use \u001b[1m`wandb login --relogin`\u001b[0m to force relogin\n"
     ]
    },
    {
     "data": {
      "text/html": [
       "Tracking run with wandb version 0.16.1"
      ],
      "text/plain": [
       "<IPython.core.display.HTML object>"
      ]
     },
     "metadata": {},
     "output_type": "display_data"
    },
    {
     "data": {
      "text/html": [
       "Run data is saved locally in <code>/home/zerebom/atma-16/exp/wandb/run-20231214_231054-iqscxosd</code>"
      ],
      "text/plain": [
       "<IPython.core.display.HTML object>"
      ]
     },
     "metadata": {},
     "output_type": "display_data"
    },
    {
     "data": {
      "text/html": [
       "Syncing run <strong><a href='https://wandb.ai/zerebom/atma16/runs/iqscxosd' target=\"_blank\">atomic-universe-9</a></strong> to <a href='https://wandb.ai/zerebom/atma16' target=\"_blank\">Weights & Biases</a> (<a href='https://wandb.me/run' target=\"_blank\">docs</a>)<br/>"
      ],
      "text/plain": [
       "<IPython.core.display.HTML object>"
      ]
     },
     "metadata": {},
     "output_type": "display_data"
    },
    {
     "data": {
      "text/html": [
       " View project at <a href='https://wandb.ai/zerebom/atma16' target=\"_blank\">https://wandb.ai/zerebom/atma16</a>"
      ],
      "text/plain": [
       "<IPython.core.display.HTML object>"
      ]
     },
     "metadata": {},
     "output_type": "display_data"
    },
    {
     "data": {
      "text/html": [
       " View run at <a href='https://wandb.ai/zerebom/atma16/runs/iqscxosd' target=\"_blank\">https://wandb.ai/zerebom/atma16/runs/iqscxosd</a>"
      ],
      "text/plain": [
       "<IPython.core.display.HTML object>"
      ]
     },
     "metadata": {},
     "output_type": "display_data"
    }
   ],
   "source": [
    "seed_everything()\n",
    "\n",
    "exp_name = \"007_implicit\"\n",
    "input_dir = Path(\"../input\")\n",
    "candidate_dir = input_dir / \"candidate\"\n",
    "candidate_dir.mkdir(exist_ok=True)\n",
    "\n",
    "feature_dir = input_dir / \"feature\"\n",
    "feature_dir.mkdir(exist_ok=True)\n",
    "\n",
    "output_dir = Path(\"../output\") / exp_name\n",
    "output_dir.mkdir(parents=True, exist_ok=True)\n",
    "\n",
    "\n",
    "with initialize(version_base=\"1.3\", config_path=\"../config\"):\n",
    "    cfg = compose(config_name=f\"{exp_name}.yaml\")\n",
    "    print(cfg.feature)\n",
    "\n",
    "wandb.init(project=\"atma16\", config=dict(cfg))\n",
    "\n",
    "dl = AtmaData16Loader(input_dir)\n",
    "train_log = dl.load_train_log()\n",
    "\n",
    "yado = dl.load_yado()\n",
    "target_df = dl.load_train_label().with_columns(pl.lit(1).alias(\"target\"))"
   ]
  },
  {
   "cell_type": "code",
   "execution_count": 3,
   "metadata": {},
   "outputs": [
    {
     "name": "stderr",
     "output_type": "stream",
     "text": [
      "/home/zerebom/.cache/pypoetry/virtualenvs/atma-16-JhU7aZ4q-py3.11/lib/python3.11/site-packages/tqdm/auto.py:21: TqdmWarning: IProgress not found. Please update jupyter and ipywidgets. See https://ipywidgets.readthedocs.io/en/stable/user_install.html\n",
      "  from .autonotebook import tqdm as notebook_tqdm\n"
     ]
    }
   ],
   "source": [
    "from implicit.datasets.lastfm import get_lastfm\n",
    "\n",
    "_, _, artist_user_plays = get_lastfm()"
   ]
  },
  {
   "cell_type": "code",
   "execution_count": 4,
   "metadata": {},
   "outputs": [
    {
     "data": {
      "text/html": [
       "<div><style>\n",
       ".dataframe > thead > tr,\n",
       ".dataframe > tbody > tr {\n",
       "  text-align: right;\n",
       "  white-space: pre-wrap;\n",
       "}\n",
       "</style>\n",
       "<small>shape: (9, 4)</small><table border=\"1\" class=\"dataframe\"><thead><tr><th>describe</th><th>session_id</th><th>seq_no</th><th>yad_no</th></tr><tr><td>str</td><td>f64</td><td>f64</td><td>f64</td></tr></thead><tbody><tr><td>&quot;count&quot;</td><td>669575.0</td><td>669575.0</td><td>669575.0</td></tr><tr><td>&quot;null_count&quot;</td><td>0.0</td><td>0.0</td><td>0.0</td></tr><tr><td>&quot;mean&quot;</td><td>230892.180282</td><td>0.390929</td><td>6872.252302</td></tr><tr><td>&quot;std&quot;</td><td>133689.387873</td><td>0.675983</td><td>4005.27432</td></tr><tr><td>&quot;min&quot;</td><td>0.0</td><td>0.0</td><td>1.0</td></tr><tr><td>&quot;25%&quot;</td><td>115114.0</td><td>0.0</td><td>3338.0</td></tr><tr><td>&quot;50%&quot;</td><td>230430.0</td><td>0.0</td><td>6861.0</td></tr><tr><td>&quot;75%&quot;</td><td>346544.0</td><td>1.0</td><td>10336.0</td></tr><tr><td>&quot;max&quot;</td><td>463397.0</td><td>9.0</td><td>13806.0</td></tr></tbody></table></div>"
      ],
      "text/plain": [
       "shape: (9, 4)\n",
       "┌────────────┬───────────────┬──────────┬─────────────┐\n",
       "│ describe   ┆ session_id    ┆ seq_no   ┆ yad_no      │\n",
       "│ ---        ┆ ---           ┆ ---      ┆ ---         │\n",
       "│ str        ┆ f64           ┆ f64      ┆ f64         │\n",
       "╞════════════╪═══════════════╪══════════╪═════════════╡\n",
       "│ count      ┆ 669575.0      ┆ 669575.0 ┆ 669575.0    │\n",
       "│ null_count ┆ 0.0           ┆ 0.0      ┆ 0.0         │\n",
       "│ mean       ┆ 230892.180282 ┆ 0.390929 ┆ 6872.252302 │\n",
       "│ std        ┆ 133689.387873 ┆ 0.675983 ┆ 4005.27432  │\n",
       "│ min        ┆ 0.0           ┆ 0.0      ┆ 1.0         │\n",
       "│ 25%        ┆ 115114.0      ┆ 0.0      ┆ 3338.0      │\n",
       "│ 50%        ┆ 230430.0      ┆ 0.0      ┆ 6861.0      │\n",
       "│ 75%        ┆ 346544.0      ┆ 1.0      ┆ 10336.0     │\n",
       "│ max        ┆ 463397.0      ┆ 9.0      ┆ 13806.0     │\n",
       "└────────────┴───────────────┴──────────┴─────────────┘"
      ]
     },
     "execution_count": 4,
     "metadata": {},
     "output_type": "execute_result"
    }
   ],
   "source": [
    "all_log = dl.load_all_log()\n",
    "all_log.describe()"
   ]
  },
  {
   "cell_type": "code",
   "execution_count": 5,
   "metadata": {},
   "outputs": [],
   "source": [
    "train_log = dl.load_train_log()\n",
    "label = dl.load_train_label()\n",
    "test_log = dl.load_train_log()"
   ]
  },
  {
   "cell_type": "code",
   "execution_count": 7,
   "metadata": {},
   "outputs": [
    {
     "name": "stdout",
     "output_type": "stream",
     "text": [
      "train\n"
     ]
    },
    {
     "name": "stderr",
     "output_type": "stream",
     "text": [
      "4it [00:07,  1.99s/it]\n"
     ]
    },
    {
     "name": "stdout",
     "output_type": "stream",
     "text": [
      "test\n"
     ]
    },
    {
     "name": "stderr",
     "output_type": "stream",
     "text": [
      "4it [00:05,  1.30s/it]\n"
     ]
    }
   ],
   "source": [
    "from atma_16.candidate.candidate import (\n",
    "    LastSeenedCandidate,\n",
    "    PopularAtCDCandidate,\n",
    "    ImplicitCandidate,\n",
    "    # TopBookedFromLastViewCandidate,\n",
    "    CoVisitCandidate,\n",
    ")\n",
    "\n",
    "\n",
    "import scipy.sparse as sp\n",
    "from implicit.als import AlternatingLeastSquares\n",
    "import os\n",
    "from implicit.nearest_neighbours import bm25_weight\n",
    "\n",
    "os.environ[\"OPENBLAS_NUM_THREADS\"] = \"32\"\n",
    "IS_GENERATE = False\n",
    "\n",
    "\n",
    "def make_csr_matrix(log: pl.DataFrame) -> sp.csr_matrix:\n",
    "    target = np.ones(len(log)).astype(int)\n",
    "    ses_ids = log[\"session_id\"].to_numpy().astype(int)\n",
    "    yad_ids = log[\"yad_no\"].to_numpy().astype(int)\n",
    "    mat = sp.csr_matrix((target, (ses_ids, yad_ids)))\n",
    "    mat = sp.csr_matrix(bm25_weight(mat, K1=100, B=0.8))\n",
    "    return mat\n",
    "\n",
    "\n",
    "all_log = dl.load_all_log()\n",
    "mat = make_csr_matrix(all_log)\n",
    "all_ses_ids = all_log[\"session_id\"].unique().to_numpy()\n",
    "\n",
    "train_candidates = [\n",
    "    ImplicitCandidate(dl, AlternatingLeastSquares(**cfg.als), mat, candidate_dir, mode=\"train\", target_df=target_df),\n",
    "    CoVisitCandidate(dl, candidate_dir, target_df=target_df),\n",
    "    # TopBookedFromLastViewCandidate(dl, candidate_dir, target_df=target_df),\n",
    "    LastSeenedCandidate(dl, candidate_dir, target_df=target_df),\n",
    "    PopularAtCDCandidate(dl, candidate_dir, target_df=target_df),\n",
    "]\n",
    "test_candidates = [\n",
    "    ImplicitCandidate(dl, AlternatingLeastSquares(**cfg.als), mat, candidate_dir, mode=\"test\"),\n",
    "    CoVisitCandidate(dl, candidate_dir, mode=\"test\"),\n",
    "    # TopBookedFromLastViewCandidate(dl, candidate_dir, mode=\"test\"),\n",
    "    LastSeenedCandidate(dl, candidate_dir, mode=\"test\"),\n",
    "    PopularAtCDCandidate(dl, candidate_dir, mode=\"test\"),\n",
    "]\n",
    "\n",
    "cands_dic = {\"train\": train_candidates, \"test\": test_candidates}\n",
    "\n",
    "all_eval_df = pd.DataFrame()\n",
    "for mode, candidates in cands_dic.items():\n",
    "    print(mode)\n",
    "    if IS_GENERATE:\n",
    "        for cand in candidates:\n",
    "            df = cand.generate()\n",
    "            cand.save(df)\n",
    "            if mode == \"train\":\n",
    "                eval_df = cand.evaluator.evaluate(df, cand.class_name)\n",
    "                all_eval_df = pd.concat([all_eval_df, eval_df])\n",
    "\n",
    "    cm = CandidateMerger(\n",
    "        dl, candidates, output_dir=candidate_dir, mode=mode, target_df=target_df if mode == \"train\" else None\n",
    "    )\n",
    "    merged_df = cm.merge()\n",
    "    cm.save(merged_df)\n",
    "    if mode == \"train\":\n",
    "        eval_df = cm.evaluator.evaluate(merged_df, cm.class_name)\n",
    "        all_eval_df = pd.concat([all_eval_df, eval_df])\n",
    "\n",
    "\n",
    "wandb.log({\"candidate_table\": wandb.Table(dataframe=all_eval_df)})"
   ]
  },
  {
   "cell_type": "code",
   "execution_count": 8,
   "metadata": {},
   "outputs": [],
   "source": [
    "label = dl.load_train_label()"
   ]
  },
  {
   "cell_type": "code",
   "execution_count": 9,
   "metadata": {},
   "outputs": [],
   "source": [
    "train_df = CandidateMerger(dl, train_candidates, output_dir=candidate_dir, mode=\"train\").load()\n",
    "test_df = CandidateMerger(dl, test_candidates, output_dir=candidate_dir, mode=\"test\").load()\n",
    "train_label = dl.load_train_label().with_columns(pl.lit(1).alias(\"label\"))\n",
    "\n",
    "train_df = train_df.join(train_label, on=[\"session_id\", \"yad_no\"], how=\"left\").with_columns(\n",
    "    pl.col(\"label\").fill_null(0)\n",
    ")\n",
    "\n",
    "ideal_makp = len(train_df.join(label, on=[\"session_id\", \"yad_no\"], how=\"inner\")) / train_df[\"session_id\"].n_unique()\n",
    "wandb.log({\"idal_makp\": ideal_makp})\n",
    "\n",
    "# wandb.log({\"candidate no hist\": plt.hist(train_df.group_by(\"session_id\").count().to_pandas()[\"count\"])})"
   ]
  },
  {
   "cell_type": "code",
   "execution_count": 10,
   "metadata": {},
   "outputs": [
    {
     "name": "stdout",
     "output_type": "stream",
     "text": [
      "0.7675286978087829\n"
     ]
    },
    {
     "data": {
      "image/png": "[encoded data removed]",
      "text/plain": [
       "<Figure size 640x480 with 1 Axes>"
      ]
     },
     "metadata": {},
     "output_type": "display_data"
    }
   ],
   "source": [
    "import matplotlib.pyplot as plt\n",
    "\n",
    "plt.hist(train_df.group_by(\"session_id\").count().to_pandas()[\"count\"])\n",
    "print(ideal_makp)"
   ]
  },
  {
   "cell_type": "code",
   "execution_count": 11,
   "metadata": {},
   "outputs": [
    {
     "name": "stdout",
     "output_type": "stream",
     "text": [
      "(13372, 11)\n",
      "(11223, 11)\n"
     ]
    },
    {
     "name": "stderr",
     "output_type": "stream",
     "text": [
      " 25%|██▌       | 1/4 [00:00<00:00,  7.32it/s]"
     ]
    },
    {
     "name": "stdout",
     "output_type": "stream",
     "text": [
      "YadoRawFeature (8346159, 27)\n",
      "YadoRankFeature_train (8346159, 33)\n"
     ]
    },
    {
     "name": "stderr",
     "output_type": "stream",
     "text": [
      "100%|██████████| 4/4 [00:00<00:00,  7.45it/s]"
     ]
    },
    {
     "name": "stdout",
     "output_type": "stream",
     "text": [
      "SessionFeature_train (8346159, 45)\n",
      "SessionYadoRawFeature_train (8346159, 46)\n"
     ]
    },
    {
     "name": "stderr",
     "output_type": "stream",
     "text": [
      "\n",
      " 50%|█████     | 2/4 [00:00<00:00, 14.74it/s]"
     ]
    },
    {
     "name": "stdout",
     "output_type": "stream",
     "text": [
      "YadoRawFeature (4646825, 25)\n",
      "YadoRankFeature_test (4646825, 31)\n",
      "SessionFeature_test (4646825, 43)\n"
     ]
    },
    {
     "name": "stderr",
     "output_type": "stream",
     "text": [
      "100%|██████████| 4/4 [00:00<00:00,  9.58it/s]"
     ]
    },
    {
     "name": "stdout",
     "output_type": "stream",
     "text": [
      "SessionYadoRawFeature_test (4663417, 44)\n"
     ]
    },
    {
     "name": "stderr",
     "output_type": "stream",
     "text": [
      "\n",
      " 40%|████      | 2/5 [00:00<00:00,  7.85it/s]"
     ]
    },
    {
     "name": "stdout",
     "output_type": "stream",
     "text": [
      "YadoRawFeature (8346159, 27)\n",
      "YadoRankFeature_train (8346159, 33)\n"
     ]
    },
    {
     "name": "stderr",
     "output_type": "stream",
     "text": [
      " 60%|██████    | 3/5 [00:00<00:00,  8.40it/s]"
     ]
    },
    {
     "name": "stdout",
     "output_type": "stream",
     "text": [
      "SessionFeature_train (8346159, 45)\n"
     ]
    },
    {
     "name": "stderr",
     "output_type": "stream",
     "text": [
      " 80%|████████  | 4/5 [00:00<00:00,  6.48it/s]"
     ]
    },
    {
     "name": "stdout",
     "output_type": "stream",
     "text": [
      "SessionYadoRawFeature_train (8346159, 46)\n"
     ]
    },
    {
     "name": "stderr",
     "output_type": "stream",
     "text": [
      "100%|██████████| 5/5 [00:01<00:00,  4.48it/s]"
     ]
    },
    {
     "name": "stdout",
     "output_type": "stream",
     "text": [
      "MatchModeCDFeature_train (8346159, 50)\n"
     ]
    },
    {
     "name": "stderr",
     "output_type": "stream",
     "text": [
      "\n",
      " 40%|████      | 2/5 [00:00<00:00, 14.18it/s]"
     ]
    },
    {
     "name": "stdout",
     "output_type": "stream",
     "text": [
      "YadoRawFeature (4646825, 25)\n",
      "YadoRankFeature_test (4646825, 31)\n",
      "SessionFeature_test (4646825, 43)\n"
     ]
    },
    {
     "name": "stderr",
     "output_type": "stream",
     "text": [
      " 80%|████████  | 4/5 [00:00<00:00,  9.58it/s]"
     ]
    },
    {
     "name": "stdout",
     "output_type": "stream",
     "text": [
      "SessionYadoRawFeature_test (4663417, 44)\n"
     ]
    },
    {
     "name": "stderr",
     "output_type": "stream",
     "text": [
      "100%|██████████| 5/5 [00:00<00:00,  5.90it/s]"
     ]
    },
    {
     "name": "stdout",
     "output_type": "stream",
     "text": [
      "MatchModeCDFeature_test (4741897, 48)\n"
     ]
    },
    {
     "name": "stderr",
     "output_type": "stream",
     "text": [
      "\n"
     ]
    }
   ],
   "source": [
    "from atma_16.feature.feature import (\n",
    "    YadoRawFeature,\n",
    "    YadoRankFeature,\n",
    "    SessionFeature,\n",
    "    MatchModeCDFeature,\n",
    "    Feature,\n",
    "    SessionYadoRawFeature,\n",
    ")\n",
    "\n",
    "with initialize(version_base=\"1.3\", config_path=\"../config\"):\n",
    "    cfg = compose(config_name=f\"{exp_name}.yaml\")\n",
    "\n",
    "train_feats = [\n",
    "    YadoRawFeature(output_dir=feature_dir, data_loader=dl, **cfg.feature.YadoRaw),\n",
    "    YadoRankFeature(output_dir=feature_dir, data_loader=dl, mode=\"train\", **cfg.feature.YadoRank),\n",
    "    SessionFeature(output_dir=feature_dir, data_loader=dl, mode=\"train\", **cfg.feature.Session),\n",
    "    SessionYadoRawFeature(output_dir=feature_dir, data_loader=dl, mode=\"train\", **cfg.feature.SessionYadoRaw),\n",
    "]\n",
    "\n",
    "test_feats = [\n",
    "    YadoRawFeature(output_dir=feature_dir, data_loader=dl, **cfg.feature.YadoRaw),\n",
    "    YadoRankFeature(output_dir=feature_dir, data_loader=dl, mode=\"test\", **cfg.feature.YadoRank),\n",
    "    SessionFeature(output_dir=feature_dir, data_loader=dl, mode=\"test\", **cfg.feature.Session),\n",
    "    SessionYadoRawFeature(output_dir=feature_dir, data_loader=dl, mode=\"test\", **cfg.feature.SessionYadoRaw),\n",
    "]\n",
    "\n",
    "train_feat_depend_feats = [\n",
    "    MatchModeCDFeature(output_dir=feature_dir, data_loader=dl, mode=\"train\", **cfg.feature.MatchModeCD)\n",
    "]\n",
    "test_feat_depend_feats = [\n",
    "    MatchModeCDFeature(output_dir=feature_dir, data_loader=dl, mode=\"test\", **cfg.feature.MatchModeCD)\n",
    "]\n",
    "\n",
    "\n",
    "def create_feats(df: pl.DataFrame, feats: list[Feature]):\n",
    "    for feat in feats:\n",
    "        df = feat.fit(df)\n",
    "        feat.save(df)\n",
    "\n",
    "\n",
    "def create_merged_df(df: pl.DataFrame, feats: list[Feature]):\n",
    "    fm = FeatureMerger(output_dir=feature_dir, features=feats, mode=mode)\n",
    "    merged_df = fm.merge(df)\n",
    "    fm.save(merged_df)\n",
    "    return merged_df\n",
    "\n",
    "\n",
    "create_feats(train_df, train_feats)\n",
    "create_feats(train_df, test_feats)\n",
    "train_merged_df = create_merged_df(train_df, train_feats)\n",
    "test_merged_df = create_merged_df(test_df, test_feats)\n",
    "\n",
    "create_feats(train_merged_df, train_feat_depend_feats)\n",
    "create_feats(test_merged_df, test_feat_depend_feats)\n",
    "\n",
    "train_df = create_merged_df(train_df, train_feats + train_feat_depend_feats)\n",
    "test_df = create_merged_df(test_df, test_feats + test_feat_depend_feats)"
   ]
  },
  {
   "cell_type": "code",
   "execution_count": 12,
   "metadata": {},
   "outputs": [
    {
     "name": "stdout",
     "output_type": "stream",
     "text": [
      "(8346159, 48) (8346159,)\n"
     ]
    }
   ],
   "source": [
    "test_pdf = test_df.to_pandas()\n",
    "\n",
    "X_train = train_df.drop([\"fold\", \"label\"]).to_numpy()\n",
    "y_train = train_df[\"label\"].to_numpy().flatten()\n",
    "print(X_train.shape, y_train.shape)"
   ]
  },
  {
   "cell_type": "code",
   "execution_count": 13,
   "metadata": {},
   "outputs": [],
   "source": [
    "from typing import Iterator, Any\n",
    "import pandas as pd\n",
    "from sklearn.model_selection import KFold\n",
    "\n",
    "\n",
    "class ColumnBasedCV:\n",
    "    def __init__(self, dl: AtmaData16Loader):\n",
    "        self.label = dl.load_train_label()\n",
    "\n",
    "    def split(self, X: pl.DataFrame, y: Any, **kwargs: Any) -> Iterator[tuple[np.array, np.array]]:\n",
    "        for fold in range(5):\n",
    "            idx_pair = (\n",
    "                pl.DataFrame(X).join(self.label, on=[\"session_id\"], how=\"left\").with_row_count()[[\"row_nr\", \"fold\"]]\n",
    "            )\n",
    "\n",
    "            train_idx = idx_pair.filter(pl.col(\"fold\") != fold)[\"row_nr\"].to_numpy()\n",
    "            test_idx = idx_pair.filter(pl.col(\"fold\") == fold)[\"row_nr\"].to_numpy()\n",
    "            yield train_idx, test_idx\n",
    "\n",
    "\n",
    "# cv = ColumnBasedCV(dl)\n",
    "cv = KFold(n_splits=5, shuffle=True, random_state=42)"
   ]
  },
  {
   "cell_type": "code",
   "execution_count": 14,
   "metadata": {},
   "outputs": [],
   "source": [
    "# GBDT class\n",
    "from typing import Any, Callable, Literal, TypeAlias\n",
    "from catboost import CatBoost, Pool\n",
    "from lightgbm import LGBMClassifier, LGBMRegressor, LGBMRanker\n",
    "import lightgbm as lgb\n",
    "\n",
    "GBDType: TypeAlias = Literal[\"cat\", \"xgb\", \"lgb\"]\n",
    "TaskType: TypeAlias = Literal[\"bin\", \"reg\", \"multi\", \"rank\"]\n",
    "\n",
    "\n",
    "class GBDT:\n",
    "    def __init__(\n",
    "        self,\n",
    "        gbdt_type: GBDType = \"cat\",\n",
    "        task_type: TaskType = \"bin\",\n",
    "        model_params: dict[str, Any] | None = None,\n",
    "        train_params: dict[str, Any] | None = None,\n",
    "        cv: Callable | None = None,\n",
    "        callbacks: list[Callable] | None = None,\n",
    "        **kwargs: Any,\n",
    "    ):\n",
    "        self.gbt_type = gbdt_type\n",
    "        self.task_type = task_type\n",
    "        self.cv = cv\n",
    "\n",
    "        if self.cv is None:\n",
    "            self.cv = KFold(n_splits=5, shuffle=True, random_state=42)\n",
    "\n",
    "        self.model_params = model_params\n",
    "        self.train_params = train_params\n",
    "        self.callbacks = callbacks\n",
    "        self.kwargs = kwargs\n",
    "\n",
    "\n",
    "class LGB(GBDT):\n",
    "    \"\"\"\n",
    "    ex. callbacks:\n",
    "        callbacks=[\n",
    "            lgb.early_stopping(stopping_rounds=10, verbose=True),\n",
    "            lgb.log_evaluation(10),\n",
    "        ],\n",
    "    ex. train_params: {\"num_boost_round\": 10000}\n",
    "    \"\"\"\n",
    "\n",
    "    def fit(self, X: np.ndarray, y: np.ndarray):\n",
    "        n_classes = len(np.unique(y))\n",
    "        self.models = []\n",
    "        match self.task_type:\n",
    "            case \"bin\" | \"multi\":\n",
    "                self.model = LGBMClassifier(**self.model_params)\n",
    "                oof = np.zeros(shape=(len(y), n_classes), dtype=np.float32)\n",
    "            case \"reg\":\n",
    "                self.model = LGBMRegressor(**self.model_params)\n",
    "                oof = np.zeros(shape=(len(y)), dtype=np.float32)\n",
    "            case \"rank\":\n",
    "                self.model = LGBMRanker(**self.model_params)\n",
    "                oof = np.zeros(shape=(len(y)), dtype=np.float32)\n",
    "\n",
    "        for idx_tr, idx_val in cv.split(X, y):  # type: ignore\n",
    "            X_tr, y_tr = X[idx_tr], y[idx_tr]\n",
    "            X_val, y_val = X[idx_val], y[idx_val]\n",
    "\n",
    "            self.model.fit(\n",
    "                X_tr,\n",
    "                y_tr,\n",
    "                eval_set=[(X_val, y_val)],\n",
    "                callbacks=self.callbacks,  # type: ignore\n",
    "            )\n",
    "\n",
    "            oof[idx_val] = (\n",
    "                self.model.predict_proba(X_val) if self.task_type in (\"bin\", \"multi\") else self.model.predict(X_val)\n",
    "            )\n",
    "            self.models.append(self.model)\n",
    "        return self.models, oof\n",
    "\n",
    "    def predict(self, X: np.ndarray, model_idx: int):\n",
    "        return self.models[model_idx].predict_proba(X)\n",
    "\n",
    "    def feature_importance(self):\n",
    "        return [model.feature_importances_ for model in self.models]\n",
    "\n",
    "\n",
    "class CAT(GBDT):\n",
    "    def fit(self, X: np.ndarray, y: np.ndarray):\n",
    "        n_classes = len(np.unique(y))\n",
    "        self.models = []\n",
    "\n",
    "        match self.task_type:\n",
    "            case \"bin\" | \"multi\":\n",
    "                self.model = CatBoost(params=self.model_params)\n",
    "                oof = np.zeros(shape=(len(y), n_classes), dtype=np.float32)\n",
    "\n",
    "        for idx_tr, idx_val in cv.split(X, y):  # type: ignore\n",
    "            X_tr, y_tr = X[idx_tr], y[idx_tr]\n",
    "            X_val, y_val = X[idx_val], y[idx_val]\n",
    "\n",
    "            clf_train = Pool(X_tr, y_tr)\n",
    "            clf_val = Pool(X_val, y_val)\n",
    "            self.model.fit(clf_train, eval_set=[clf_val])\n",
    "\n",
    "            oof[idx_val] = (\n",
    "                self.model.predict(X_val, prediction_type=\"Probability\")\n",
    "                if self.task_type in (\"bin\", \"multi\")\n",
    "                else self.model.predict(X_val)\n",
    "            )\n",
    "            self.models.append(self.model)\n",
    "        return self.models, oof"
   ]
  },
  {
   "cell_type": "code",
   "execution_count": 15,
   "metadata": {},
   "outputs": [],
   "source": [
    "with initialize(version_base=\"1.3\", config_path=\"../config\"):\n",
    "    cfg = compose(config_name=f\"{exp_name}.yaml\")"
   ]
  },
  {
   "cell_type": "code",
   "execution_count": 16,
   "metadata": {},
   "outputs": [
    {
     "name": "stderr",
     "output_type": "stream",
     "text": [
      "/home/zerebom/.cache/pypoetry/virtualenvs/atma-16-JhU7aZ4q-py3.11/lib/python3.11/site-packages/lightgbm/engine.py:172: UserWarning: Found `num_boost_round` in params. Will use it instead of argument\n",
      "  _log_warning(f\"Found `{alias}` in params. Will use it instead of argument\")\n"
     ]
    },
    {
     "name": "stdout",
     "output_type": "stream",
     "text": [
      "Training until validation scores don't improve for 50 rounds\n",
      "[250]\tvalid_0's binary_logloss: 0.0778836\n",
      "[500]\tvalid_0's binary_logloss: 0.0775624\n",
      "[750]\tvalid_0's binary_logloss: 0.0774429\n",
      "[1000]\tvalid_0's binary_logloss: 0.0774053\n",
      "[1250]\tvalid_0's binary_logloss: 0.0773838\n",
      "Early stopping, best iteration is:\n",
      "[1246]\tvalid_0's binary_logloss: 0.0773835\n"
     ]
    },
    {
     "name": "stderr",
     "output_type": "stream",
     "text": [
      "/home/zerebom/.cache/pypoetry/virtualenvs/atma-16-JhU7aZ4q-py3.11/lib/python3.11/site-packages/lightgbm/engine.py:172: UserWarning: Found `num_boost_round` in params. Will use it instead of argument\n",
      "  _log_warning(f\"Found `{alias}` in params. Will use it instead of argument\")\n"
     ]
    },
    {
     "name": "stdout",
     "output_type": "stream",
     "text": [
      "Training until validation scores don't improve for 50 rounds\n",
      "[250]\tvalid_0's binary_logloss: 0.0781401\n",
      "[500]\tvalid_0's binary_logloss: 0.077822\n",
      "[750]\tvalid_0's binary_logloss: 0.0776708\n",
      "[1000]\tvalid_0's binary_logloss: 0.0776161\n",
      "Early stopping, best iteration is:\n",
      "[1159]\tvalid_0's binary_logloss: 0.0775846\n"
     ]
    },
    {
     "name": "stderr",
     "output_type": "stream",
     "text": [
      "/home/zerebom/.cache/pypoetry/virtualenvs/atma-16-JhU7aZ4q-py3.11/lib/python3.11/site-packages/lightgbm/engine.py:172: UserWarning: Found `num_boost_round` in params. Will use it instead of argument\n",
      "  _log_warning(f\"Found `{alias}` in params. Will use it instead of argument\")\n"
     ]
    },
    {
     "name": "stdout",
     "output_type": "stream",
     "text": [
      "Training until validation scores don't improve for 50 rounds\n",
      "[250]\tvalid_0's binary_logloss: 0.0771798\n",
      "[500]\tvalid_0's binary_logloss: 0.0768517\n",
      "[750]\tvalid_0's binary_logloss: 0.0767022\n",
      "[1000]\tvalid_0's binary_logloss: 0.0766436\n",
      "Early stopping, best iteration is:\n",
      "[1059]\tvalid_0's binary_logloss: 0.0766336\n"
     ]
    },
    {
     "name": "stderr",
     "output_type": "stream",
     "text": [
      "/home/zerebom/.cache/pypoetry/virtualenvs/atma-16-JhU7aZ4q-py3.11/lib/python3.11/site-packages/lightgbm/engine.py:172: UserWarning: Found `num_boost_round` in params. Will use it instead of argument\n",
      "  _log_warning(f\"Found `{alias}` in params. Will use it instead of argument\")\n"
     ]
    },
    {
     "name": "stdout",
     "output_type": "stream",
     "text": [
      "Training until validation scores don't improve for 50 rounds\n",
      "[250]\tvalid_0's binary_logloss: 0.0770918\n",
      "[500]\tvalid_0's binary_logloss: 0.0767191\n",
      "[750]\tvalid_0's binary_logloss: 0.0765826\n",
      "Early stopping, best iteration is:\n",
      "[890]\tvalid_0's binary_logloss: 0.0765247\n"
     ]
    },
    {
     "name": "stderr",
     "output_type": "stream",
     "text": [
      "/home/zerebom/.cache/pypoetry/virtualenvs/atma-16-JhU7aZ4q-py3.11/lib/python3.11/site-packages/lightgbm/engine.py:172: UserWarning: Found `num_boost_round` in params. Will use it instead of argument\n",
      "  _log_warning(f\"Found `{alias}` in params. Will use it instead of argument\")\n"
     ]
    },
    {
     "name": "stdout",
     "output_type": "stream",
     "text": [
      "Training until validation scores don't improve for 50 rounds\n",
      "[250]\tvalid_0's binary_logloss: 0.0775271\n",
      "[500]\tvalid_0's binary_logloss: 0.0772231\n",
      "[750]\tvalid_0's binary_logloss: 0.0770733\n",
      "[1000]\tvalid_0's binary_logloss: 0.0770147\n",
      "Early stopping, best iteration is:\n",
      "[992]\tvalid_0's binary_logloss: 0.077012\n"
     ]
    }
   ],
   "source": [
    "# from scorta.model.gradient_boost import GBTWrapper\n",
    "# gbdt = GBTWrapper(\"lgb\", \"bin\")\n",
    "# models, oof = gbdt.fit(X_train.to_pandas(), y_train.to_pandas(), params=lgm_params, cv=cv)\n",
    "\n",
    "\n",
    "lgb_wrapper = LGB(\n",
    "    gbdt_type=\"lgb\",\n",
    "    task_type=\"bin\",\n",
    "    model_params=cfg.gbdt.lgb.model_params,\n",
    "    train_params=cfg.gbdt.lgb.train_params,\n",
    "    cv=cv,\n",
    "    callbacks=[\n",
    "        lgb.early_stopping(stopping_rounds=50, verbose=True),\n",
    "        lgb.log_evaluation(250),\n",
    "    ],\n",
    ")\n",
    "\n",
    "# cat_wrapper = CAT(\n",
    "#     gbdt_type=\"cat\",\n",
    "#     task_type=\"bin\",\n",
    "#     model_params=dict(cfg.gbdt.cat.model_params),\n",
    "#     train_params=dict(cfg.gbdt.cat.train_params),\n",
    "#     cv=cv,\n",
    "# )\n",
    "models, oof = lgb_wrapper.fit(X_train, y_train)\n",
    "# models, oof = cat_wrapper.fit(X_train, y_train)"
   ]
  },
  {
   "cell_type": "code",
   "execution_count": 17,
   "metadata": {},
   "outputs": [
    {
     "name": "stdout",
     "output_type": "stream",
     "text": [
      "0.3945223365724108\n"
     ]
    }
   ],
   "source": [
    "from atma_16.utils.metrics import mapk\n",
    "\n",
    "oof_df = (\n",
    "    train_df[[\"session_id\", \"yad_no\", \"label\"]]\n",
    "    .with_columns(pl.Series(oof[:, 1]).alias(\"score\"))\n",
    "    .sort([\"session_id\", \"score\"], descending=(False, True))\n",
    "    .filter(pl.col(\"session_id\").is_in(dl.load_train_log()[\"session_id\"].unique().to_numpy()))\n",
    "    .with_columns(pl.col(\"score\").rank(method=\"ordinal\", descending=True).over(\"session_id\").alias(\"rank\"))\n",
    "    .filter(pl.col(\"rank\") <= 10)\n",
    ")\n",
    "\n",
    "oof_lists = oof_df.group_by(\"session_id\", maintain_order=True).agg(pl.col(\"yad_no\"))[\"yad_no\"].to_list()\n",
    "y_true = train_label[\"yad_no\"].to_list()\n",
    "assert len(oof_lists) == len(y_true)\n",
    "oof_score = mapk(y_true, oof_lists, 10)\n",
    "print(oof_score)\n",
    "\n",
    "oof_df.write_parquet(output_dir / f\"oof_{oof_score}.parquet\")"
   ]
  },
  {
   "cell_type": "code",
   "execution_count": 18,
   "metadata": {},
   "outputs": [],
   "source": [
    "import numpy as np\n",
    "\n",
    "# preds = np.array([lgb_wrapper.predict(test_pdf, i) for i in range(5)]).mean(axis=0)\n",
    "preds = np.array([lgb_wrapper.models[i].predict_proba(test_pdf)[:, 1] for i in range(5)]).mean(axis=0)\n",
    "sub = test_df.with_columns(pl.Series(preds).alias(\"score\"))[[\"session_id\", \"yad_no\", \"score\"]]"
   ]
  },
  {
   "cell_type": "code",
   "execution_count": 19,
   "metadata": {},
   "outputs": [
    {
     "name": "stderr",
     "output_type": "stream",
     "text": [
      "/home/zerebom/.cache/pypoetry/virtualenvs/atma-16-JhU7aZ4q-py3.11/src/scorta/scorta/eda/df.py:105: FutureWarning: \n",
      "\n",
      "Passing `palette` without assigning `hue` is deprecated and will be removed in v0.14.0. Assign the `y` variable to `hue` and set `legend=False` for the same effect.\n",
      "\n",
      "  sns.boxenplot(data=feature_importance_df, y=\"column\", x=\"feature_importance\", order=order, ax=ax, palette=\"viridis\")\n"
     ]
    },
    {
     "data": {
      "text/plain": [
       "(<Figure size 1200x960 with 1 Axes>,\n",
       " <Axes: xlabel='feature_importance', ylabel='column'>)"
      ]
     },
     "execution_count": 19,
     "metadata": {},
     "output_type": "execute_result"
    },
    {
     "data": {
      "image/png": "[encoded data removed]",
      "text/plain": [
       "<Figure size 1200x960 with 1 Axes>"
      ]
     },
     "metadata": {},
     "output_type": "display_data"
    }
   ],
   "source": [
    "from scorta.eda import df as eda_df\n",
    "\n",
    "eda_df.visualize_importance(pl.DataFrame(lgb_wrapper.feature_importance()), train_df.drop([\"fold\", \"label\"]))"
   ]
  },
  {
   "cell_type": "code",
   "execution_count": 135,
   "metadata": {},
   "outputs": [
    {
     "data": {
      "text/plain": [
       "<Axes: ylabel='Count'>"
      ]
     },
     "execution_count": 135,
     "metadata": {},
     "output_type": "execute_result"
    },
    {
     "data": {
      "image/png": "[encoded data removed]",
      "text/plain": [
       "<Figure size 640x480 with 1 Axes>"
      ]
     },
     "metadata": {},
     "output_type": "display_data"
    }
   ],
   "source": [
    "import seaborn as sns\n",
    "\n",
    "sns.histplot(preds)\n",
    "sns.histplot(oof[:, 1])"
   ]
  },
  {
   "cell_type": "code",
   "execution_count": 20,
   "metadata": {},
   "outputs": [],
   "source": [
    "sub_lists = (\n",
    "    sub.with_columns(\n",
    "        pl.col(\"score\").rank(method=\"ordinal\", descending=True).over(\"session_id\").alias(\"rank\") - pl.lit(1)\n",
    "    )\n",
    "    .sort([\"session_id\", \"rank\"])\n",
    "    .filter(pl.col(\"rank\") <= 9)\n",
    "    .filter(pl.col(\"session_id\").is_in(dl.load_test_log()[\"session_id\"].unique().to_numpy()))\n",
    "    .group_by(\"session_id\", maintain_order=True)\n",
    "    .agg(\"yad_no\")[\"yad_no\"]\n",
    "    .to_list()\n",
    ")"
   ]
  },
  {
   "cell_type": "code",
   "execution_count": 21,
   "metadata": {},
   "outputs": [],
   "source": [
    "test_top30_yads = (\n",
    "    dl.load_test_log().group_by(\"yad_no\").count().sort(\"count\", descending=True).head(30)[\"yad_no\"].to_list()\n",
    ")\n",
    "\n",
    "seened_dict: dict[int, np.ndarray] = (\n",
    "    dl.load_test_log()\n",
    "    .with_columns([(pl.col(\"seq_no\").max().over(\"session_id\") == pl.col(\"seq_no\")).alias(\"is_last\")])\n",
    "    .filter(~pl.col(\"is_last\"))\n",
    "    .group_by(\"session_id\")\n",
    "    .agg(\"yad_no\")\n",
    "    .sort(\"session_id\")\n",
    "    .to_pandas()\n",
    "    .set_index(\"session_id\")\n",
    "    .to_dict()[\"yad_no\"]\n",
    ")\n",
    "\n",
    "\n",
    "fill_sub_lists = []\n",
    "for idx, sub_list in enumerate(sub_lists):\n",
    "    new_sub_list = []\n",
    "    if sub_list != [None]:\n",
    "        new_sub_list.extend(sub_list)\n",
    "\n",
    "    if len(sub_list) < 10:\n",
    "        if idx in seened_dict:\n",
    "            new_sub_list.extend(list(seened_dict[idx]))\n",
    "        new_sub_list.extend(test_top30_yads[:10])\n",
    "\n",
    "    fill_sub_lists.append(new_sub_list[:10])"
   ]
  },
  {
   "cell_type": "code",
   "execution_count": 22,
   "metadata": {},
   "outputs": [
    {
     "data": {
      "text/plain": [
       "(174700, 10)"
      ]
     },
     "execution_count": 22,
     "metadata": {},
     "output_type": "execute_result"
    }
   ],
   "source": [
    "np.array(fill_sub_lists).shape"
   ]
  },
  {
   "cell_type": "code",
   "execution_count": 23,
   "metadata": {},
   "outputs": [],
   "source": [
    "sample_sub_df = dl.load_sample_submission(\"pd\")\n",
    "sample_sub_df.loc[:, :] = np.array(fill_sub_lists)\n",
    "sample_sub_df.to_csv(f\"../output/{exp_name}/sub_df_{oof_score}_add_feat.csv\", index=False)"
   ]
  },
  {
   "cell_type": "code",
   "execution_count": null,
   "metadata": {},
   "outputs": [],
   "source": []
  }
 ],
 "metadata": {
  "kernelspec": {
   "display_name": "atma-16-GUsyrwfA-py3.11",
   "language": "python",
   "name": "python3"
  },
  "language_info": {
   "codemirror_mode": {
    "name": "ipython",
    "version": 3
   },
   "file_extension": ".py",
   "mimetype": "text/x-python",
   "name": "python",
   "nbconvert_exporter": "python",
   "pygments_lexer": "ipython3",
   "version": "3.11.7"
  }
 },
 "nbformat": 4,
 "nbformat_minor": 2
}
